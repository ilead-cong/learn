{
 "cells": [
  {
   "cell_type": "markdown",
   "metadata": {},
   "source": [
    "linux进阶命令：echo, grep, cut, sort, sed. awk"
   ]
  },
  {
   "cell_type": "markdown",
   "metadata": {},
   "source": [
    "\"echo\"命令"
   ]
  },
  {
   "cell_type": "markdown",
   "metadata": {},
   "source": [
    "-e 激活转义符"
   ]
  },
  {
   "cell_type": "code",
   "execution_count": 2,
   "metadata": {},
   "outputs": [
    {
     "name": "stdout",
     "output_type": "stream",
     "text": [
      "a\tb\tc\r\n",
      "d\te\tf\r\n"
     ]
    }
   ],
   "source": [
    "!echo -e \"a\\tb\\tc\\nd\\te\\tf\""
   ]
  },
  {
   "cell_type": "markdown",
   "metadata": {},
   "source": [
    "打印彩色文字 \n",
    "\\e[1;31m 将颜色设置为红色\n",
    "\\e[0m 将颜色重新置回"
   ]
  },
  {
   "cell_type": "code",
   "execution_count": 3,
   "metadata": {},
   "outputs": [
    {
     "name": "stdout",
     "output_type": "stream",
     "text": [
      "\u001b[1;31mthis is a red text\u001b[0m\r\n"
     ]
    }
   ],
   "source": [
    "!echo -e \"\\e[1;31mthis is a red text\\e[0m\""
   ]
  },
  {
   "cell_type": "markdown",
   "metadata": {},
   "source": [
    "颜色码：重置=0， 黑色=30， 红色=31， 绿色=32， 黄色=33， 蓝色=34 ..."
   ]
  },
  {
   "cell_type": "code",
   "execution_count": 5,
   "metadata": {},
   "outputs": [
    {
     "name": "stdout",
     "output_type": "stream",
     "text": [
      "\u001b[1;42mgreen backgroud\u001b[0m\r\n"
     ]
    }
   ],
   "source": [
    "!echo -e \"\\e[1;42mgreen backgroud\\e[0m\""
   ]
  },
  {
   "cell_type": "markdown",
   "metadata": {},
   "source": [
    "背景色：颜色码：重置=0，黑色=40，红色=41，绿色=42，黄色=43，蓝色=44，洋红=45，青色=46，白色=47"
   ]
  },
  {
   "cell_type": "markdown",
   "metadata": {},
   "source": [
    "文字闪动"
   ]
  },
  {
   "cell_type": "markdown",
   "metadata": {},
   "source": [
    "grep 命令"
   ]
  },
  {
   "cell_type": "markdown",
   "metadata": {},
   "source": [
    "搜索含有特定字符串的文件，并打印出该字符串的行"
   ]
  },
  {
   "cell_type": "code",
   "execution_count": 8,
   "metadata": {},
   "outputs": [
    {
     "name": "stdout",
     "output_type": "stream",
     "text": [
      "a\tb\tc\r\n"
     ]
    }
   ],
   "source": [
    "!grep \"b\" learning_test.txt"
   ]
  },
  {
   "cell_type": "markdown",
   "metadata": {},
   "source": [
    "以递归的方式查找符合条件的文件，并打印出该字符串所在行的内容"
   ]
  },
  {
   "cell_type": "code",
   "execution_count": 13,
   "metadata": {
    "scrolled": true
   },
   "outputs": [
    {
     "name": "stdout",
     "output_type": "stream",
     "text": [
      "./linux-learn/learning_test.txt:a\tb\tc\r\n",
      "./linux-learn/.ipynb_checkpoints/Linux-learning-checkpoint.ipynb: \"metadata\": {},\r\n",
      "./linux-learn/.ipynb_checkpoints/Linux-learning-checkpoint.ipynb: \"nbformat\": 4,\r\n",
      "./linux-learn/.ipynb_checkpoints/Linux-learning-checkpoint.ipynb: \"nbformat_minor\": 4\r\n",
      "./linux-learn/Linux-learning.ipynb:   \"cell_type\": \"markdown\",\r\n",
      "./linux-learn/Linux-learning.ipynb:   \"metadata\": {},\r\n",
      "./linux-learn/Linux-learning.ipynb:   \"cell_type\": \"markdown\",\r\n",
      "./linux-learn/Linux-learning.ipynb:   \"metadata\": {},\r\n",
      "./linux-learn/Linux-learning.ipynb:   \"metadata\": {},\r\n",
      "./linux-learn/Linux-learning.ipynb:     \"name\": \"stdout\",\r\n",
      "./linux-learn/Linux-learning.ipynb:     \"output_type\": \"stream\",\r\n",
      "./linux-learn/Linux-learning.ipynb:      \"a\\tb\\tc\\r\\n\",\r\n",
      "./linux-learn/Linux-learning.ipynb:    \"!echo -e \\\"a\\\\tb\\\\tc\\\\nd\\\\te\\\\tf\\\"\"\r\n",
      "./linux-learn/Linux-learning.ipynb:   \"cell_type\": \"markdown\",\r\n",
      "./linux-learn/Linux-learning.ipynb:   \"metadata\": {},\r\n",
      "./linux-learn/Linux-learning.ipynb:   \"metadata\": {},\r\n",
      "./linux-learn/Linux-learning.ipynb:     \"name\": \"stdout\",\r\n",
      "./linux-learn/Linux-learning.ipynb:     \"output_type\": \"stream\",\r\n",
      "./linux-learn/Linux-learning.ipynb:      \"\\u001b[1;31mthis is a red text\\u001b[0m\\r\\n\"\r\n",
      "./linux-learn/Linux-learning.ipynb:    \"!echo -e \\\"\\\\e[1;31mthis is a red text\\\\e[0m\\\"\"\r\n",
      "./linux-learn/Linux-learning.ipynb:   \"cell_type\": \"markdown\",\r\n",
      "./linux-learn/Linux-learning.ipynb:   \"metadata\": {},\r\n",
      "./linux-learn/Linux-learning.ipynb:   \"metadata\": {},\r\n",
      "./linux-learn/Linux-learning.ipynb:     \"name\": \"stdout\",\r\n",
      "./linux-learn/Linux-learning.ipynb:     \"output_type\": \"stream\",\r\n",
      "./linux-learn/Linux-learning.ipynb:      \"\\u001b[1;42mgreen backgroud\\u001b[0m\\r\\n\"\r\n",
      "./linux-learn/Linux-learning.ipynb:    \"!echo -e \\\"\\\\e[1;42mgreen backgroud\\\\e[0m\\\"\"\r\n",
      "./linux-learn/Linux-learning.ipynb:   \"cell_type\": \"markdown\",\r\n",
      "./linux-learn/Linux-learning.ipynb:   \"metadata\": {},\r\n",
      "./linux-learn/Linux-learning.ipynb:   \"cell_type\": \"markdown\",\r\n",
      "./linux-learn/Linux-learning.ipynb:   \"metadata\": {},\r\n",
      "./linux-learn/Linux-learning.ipynb:   \"cell_type\": \"markdown\",\r\n",
      "./linux-learn/Linux-learning.ipynb:   \"metadata\": {},\r\n",
      "./linux-learn/Linux-learning.ipynb:   \"cell_type\": \"markdown\",\r\n",
      "./linux-learn/Linux-learning.ipynb:   \"metadata\": {},\r\n",
      "./linux-learn/Linux-learning.ipynb:   \"metadata\": {},\r\n",
      "./linux-learn/Linux-learning.ipynb:     \"name\": \"stdout\",\r\n",
      "./linux-learn/Linux-learning.ipynb:     \"output_type\": \"stream\",\r\n",
      "./linux-learn/Linux-learning.ipynb:      \"a\\tb\\tc\\r\\n\"\r\n",
      "./linux-learn/Linux-learning.ipynb:    \"!grep \\\"b\\\" learning_test.txt\"\r\n",
      "./linux-learn/Linux-learning.ipynb:   \"cell_type\": \"markdown\",\r\n",
      "./linux-learn/Linux-learning.ipynb:   \"metadata\": {},\r\n",
      "./linux-learn/Linux-learning.ipynb:   \"metadata\": {},\r\n",
      "./linux-learn/Linux-learning.ipynb:     \"name\": \"stdout\",\r\n",
      "./linux-learn/Linux-learning.ipynb:     \"output_type\": \"stream\",\r\n",
      "./linux-learn/Linux-learning.ipynb:      \"learning_test.txt  Linux-learning.ipynb\\r\\n\"\r\n",
      "./linux-learn/Linux-learning.ipynb: \"metadata\": {\r\n",
      "./linux-learn/Linux-learning.ipynb:   \"display_name\": \"Python 3\",\r\n",
      "./linux-learn/Linux-learning.ipynb:   \"language\": \"python\",\r\n",
      "./linux-learn/Linux-learning.ipynb:   \"name\": \"python3\"\r\n",
      "./linux-learn/Linux-learning.ipynb:  \"language_info\": {\r\n",
      "./linux-learn/Linux-learning.ipynb:    \"name\": \"ipython\",\r\n",
      "./linux-learn/Linux-learning.ipynb:   \"name\": \"python\",\r\n",
      "./linux-learn/Linux-learning.ipynb: \"nbformat\": 4,\r\n",
      "./linux-learn/Linux-learning.ipynb: \"nbformat_minor\": 4\r\n"
     ]
    }
   ],
   "source": [
    "!grep -r \"a\" ./linux-learn/"
   ]
  },
  {
   "cell_type": "markdown",
   "metadata": {},
   "source": [
    "查询不符合条件的行，并打印出来"
   ]
  },
  {
   "cell_type": "code",
   "execution_count": 16,
   "metadata": {},
   "outputs": [
    {
     "name": "stdout",
     "output_type": "stream",
     "text": [
      "./linux-learn/learning_test.txt:d\te\tf\r\n",
      "./linux-learn/.ipynb_checkpoints/Linux-learning-checkpoint.ipynb:{\r\n",
      "./linux-learn/.ipynb_checkpoints/Linux-learning-checkpoint.ipynb: \"cells\": [],\r\n",
      "./linux-learn/.ipynb_checkpoints/Linux-learning-checkpoint.ipynb:}\r\n",
      "./linux-learn/Linux-learning.ipynb:{\r\n",
      "./linux-learn/Linux-learning.ipynb: \"cells\": [\r\n",
      "./linux-learn/Linux-learning.ipynb:  {\r\n",
      "./linux-learn/Linux-learning.ipynb:   \"source\": [\r\n",
      "./linux-learn/Linux-learning.ipynb:    \"\\\"echo\\\"命令\"\r\n",
      "./linux-learn/Linux-learning.ipynb:   ]\r\n",
      "./linux-learn/Linux-learning.ipynb:  },\r\n",
      "./linux-learn/Linux-learning.ipynb:  {\r\n",
      "./linux-learn/Linux-learning.ipynb:   \"source\": [\r\n",
      "./linux-learn/Linux-learning.ipynb:    \"-e 激活转义符\"\r\n",
      "./linux-learn/Linux-learning.ipynb:   ]\r\n",
      "./linux-learn/Linux-learning.ipynb:  },\r\n",
      "./linux-learn/Linux-learning.ipynb:  {\r\n",
      "./linux-learn/Linux-learning.ipynb:   \"cell_type\": \"code\",\r\n",
      "./linux-learn/Linux-learning.ipynb:   \"execution_count\": 2,\r\n",
      "./linux-learn/Linux-learning.ipynb:   \"outputs\": [\r\n",
      "./linux-learn/Linux-learning.ipynb:    {\r\n",
      "./linux-learn/Linux-learning.ipynb:     \"text\": [\r\n",
      "./linux-learn/Linux-learning.ipynb:      \"d\\te\\tf\\r\\n\"\r\n",
      "./linux-learn/Linux-learning.ipynb:     ]\r\n",
      "./linux-learn/Linux-learning.ipynb:    }\r\n",
      "./linux-learn/Linux-learning.ipynb:   ],\r\n",
      "./linux-learn/Linux-learning.ipynb:   \"source\": [\r\n",
      "./linux-learn/Linux-learning.ipynb:   ]\r\n",
      "./linux-learn/Linux-learning.ipynb:  },\r\n",
      "./linux-learn/Linux-learning.ipynb:  {\r\n",
      "./linux-learn/Linux-learning.ipynb:   \"source\": [\r\n",
      "./linux-learn/Linux-learning.ipynb:    \"打印彩色文字 \\n\",\r\n",
      "./linux-learn/Linux-learning.ipynb:    \"\\\\e[1;31m 将颜色设置为红色\\n\",\r\n",
      "./linux-learn/Linux-learning.ipynb:    \"\\\\e[0m 将颜色重新置回\"\r\n",
      "./linux-learn/Linux-learning.ipynb:   ]\r\n",
      "./linux-learn/Linux-learning.ipynb:  },\r\n",
      "./linux-learn/Linux-learning.ipynb:  {\r\n",
      "./linux-learn/Linux-learning.ipynb:   \"cell_type\": \"code\",\r\n",
      "./linux-learn/Linux-learning.ipynb:   \"execution_count\": 3,\r\n",
      "./linux-learn/Linux-learning.ipynb:   \"outputs\": [\r\n",
      "./linux-learn/Linux-learning.ipynb:    {\r\n",
      "./linux-learn/Linux-learning.ipynb:     \"text\": [\r\n",
      "./linux-learn/Linux-learning.ipynb:     ]\r\n",
      "./linux-learn/Linux-learning.ipynb:    }\r\n",
      "./linux-learn/Linux-learning.ipynb:   ],\r\n",
      "./linux-learn/Linux-learning.ipynb:   \"source\": [\r\n",
      "./linux-learn/Linux-learning.ipynb:   ]\r\n",
      "./linux-learn/Linux-learning.ipynb:  },\r\n",
      "./linux-learn/Linux-learning.ipynb:  {\r\n",
      "./linux-learn/Linux-learning.ipynb:   \"source\": [\r\n",
      "./linux-learn/Linux-learning.ipynb:    \"颜色码：重置=0， 黑色=30， 红色=31， 绿色=32， 黄色=33， 蓝色=34 ...\"\r\n",
      "./linux-learn/Linux-learning.ipynb:   ]\r\n",
      "./linux-learn/Linux-learning.ipynb:  },\r\n",
      "./linux-learn/Linux-learning.ipynb:  {\r\n",
      "./linux-learn/Linux-learning.ipynb:   \"cell_type\": \"code\",\r\n",
      "./linux-learn/Linux-learning.ipynb:   \"execution_count\": 5,\r\n",
      "./linux-learn/Linux-learning.ipynb:   \"outputs\": [\r\n",
      "./linux-learn/Linux-learning.ipynb:    {\r\n",
      "./linux-learn/Linux-learning.ipynb:     \"text\": [\r\n",
      "./linux-learn/Linux-learning.ipynb:     ]\r\n",
      "./linux-learn/Linux-learning.ipynb:    }\r\n",
      "./linux-learn/Linux-learning.ipynb:   ],\r\n",
      "./linux-learn/Linux-learning.ipynb:   \"source\": [\r\n",
      "./linux-learn/Linux-learning.ipynb:   ]\r\n",
      "./linux-learn/Linux-learning.ipynb:  },\r\n",
      "./linux-learn/Linux-learning.ipynb:  {\r\n",
      "./linux-learn/Linux-learning.ipynb:   \"source\": [\r\n",
      "./linux-learn/Linux-learning.ipynb:    \"背景色：颜色码：重置=0，黑色=40，红色=41，绿色=42，黄色=43，蓝色=44，洋红=45，青色=46，白色=47\"\r\n",
      "./linux-learn/Linux-learning.ipynb:   ]\r\n",
      "./linux-learn/Linux-learning.ipynb:  },\r\n",
      "./linux-learn/Linux-learning.ipynb:  {\r\n",
      "./linux-learn/Linux-learning.ipynb:   \"source\": [\r\n",
      "./linux-learn/Linux-learning.ipynb:    \"文字闪动\"\r\n",
      "./linux-learn/Linux-learning.ipynb:   ]\r\n",
      "./linux-learn/Linux-learning.ipynb:  },\r\n",
      "./linux-learn/Linux-learning.ipynb:  {\r\n",
      "./linux-learn/Linux-learning.ipynb:   \"source\": [\r\n",
      "./linux-learn/Linux-learning.ipynb:    \"grep 命令\"\r\n",
      "./linux-learn/Linux-learning.ipynb:   ]\r\n",
      "./linux-learn/Linux-learning.ipynb:  },\r\n",
      "./linux-learn/Linux-learning.ipynb:  {\r\n",
      "./linux-learn/Linux-learning.ipynb:   \"source\": [\r\n",
      "./linux-learn/Linux-learning.ipynb:    \"搜索含有特定字符串的文件，并打印出该字符串的行\"\r\n",
      "./linux-learn/Linux-learning.ipynb:   ]\r\n",
      "./linux-learn/Linux-learning.ipynb:  },\r\n",
      "./linux-learn/Linux-learning.ipynb:  {\r\n",
      "./linux-learn/Linux-learning.ipynb:   \"cell_type\": \"code\",\r\n",
      "./linux-learn/Linux-learning.ipynb:   \"execution_count\": 8,\r\n",
      "./linux-learn/Linux-learning.ipynb:   \"outputs\": [\r\n",
      "./linux-learn/Linux-learning.ipynb:    {\r\n",
      "./linux-learn/Linux-learning.ipynb:     \"text\": [\r\n",
      "./linux-learn/Linux-learning.ipynb:     ]\r\n",
      "./linux-learn/Linux-learning.ipynb:    }\r\n",
      "./linux-learn/Linux-learning.ipynb:   ],\r\n",
      "./linux-learn/Linux-learning.ipynb:   \"source\": [\r\n",
      "./linux-learn/Linux-learning.ipynb:   ]\r\n",
      "./linux-learn/Linux-learning.ipynb:  },\r\n",
      "./linux-learn/Linux-learning.ipynb:  {\r\n",
      "./linux-learn/Linux-learning.ipynb:   \"source\": [\r\n",
      "./linux-learn/Linux-learning.ipynb:    \"以递归的方式查找符合条件的文件，并打印出该字符串所在行的内容\"\r\n",
      "./linux-learn/Linux-learning.ipynb:   ]\r\n",
      "./linux-learn/Linux-learning.ipynb:  },\r\n",
      "./linux-learn/Linux-learning.ipynb:  {\r\n",
      "./linux-learn/Linux-learning.ipynb:   \"cell_type\": \"code\",\r\n",
      "./linux-learn/Linux-learning.ipynb:   \"execution_count\": 13,\r\n",
      "./linux-learn/Linux-learning.ipynb:   \"outputs\": [\r\n",
      "./linux-learn/Linux-learning.ipynb:    {\r\n",
      "./linux-learn/Linux-learning.ipynb:     \"text\": [\r\n",
      "./linux-learn/Linux-learning.ipynb:     ]\r\n",
      "./linux-learn/Linux-learning.ipynb:    }\r\n",
      "./linux-learn/Linux-learning.ipynb:   ],\r\n",
      "./linux-learn/Linux-learning.ipynb:   \"source\": [\r\n",
      "./linux-learn/Linux-learning.ipynb:   ]\r\n",
      "./linux-learn/Linux-learning.ipynb:  },\r\n",
      "./linux-learn/Linux-learning.ipynb:  {\r\n",
      "./linux-learn/Linux-learning.ipynb:   \"cell_type\": \"code\",\r\n",
      "./linux-learn/Linux-learning.ipynb:   \"execution_count\": null,\r\n",
      "./linux-learn/Linux-learning.ipynb:   \"outputs\": [],\r\n",
      "./linux-learn/Linux-learning.ipynb:   \"source\": []\r\n",
      "./linux-learn/Linux-learning.ipynb:  }\r\n",
      "./linux-learn/Linux-learning.ipynb: ],\r\n",
      "./linux-learn/Linux-learning.ipynb:  \"kernelspec\": {\r\n",
      "./linux-learn/Linux-learning.ipynb:  },\r\n",
      "./linux-learn/Linux-learning.ipynb:   \"codemirror_mode\": {\r\n",
      "./linux-learn/Linux-learning.ipynb:    \"version\": 3\r\n",
      "./linux-learn/Linux-learning.ipynb:   },\r\n",
      "./linux-learn/Linux-learning.ipynb:   \"file_extension\": \".py\",\r\n",
      "./linux-learn/Linux-learning.ipynb:   \"mimetype\": \"text/x-python\",\r\n",
      "./linux-learn/Linux-learning.ipynb:   \"nbconvert_exporter\": \"python\",\r\n",
      "./linux-learn/Linux-learning.ipynb:   \"pygments_lexer\": \"ipython3\",\r\n",
      "./linux-learn/Linux-learning.ipynb:   \"version\": \"3.6.7\"\r\n",
      "./linux-learn/Linux-learning.ipynb:  }\r\n",
      "./linux-learn/Linux-learning.ipynb: },\r\n",
      "./linux-learn/Linux-learning.ipynb:}\r\n"
     ]
    }
   ],
   "source": [
    "!grep -v -r \"a\" ./linux-learn/"
   ]
  },
  {
   "cell_type": "markdown",
   "metadata": {},
   "source": [
    "-c 计算找到'搜寻字符串'的次数"
   ]
  },
  {
   "cell_type": "code",
   "execution_count": 19,
   "metadata": {},
   "outputs": [
    {
     "name": "stdout",
     "output_type": "stream",
     "text": [
      "1\r\n"
     ]
    }
   ],
   "source": [
    "!grep -c \"a\" learning_test.txt"
   ]
  },
  {
   "cell_type": "markdown",
   "metadata": {},
   "source": [
    "-i 忽略大小的不同，所以大小视为一样"
   ]
  },
  {
   "cell_type": "code",
   "execution_count": 20,
   "metadata": {},
   "outputs": [
    {
     "name": "stdout",
     "output_type": "stream",
     "text": [
      "1\r\n"
     ]
    }
   ],
   "source": [
    "!grep -c  -i \"A\" learning_test.txt"
   ]
  },
  {
   "cell_type": "markdown",
   "metadata": {},
   "source": [
    "-o 只输出匹配部分"
   ]
  },
  {
   "cell_type": "code",
   "execution_count": 44,
   "metadata": {},
   "outputs": [
    {
     "name": "stdout",
     "output_type": "stream",
     "text": [
      "5:google\r\n"
     ]
    }
   ],
   "source": [
    "!grep -o -n 'google' learning_test.txt"
   ]
  },
  {
   "cell_type": "markdown",
   "metadata": {},
   "source": [
    "-n 顺便输出行号"
   ]
  },
  {
   "cell_type": "code",
   "execution_count": 21,
   "metadata": {},
   "outputs": [
    {
     "name": "stdout",
     "output_type": "stream",
     "text": [
      "1:a\tb\tc\r\n"
     ]
    }
   ],
   "source": [
    "!grep -n \"a\" learning_test.txt"
   ]
  },
  {
   "cell_type": "markdown",
   "metadata": {},
   "source": [
    "--color=auto 关键词部分加上颜色"
   ]
  },
  {
   "cell_type": "code",
   "execution_count": 22,
   "metadata": {},
   "outputs": [
    {
     "name": "stdout",
     "output_type": "stream",
     "text": [
      "\u001b[32m\u001b[K1\u001b[m\u001b[K\u001b[36m\u001b[K:\u001b[m\u001b[K\u001b[01;31m\u001b[Ka\u001b[m\u001b[K\tb\tc\r\n"
     ]
    }
   ],
   "source": [
    "!grep -n 'a' --color=auto learning_test.txt"
   ]
  },
  {
   "cell_type": "code",
   "execution_count": 35,
   "metadata": {},
   "outputs": [],
   "source": [
    "!echo -e \"the symbol '*' is represented as start.\" >> learning_test.txt"
   ]
  },
  {
   "cell_type": "markdown",
   "metadata": {},
   "source": [
    "grep 与正规表达式"
   ]
  },
  {
   "cell_type": "markdown",
   "metadata": {},
   "source": [
    "字符类"
   ]
  },
  {
   "cell_type": "markdown",
   "metadata": {},
   "source": [
    "同时搜索带有相同字符串的字符， []"
   ]
  },
  {
   "cell_type": "code",
   "execution_count": 28,
   "metadata": {},
   "outputs": [
    {
     "name": "stdout",
     "output_type": "stream",
     "text": [
      "7:I can't finish the test.\r\n",
      "8:Oh! The soup taste good.\r\n"
     ]
    }
   ],
   "source": [
    "!grep -n 't[ae]st' learning_test.txt"
   ]
  },
  {
   "cell_type": "markdown",
   "metadata": {},
   "source": [
    "字符串的反向选择[^] :如果要搜索到有oo的行，但不想要oo前面的g"
   ]
  },
  {
   "cell_type": "code",
   "execution_count": 29,
   "metadata": {},
   "outputs": [
    {
     "name": "stdout",
     "output_type": "stream",
     "text": [
      "3:apple is my favorite food.\r\n",
      "4:Football game is not use feet only.\r\n",
      "5:google is the best tools for search keyword.\r\n",
      "6:goooooogle yes!\r\n"
     ]
    }
   ],
   "source": [
    "!grep -n '[^g]oo' learning_test.txt"
   ]
  },
  {
   "cell_type": "markdown",
   "metadata": {},
   "source": [
    "当我们在处理一组集合字符时，如果该字节组是连续的，就可以使用[a-z],[A-Z],[0-9]"
   ]
  },
  {
   "cell_type": "code",
   "execution_count": 34,
   "metadata": {},
   "outputs": [
    {
     "name": "stdout",
     "output_type": "stream",
     "text": [
      "10:However, this dress is about $ 3183 dollars.\r\n",
      "11:You are the best is mean you are the no. 1\r\n"
     ]
    }
   ],
   "source": [
    "!grep -n '[0-9]' learning_test.txt #搜索有数字的行"
   ]
  },
  {
   "cell_type": "markdown",
   "metadata": {},
   "source": [
    "行首和行尾 ^ $"
   ]
  },
  {
   "cell_type": "code",
   "execution_count": 36,
   "metadata": {},
   "outputs": [
    {
     "name": "stdout",
     "output_type": "stream",
     "text": [
      "12:the symbol '*' is represented as start.\r\n"
     ]
    }
   ],
   "source": [
    "!grep -n '^the' learning_test.txt #搜索the开头的行"
   ]
  },
  {
   "cell_type": "code",
   "execution_count": 38,
   "metadata": {},
   "outputs": [
    {
     "name": "stdout",
     "output_type": "stream",
     "text": [
      "3:apple is my favorite food.\r\n",
      "4:Football game is not use feet only.\r\n",
      "5:google is the best tools for search keyword.\r\n",
      "7:I can't finish the test.\r\n",
      "8:Oh! The soup taste good.\r\n",
      "10:However, this dress is about $ 3183 dollars.\r\n",
      "12:the symbol '*' is represented as start.\r\n"
     ]
    }
   ],
   "source": [
    "!grep -n '\\.$' learning_test.txt #搜索。结尾的行，因为。有特殊有特殊的用途，所以要加转义符"
   ]
  },
  {
   "cell_type": "markdown",
   "metadata": {},
   "source": [
    "任意一个字节.\n",
    "重复字符*"
   ]
  },
  {
   "cell_type": "code",
   "execution_count": 39,
   "metadata": {},
   "outputs": [
    {
     "name": "stdout",
     "output_type": "stream",
     "text": [
      "8:Oh! The soup taste good.\r\n"
     ]
    }
   ],
   "source": [
    "!grep -n 'g..d' learning_test.txt #寻找g??d的字符"
   ]
  },
  {
   "cell_type": "code",
   "execution_count": 40,
   "metadata": {},
   "outputs": [
    {
     "name": "stdout",
     "output_type": "stream",
     "text": [
      "1:a\tb\tc\r\n",
      "2:d\te\tf\r\n",
      "3:apple is my favorite food.\r\n",
      "4:Football game is not use feet only.\r\n",
      "5:google is the best tools for search keyword.\r\n",
      "6:goooooogle yes!\r\n",
      "7:I can't finish the test.\r\n",
      "8:Oh! The soup taste good.\r\n",
      "9:Football game is not use feet only\r\n",
      "10:However, this dress is about $ 3183 dollars.\r\n",
      "11:You are the best is mean you are the no. 1\r\n",
      "12:the symbol '*' is represented as start.\r\n"
     ]
    }
   ],
   "source": [
    "!grep -n 'o*' learning_test.txt #拥有空字节或一个o以及以上的字节"
   ]
  },
  {
   "cell_type": "code",
   "execution_count": 41,
   "metadata": {},
   "outputs": [
    {
     "name": "stdout",
     "output_type": "stream",
     "text": [
      "3:apple is my favorite food.\r\n",
      "4:Football game is not use feet only.\r\n",
      "5:google is the best tools for search keyword.\r\n",
      "6:goooooogle yes!\r\n",
      "8:Oh! The soup taste good.\r\n",
      "9:Football game is not use feet only\r\n",
      "10:However, this dress is about $ 3183 dollars.\r\n",
      "11:You are the best is mean you are the no. 1\r\n",
      "12:the symbol '*' is represented as start.\r\n"
     ]
    }
   ],
   "source": [
    "!grep -n 'oo*' learning_test.txt #拥有至少一个o以及以上的字节"
   ]
  },
  {
   "cell_type": "code",
   "execution_count": 42,
   "metadata": {},
   "outputs": [
    {
     "name": "stdout",
     "output_type": "stream",
     "text": [
      "5:google is the best tools for search keyword.\r\n"
     ]
    }
   ],
   "source": [
    "!grep -n 'go\\{2,5\\}g' learning_test.txt #找出g后面接2到5个o，然后再接一个g的字符串"
   ]
  },
  {
   "cell_type": "markdown",
   "metadata": {},
   "source": [
    "cut 命令"
   ]
  },
  {
   "cell_type": "markdown",
   "metadata": {},
   "source": [
    "-b：仅显示行中指定直接范围的内容；\n",
    "-c：仅显示行中指定范围的字符；\n",
    "-d：指定字段的分隔符，默认的字段分隔符为“TAB”；\n",
    "-f：显示指定字段的内容；\n",
    "-n：与“-b”选项连用，不分割多字节字符；\n",
    "--complement：补足被选择的字节、字符或字段；"
   ]
  },
  {
   "cell_type": "code",
   "execution_count": 47,
   "metadata": {},
   "outputs": [],
   "source": [
    "!echo -e \"No\\tName\\tMark\\tPercent\\n01\\ttom\\t69\\t91\\n02\\tjack\\t71\\t87\\n03\\talex\\t68\\t98\" > test_cut.txt"
   ]
  },
  {
   "cell_type": "markdown",
   "metadata": {},
   "source": [
    "-f 选项提取指定字段"
   ]
  },
  {
   "cell_type": "code",
   "execution_count": 49,
   "metadata": {},
   "outputs": [
    {
     "name": "stdout",
     "output_type": "stream",
     "text": [
      "No\r\n",
      "01\r\n",
      "02\r\n",
      "03\r\n"
     ]
    }
   ],
   "source": [
    "!cut -f 1 test_cut.txt"
   ]
  },
  {
   "cell_type": "code",
   "execution_count": 50,
   "metadata": {},
   "outputs": [
    {
     "name": "stdout",
     "output_type": "stream",
     "text": [
      "Name\tMark\r\n",
      "tom\t69\r\n",
      "jack\t71\r\n",
      "alex\t68\r\n"
     ]
    }
   ],
   "source": [
    "!cut -f 2,3 test_cut.txt"
   ]
  },
  {
   "cell_type": "markdown",
   "metadata": {},
   "source": [
    "--complement 提取指定字段之外的列"
   ]
  },
  {
   "cell_type": "code",
   "execution_count": 51,
   "metadata": {},
   "outputs": [
    {
     "name": "stdout",
     "output_type": "stream",
     "text": [
      "No\tMark\tPercent\r\n",
      "01\t69\t91\r\n",
      "02\t71\t87\r\n",
      "03\t68\t98\r\n"
     ]
    }
   ],
   "source": [
    "!cut -f 2 --complement test_cut.txt"
   ]
  },
  {
   "cell_type": "code",
   "execution_count": 53,
   "metadata": {},
   "outputs": [],
   "source": [
    "!echo -e \"No;Name;Mark;Percent\\n01;tom;69;91\\n02;jack;71;87\\n03;alex;68;98\" > test_cut2.txt"
   ]
  },
  {
   "cell_type": "markdown",
   "metadata": {},
   "source": [
    "-d 指定字段分隔符，默认tab"
   ]
  },
  {
   "cell_type": "code",
   "execution_count": 54,
   "metadata": {},
   "outputs": [
    {
     "name": "stdout",
     "output_type": "stream",
     "text": [
      "Name\r\n",
      "tom\r\n",
      "jack\r\n",
      "alex\r\n"
     ]
    }
   ],
   "source": [
    "!cut -f2 -d ';' test_cut2.txt"
   ]
  },
  {
   "cell_type": "markdown",
   "metadata": {},
   "source": [
    "指定字段的字符或者字符范围"
   ]
  },
  {
   "cell_type": "code",
   "execution_count": 55,
   "metadata": {},
   "outputs": [],
   "source": [
    "!echo -e \"abcdefghijklmnopqrstuvwxyz\\nabcdefghijklmnopqrstuvwxyz\\nabcdefghijklmnopqrstuvwxyz\\nabcdefghijklmnopqrstuvwxyz\\nabcdefghijklmnopqrstuvwxyz\" > test_cut3.txt"
   ]
  },
  {
   "cell_type": "code",
   "execution_count": 56,
   "metadata": {},
   "outputs": [
    {
     "name": "stdout",
     "output_type": "stream",
     "text": [
      "abc\r\n",
      "abc\r\n",
      "abc\r\n",
      "abc\r\n",
      "abc\r\n"
     ]
    }
   ],
   "source": [
    "!cut -c 1-3 test_cut3.txt"
   ]
  },
  {
   "cell_type": "code",
   "execution_count": 57,
   "metadata": {},
   "outputs": [
    {
     "name": "stdout",
     "output_type": "stream",
     "text": [
      "abc\r\n",
      "abc\r\n",
      "abc\r\n",
      "abc\r\n",
      "abc\r\n"
     ]
    }
   ],
   "source": [
    "!cut -b 1-3 test_cut3.txt"
   ]
  },
  {
   "cell_type": "code",
   "execution_count": 58,
   "metadata": {},
   "outputs": [
    {
     "name": "stdout",
     "output_type": "stream",
     "text": [
      "abcdefghijklmnopqrstuvwxyz\r\n",
      "abcdefghijklmnopqrstuvwxyz\r\n",
      "abcdefghijklmnopqrstuvwxyz\r\n",
      "abcdefghijklmnopqrstuvwxyz\r\n",
      "abcdefghijklmnopqrstuvwxyz\r\n"
     ]
    }
   ],
   "source": [
    "!cut -f 1-3 test_cut3.txt"
   ]
  },
  {
   "cell_type": "code",
   "execution_count": 59,
   "metadata": {},
   "outputs": [],
   "source": [
    "!echo -e \"abcdefghi\\tjklmnopqrstuvwxyz\\nabcdefghi\\tjklmnopqrstuvwxyz\\nabcdefghi\\tjklmnopqrstuvwxyz\\nabcdefghi\\tjklmnopqrstuvwxyz\\nabcdefghi\\tjklmnopqrstuvwxyz\" > test_cut3.txt"
   ]
  },
  {
   "cell_type": "code",
   "execution_count": 60,
   "metadata": {},
   "outputs": [
    {
     "name": "stdout",
     "output_type": "stream",
     "text": [
      "abc\r\n",
      "abc\r\n",
      "abc\r\n",
      "abc\r\n",
      "abc\r\n"
     ]
    }
   ],
   "source": [
    "!cut -b 1-3 test_cut3.txt"
   ]
  },
  {
   "cell_type": "code",
   "execution_count": 63,
   "metadata": {},
   "outputs": [
    {
     "name": "stdout",
     "output_type": "stream",
     "text": [
      "abcdefghi\r\n",
      "abcdefghi\r\n",
      "abcdefghi\r\n",
      "abcdefghi\r\n",
      "abcdefghi\r\n"
     ]
    }
   ],
   "source": [
    "!cut -f 1 test_cut3.txt"
   ]
  },
  {
   "cell_type": "code",
   "execution_count": 65,
   "metadata": {},
   "outputs": [],
   "source": [
    "!echo -e \"我\\t你\\t他\" > test_cut4.txt"
   ]
  },
  {
   "cell_type": "code",
   "execution_count": 68,
   "metadata": {},
   "outputs": [
    {
     "name": "stdout",
     "output_type": "stream",
     "text": [
      "我\r\n"
     ]
    }
   ],
   "source": [
    "!cut -b 1-3 test_cut4.txt"
   ]
  },
  {
   "cell_type": "code",
   "execution_count": 67,
   "metadata": {},
   "outputs": [
    {
     "name": "stdout",
     "output_type": "stream",
     "text": [
      "我\t\r\n"
     ]
    }
   ],
   "source": [
    "!cut -c 1-2 test_cut4.txt"
   ]
  },
  {
   "cell_type": "markdown",
   "metadata": {},
   "source": [
    "UTF-8 编码中，一个英文字符为一个字节，此时-c 和-b 没区别；但是一个中文为三个字节，所以-c = 3(-b)"
   ]
  },
  {
   "cell_type": "markdown",
   "metadata": {},
   "source": [
    "sort命令：从首字符向后，依次按照ASCII码就行比较，最后将它们按照升序输出"
   ]
  },
  {
   "cell_type": "code",
   "execution_count": 69,
   "metadata": {},
   "outputs": [],
   "source": [
    "!echo -e \"banana\\napple\\npear\\norange\" > seq_sort1.txt"
   ]
  },
  {
   "cell_type": "code",
   "execution_count": 70,
   "metadata": {},
   "outputs": [
    {
     "name": "stdout",
     "output_type": "stream",
     "text": [
      "apple\r\n",
      "banana\r\n",
      "orange\r\n",
      "pear\r\n"
     ]
    }
   ],
   "source": [
    "!sort seq_sort1.txt"
   ]
  },
  {
   "cell_type": "markdown",
   "metadata": {},
   "source": [
    "-u 去除重复行后输出"
   ]
  },
  {
   "cell_type": "code",
   "execution_count": 71,
   "metadata": {},
   "outputs": [],
   "source": [
    "!echo -e \"banana\\napple\\npear\\norange\\npear\" > seq_sort2.txt"
   ]
  },
  {
   "cell_type": "code",
   "execution_count": 72,
   "metadata": {},
   "outputs": [
    {
     "name": "stdout",
     "output_type": "stream",
     "text": [
      "apple\r\n",
      "banana\r\n",
      "orange\r\n",
      "pear\r\n",
      "pear\r\n"
     ]
    }
   ],
   "source": [
    "!sort seq_sort2.txt"
   ]
  },
  {
   "cell_type": "code",
   "execution_count": 73,
   "metadata": {},
   "outputs": [
    {
     "name": "stdout",
     "output_type": "stream",
     "text": [
      "apple\r\n",
      "banana\r\n",
      "orange\r\n",
      "pear\r\n"
     ]
    }
   ],
   "source": [
    "!sort -u seq_sort2.txt"
   ]
  },
  {
   "cell_type": "markdown",
   "metadata": {},
   "source": [
    "-r 降序排列"
   ]
  },
  {
   "cell_type": "code",
   "execution_count": 74,
   "metadata": {},
   "outputs": [
    {
     "name": "stdout",
     "output_type": "stream",
     "text": [
      "pear\r\n",
      "orange\r\n",
      "banana\r\n",
      "apple\r\n"
     ]
    }
   ],
   "source": [
    "!sort -r seq_sort1.txt"
   ]
  },
  {
   "cell_type": "markdown",
   "metadata": {},
   "source": [
    "-o 将结果写会原文件"
   ]
  },
  {
   "cell_type": "code",
   "execution_count": 76,
   "metadata": {},
   "outputs": [],
   "source": [
    "!sort -r seq_sort1.txt -o seq_sort1.txt"
   ]
  },
  {
   "cell_type": "code",
   "execution_count": 77,
   "metadata": {},
   "outputs": [
    {
     "name": "stdout",
     "output_type": "stream",
     "text": [
      "pear\r\n",
      "orange\r\n",
      "banana\r\n",
      "apple\r\n"
     ]
    }
   ],
   "source": [
    "!cat seq_sort1.txt"
   ]
  },
  {
   "cell_type": "markdown",
   "metadata": {},
   "source": [
    "-n 按照数值排序"
   ]
  },
  {
   "cell_type": "code",
   "execution_count": 80,
   "metadata": {},
   "outputs": [],
   "source": [
    "!echo -e \"10\\n2\\n3\\n4\\n5\" > seq_sort3.txt"
   ]
  },
  {
   "cell_type": "code",
   "execution_count": 81,
   "metadata": {},
   "outputs": [
    {
     "name": "stdout",
     "output_type": "stream",
     "text": [
      "10\r\n",
      "2\r\n",
      "3\r\n",
      "4\r\n",
      "5\r\n"
     ]
    }
   ],
   "source": [
    "!sort seq_sort3.txt"
   ]
  },
  {
   "cell_type": "code",
   "execution_count": 82,
   "metadata": {},
   "outputs": [
    {
     "name": "stdout",
     "output_type": "stream",
     "text": [
      "2\r\n",
      "3\r\n",
      "4\r\n",
      "5\r\n",
      "10\r\n"
     ]
    }
   ],
   "source": [
    "!sort -n seq_sort3.txt"
   ]
  },
  {
   "cell_type": "markdown",
   "metadata": {},
   "source": [
    "-t 设定分隔符\n",
    "-k 指定列数"
   ]
  },
  {
   "cell_type": "code",
   "execution_count": 89,
   "metadata": {},
   "outputs": [],
   "source": [
    "!echo -e \"banana:30:5.5\\napple:10:2.5\\napple:20:2.5\\npear:90:2.3\\norange:20:3.4\" > seq_sort4.txt"
   ]
  },
  {
   "cell_type": "code",
   "execution_count": 99,
   "metadata": {},
   "outputs": [
    {
     "name": "stdout",
     "output_type": "stream",
     "text": [
      "pear:90:2.3\r\n",
      "banana:30:5.5\r\n",
      "orange:20:3.4\r\n",
      "apple:20:2.5\r\n",
      "apple:10:2.5\r\n"
     ]
    }
   ],
   "source": [
    "!sort -n -k 2r -t : seq_sort4.txt"
   ]
  },
  {
   "cell_type": "code",
   "execution_count": 91,
   "metadata": {},
   "outputs": [
    {
     "name": "stdout",
     "output_type": "stream",
     "text": [
      "banana:30:5.5\r\n",
      "apple:10:2.5\r\n",
      "apple:20:2.5\r\n",
      "pear:90:2.3\r\n",
      "orange:20:3.4\r\n"
     ]
    }
   ],
   "source": [
    "!cat seq_sort4.txt"
   ]
  },
  {
   "cell_type": "code",
   "execution_count": 102,
   "metadata": {},
   "outputs": [
    {
     "name": "stdout",
     "output_type": "stream",
     "text": [
      "pear:90:2.3\r\n",
      "orange:20:3.4\r\n",
      "banana:30:5.5\r\n",
      "apple:20:2.5\r\n",
      "apple:10:2.5\r\n"
     ]
    }
   ],
   "source": [
    "!sort -k 1.3,1.3 -k 2,2nr -t : seq_sort4.txt"
   ]
  },
  {
   "cell_type": "markdown",
   "metadata": {},
   "source": [
    "k start,end #从start列开始，到end列结束\n",
    "k start.base1,end.base2 #从start列的base1个字符开始，到end列的base2字符结束"
   ]
  },
  {
   "cell_type": "markdown",
   "metadata": {},
   "source": [
    "sed 命令"
   ]
  },
  {
   "cell_type": "markdown",
   "metadata": {},
   "source": [
    "参数说明"
   ]
  },
  {
   "cell_type": "markdown",
   "metadata": {},
   "source": [
    "-e <script>或--expression=<script> 以选项中指定的script来处理输入的文本文件。\n",
    "-f <script文件>或--file=<script文件> 以选项中指定的script文件来处理输入的文本文件。\n",
    "\n",
    "-n或--quiet或--silent 仅显示script处理后的结果"
   ]
  },
  {
   "cell_type": "markdown",
   "metadata": {},
   "source": [
    "动作说明"
   ]
  },
  {
   "cell_type": "markdown",
   "metadata": {},
   "source": [
    "a ：新增， a 的后面可以接字串，而这些字串会在新的一行出现(目前的下一行)～\n",
    "c ：取代， c 的后面可以接字串，这些字串可以取代 n1,n2 之间的行！\n",
    "d ：删除，因为是删除啊，所以 d 后面通常不接任何咚咚；\n",
    "i ：插入， i 的后面可以接字串，而这些字串会在新的一行出现(目前的上一行)；\n",
    "p ：打印，亦即将某个选择的数据印出。通常 p 会与参数 sed -n 一起运行～\n",
    "s ：取代，可以直接进行取代的工作哩！通常这个 s 的动作可以搭配正规表示法！例如 1,20s/old/new/g 就是啦"
   ]
  },
  {
   "cell_type": "code",
   "execution_count": 153,
   "metadata": {},
   "outputs": [],
   "source": [
    "!echo -e 'HELLO\\tLINUX!\\nLinux\\tis\\ta\\tfree\\tunix-type\\topterating\\tsystem.\\nThis\\tis\\ta\\tlinux\\ttestfile!\\nLinux\\ttest' > test_sed1.txt"
   ]
  },
  {
   "cell_type": "code",
   "execution_count": 154,
   "metadata": {},
   "outputs": [
    {
     "name": "stdout",
     "output_type": "stream",
     "text": [
      "HELLO\tLINUX!\r\n",
      "Linux\tis\ta\tfree\tunix-type\topterating\tsystem.\r\n",
      "This\tis\ta\tlinux\ttestfile!\r\n",
      "Linux\ttest\r\n"
     ]
    }
   ],
   "source": [
    "!cat test_sed1.txt"
   ]
  },
  {
   "cell_type": "code",
   "execution_count": 155,
   "metadata": {},
   "outputs": [
    {
     "name": "stdout",
     "output_type": "stream",
     "text": [
      "HELLO\tLINUX!\r\n",
      "Linux\tis\ta\tfree\tunix-type\topterating\tsystem.\r\n",
      "This\tis\ta\tlinux\ttestfile!\r\n",
      "Linux\ttest\r\n",
      "newline\r\n"
     ]
    }
   ],
   "source": [
    "!sed -e 4a\\newline test_sed1.txt"
   ]
  },
  {
   "cell_type": "code",
   "execution_count": 156,
   "metadata": {},
   "outputs": [
    {
     "name": "stdout",
     "output_type": "stream",
     "text": [
      "HELLO\tLINUX!\r\n",
      "Linux\tis\ta\tfree\tunix-type\topterating\tsystem.\r\n",
      "This\tis\ta\tlinux\ttestfile!\r\n",
      "Linux\ttest\r\n",
      "newline\r\n"
     ]
    }
   ],
   "source": [
    "!sed -e '4a\\newline' test_sed1.txt"
   ]
  },
  {
   "cell_type": "code",
   "execution_count": 157,
   "metadata": {},
   "outputs": [
    {
     "name": "stdout",
     "output_type": "stream",
     "text": [
      "HELLO\tLINUX!\r\n",
      "Linux\ttest\r\n"
     ]
    }
   ],
   "source": [
    "!sed -e 2,3d test_sed1.txt #删除2-3行"
   ]
  },
  {
   "cell_type": "code",
   "execution_count": 159,
   "metadata": {},
   "outputs": [
    {
     "name": "stdout",
     "output_type": "stream",
     "text": [
      "HELLO\tLINUX!\r\n",
      "Linux\tis\ta\tfree\tunix-type\topterating\tsystem.\r\n",
      "drink tea\r\n",
      "This\tis\ta\tlinux\ttestfile!\r\n",
      "Linux\ttest\r\n"
     ]
    }
   ],
   "source": [
    "!sed -e '2a drink tea' test_sed1.txt #在第二行后添加drink tea"
   ]
  },
  {
   "cell_type": "code",
   "execution_count": 161,
   "metadata": {},
   "outputs": [
    {
     "name": "stdout",
     "output_type": "stream",
     "text": [
      "HELLO\tLINUX!\r\n",
      "drink tea\r\n",
      "Linux\tis\ta\tfree\tunix-type\topterating\tsystem.\r\n",
      "This\tis\ta\tlinux\ttestfile!\r\n",
      "Linux\ttest\r\n"
     ]
    }
   ],
   "source": [
    "!sed -e '2i drink tea' test_sed1.txt #在第二行前添加drink tea"
   ]
  },
  {
   "cell_type": "markdown",
   "metadata": {},
   "source": [
    "添加两行，使用反斜杠隔开\\"
   ]
  },
  {
   "cell_type": "code",
   "execution_count": 167,
   "metadata": {},
   "outputs": [
    {
     "name": "stdout",
     "output_type": "stream",
     "text": [
      "HELLO\tLINUX!\r\n",
      "Linux\tis\ta\tfree\tunix-type\topterating\tsystem.\r\n",
      "drink tea or \r\n",
      "drink beer?\r\n",
      "This\tis\ta\tlinux\ttestfile!\r\n",
      "Linux\ttest\r\n"
     ]
    }
   ],
   "source": [
    "!sed -e '2a drink tea or \\ndrink beer?' test_sed1.txt "
   ]
  },
  {
   "cell_type": "markdown",
   "metadata": {},
   "source": [
    "以行为单位的替换和显示"
   ]
  },
  {
   "cell_type": "code",
   "execution_count": 169,
   "metadata": {},
   "outputs": [
    {
     "name": "stdout",
     "output_type": "stream",
     "text": [
      "HELLO\tLINUX!\r\n",
      "no 2-5 number\r\n",
      "Linux\ttest\r\n"
     ]
    }
   ],
   "source": [
    "!sed -e '2,3c no 2-5 number' test_sed1.txt"
   ]
  },
  {
   "cell_type": "markdown",
   "metadata": {},
   "source": [
    "打印文件的某些行"
   ]
  },
  {
   "cell_type": "code",
   "execution_count": 170,
   "metadata": {},
   "outputs": [
    {
     "name": "stdout",
     "output_type": "stream",
     "text": [
      "Linux\tis\ta\tfree\tunix-type\topterating\tsystem.\r\n",
      "This\tis\ta\tlinux\ttestfile!\r\n"
     ]
    }
   ],
   "source": [
    "!sed -n '2,3p' test_sed1.txt"
   ]
  },
  {
   "cell_type": "markdown",
   "metadata": {},
   "source": [
    "数据的搜索并显示"
   ]
  },
  {
   "cell_type": "code",
   "execution_count": 173,
   "metadata": {},
   "outputs": [],
   "source": [
    "!echo -e 'root:x:0:0:root:/root:/bin/bash\\nroot:x:0:0:root:/root:/bin/bash\\ndaemon:x:1:1:daemon:/usr/sbin:/bin/sh\\nbin:x:2:2:bin:/bin:/bin/sh\\nsys:x:3:3:sys:/dev:/bin/sh\\nsync:x:4:65534:sync:/bin:/bin/sync' > test_sed2.txt "
   ]
  },
  {
   "cell_type": "code",
   "execution_count": 175,
   "metadata": {},
   "outputs": [
    {
     "name": "stdout",
     "output_type": "stream",
     "text": [
      "root:x:0:0:root:/root:/bin/bash\r\n",
      "root:x:0:0:root:/root:/bin/bash\r\n"
     ]
    }
   ],
   "source": [
    "!sed  -n '/root/p' test_sed2.txt"
   ]
  },
  {
   "cell_type": "markdown",
   "metadata": {},
   "source": [
    "数据的搜索并删除"
   ]
  },
  {
   "cell_type": "code",
   "execution_count": 176,
   "metadata": {},
   "outputs": [
    {
     "name": "stdout",
     "output_type": "stream",
     "text": [
      "daemon:x:1:1:daemon:/usr/sbin:/bin/sh\r\n",
      "bin:x:2:2:bin:/bin:/bin/sh\r\n",
      "sys:x:3:3:sys:/dev:/bin/sh\r\n",
      "sync:x:4:65534:sync:/bin:/bin/sync\r\n"
     ]
    }
   ],
   "source": [
    "!sed '/root/d' test_sed2.txt #删除含有root的行"
   ]
  },
  {
   "cell_type": "markdown",
   "metadata": {},
   "source": [
    "数据的搜寻并替换"
   ]
  },
  {
   "cell_type": "markdown",
   "metadata": {},
   "source": [
    "sed 's/要被取代的字符串/新的字符串/g'"
   ]
  },
  {
   "cell_type": "code",
   "execution_count": 177,
   "metadata": {},
   "outputs": [
    {
     "name": "stdout",
     "output_type": "stream",
     "text": [
      "root_change:x:0:0:root_change:/root_change:/bin/bash\r\n",
      "root_change:x:0:0:root_change:/root_change:/bin/bash\r\n",
      "daemon:x:1:1:daemon:/usr/sbin:/bin/sh\r\n",
      "bin:x:2:2:bin:/bin:/bin/sh\r\n",
      "sys:x:3:3:sys:/dev:/bin/sh\r\n",
      "sync:x:4:65534:sync:/bin:/bin/sync\r\n"
     ]
    }
   ],
   "source": [
    "!sed 's/root/root_change/g' test_sed2.txt"
   ]
  },
  {
   "cell_type": "code",
   "execution_count": 178,
   "metadata": {},
   "outputs": [
    {
     "name": "stdout",
     "output_type": "stream",
     "text": [
      "root:x:0:0:root:/root:/bin/bash\r\n",
      "root:x:0:0:root:/root:/bin/bash\r\n",
      "daemon:x:1:1:daemon:/usr/sbin:/bin/sh\r\n",
      "bin:x:2:2:bin:/bin:/bin/sh\r\n",
      "sys:x:3:3:sys:/dev:/bin/sh\r\n",
      "sync:x:4:65534:sync:/bin:/bin/sync\r\n"
     ]
    }
   ],
   "source": [
    "!cat test_sed2.txt"
   ]
  },
  {
   "cell_type": "markdown",
   "metadata": {},
   "source": [
    "sed -i 直接修改原文件内容"
   ]
  },
  {
   "cell_type": "code",
   "execution_count": 179,
   "metadata": {},
   "outputs": [],
   "source": [
    "!sed -i 's/root/root_change/g' test_sed2.txt"
   ]
  },
  {
   "cell_type": "code",
   "execution_count": 180,
   "metadata": {},
   "outputs": [
    {
     "name": "stdout",
     "output_type": "stream",
     "text": [
      "root_change:x:0:0:root_change:/root_change:/bin/bash\r\n",
      "root_change:x:0:0:root_change:/root_change:/bin/bash\r\n",
      "daemon:x:1:1:daemon:/usr/sbin:/bin/sh\r\n",
      "bin:x:2:2:bin:/bin:/bin/sh\r\n",
      "sys:x:3:3:sys:/dev:/bin/sh\r\n",
      "sync:x:4:65534:sync:/bin:/bin/sync\r\n"
     ]
    }
   ],
   "source": [
    "!cat test_sed2.txt"
   ]
  },
  {
   "cell_type": "markdown",
   "metadata": {},
   "source": [
    "awk 命令"
   ]
  },
  {
   "cell_type": "markdown",
   "metadata": {},
   "source": [
    "awk工作流程：读入有换行符分割的一条记录，然后将记录安装指定的域分隔符划分开来；分隔符由-F指定，默认为空格或者tab键；$0表示所有域，$n表示第n个。"
   ]
  },
  {
   "cell_type": "code",
   "execution_count": 181,
   "metadata": {},
   "outputs": [
    {
     "name": "stdout",
     "output_type": "stream",
     "text": [
      "this\r\n"
     ]
    }
   ],
   "source": [
    "!echo -e 'this is a test !' | awk '{print$1}'"
   ]
  },
  {
   "cell_type": "code",
   "execution_count": 183,
   "metadata": {},
   "outputs": [],
   "source": [
    "!echo -e 'root:x:0:0:root:/root:/usr/bin/zsh\\ndaemon:x:1:1:daemon:/usr/sbin:/usr/sbin/nologin\\nbin:x:2:2:bin:/bin:/usr/sbin/nologin\\nsys:x:3:3:sys:/dev:/usr/sbin/nologin\\nsync:x:4:65534:sync:/bin:/bin/sync' > test_awk1.txt"
   ]
  },
  {
   "cell_type": "code",
   "execution_count": 184,
   "metadata": {},
   "outputs": [
    {
     "name": "stdout",
     "output_type": "stream",
     "text": [
      "root\r\n",
      "daemon\r\n",
      "bin\r\n",
      "sys\r\n",
      "sync\r\n"
     ]
    }
   ],
   "source": [
    "!awk -F ':' '{print$1}' test_awk1.txt"
   ]
  },
  {
   "cell_type": "markdown",
   "metadata": {},
   "source": [
    "变量NF表示当前行有多少个字段，$NF代表最后一个字段"
   ]
  },
  {
   "cell_type": "code",
   "execution_count": 187,
   "metadata": {},
   "outputs": [
    {
     "name": "stdout",
     "output_type": "stream",
     "text": [
      "7\r\n",
      "7\r\n",
      "7\r\n",
      "7\r\n",
      "7\r\n"
     ]
    }
   ],
   "source": [
    "!awk -F ':' '{print NF}' test_awk1.txt "
   ]
  },
  {
   "cell_type": "code",
   "execution_count": 188,
   "metadata": {},
   "outputs": [
    {
     "name": "stdout",
     "output_type": "stream",
     "text": [
      "/usr/bin/zsh\r\n",
      "/usr/sbin/nologin\r\n",
      "/usr/sbin/nologin\r\n",
      "/usr/sbin/nologin\r\n",
      "/bin/sync\r\n"
     ]
    }
   ],
   "source": [
    "!awk -F ':' '{print$NF}' test_awk1.txt "
   ]
  },
  {
   "cell_type": "markdown",
   "metadata": {},
   "source": [
    "NR表示当前处理的是第几行"
   ]
  },
  {
   "cell_type": "code",
   "execution_count": 191,
   "metadata": {},
   "outputs": [
    {
     "name": "stdout",
     "output_type": "stream",
     "text": [
      "1 root\r\n",
      "2 daemon\r\n",
      "3 bin\r\n",
      "4 sys\r\n",
      "5 sync\r\n"
     ]
    }
   ],
   "source": [
    "!awk -F ':' '{print NR \" \" $1}' test_awk1.txt"
   ]
  },
  {
   "cell_type": "markdown",
   "metadata": {},
   "source": [
    "toupper()将字符转为大写"
   ]
  },
  {
   "cell_type": "code",
   "execution_count": 193,
   "metadata": {},
   "outputs": [
    {
     "name": "stdout",
     "output_type": "stream",
     "text": [
      "1 ROOT\r\n",
      "2 DAEMON\r\n",
      "3 BIN\r\n",
      "4 SYS\r\n",
      "5 SYNC\r\n"
     ]
    }
   ],
   "source": [
    "!awk -F ':' '{print NR \" \" toupper($1)}' test_awk1.txt"
   ]
  },
  {
   "cell_type": "markdown",
   "metadata": {},
   "source": [
    "tolower()：字符转为小写。\n",
    "length()：返回字符串长度。\n",
    "substr()：返回子字符串。\n",
    "sin()：正弦。\n",
    "cos()：余弦。\n",
    "sqrt()：平方根。\n",
    "rand()：随机数"
   ]
  },
  {
   "cell_type": "markdown",
   "metadata": {},
   "source": [
    "条件：输出符合条件的行"
   ]
  },
  {
   "cell_type": "code",
   "execution_count": 210,
   "metadata": {},
   "outputs": [
    {
     "name": "stdout",
     "output_type": "stream",
     "text": [
      "daemon:x:1:1:daemon:/usr/sbin:/usr/sbin/nologin\r\n"
     ]
    }
   ],
   "source": [
    "!awk -F ':' '$1 == \"daemon\" {print$0}' test_awk1.txt #输出含有/usr/的行"
   ]
  },
  {
   "cell_type": "code",
   "execution_count": 206,
   "metadata": {},
   "outputs": [
    {
     "name": "stdout",
     "output_type": "stream",
     "text": [
      "2 daemon:x:1:1:daemon:/usr/sbin:/usr/sbin/nologin\r\n",
      "4 sys:x:3:3:sys:/dev:/usr/sbin/nologin\r\n"
     ]
    }
   ],
   "source": [
    "!awk -F ':' 'NR % 2 == 0 {print NR \" \" $0}' test_awk1.txt"
   ]
  },
  {
   "cell_type": "markdown",
   "metadata": {},
   "source": [
    "if语句"
   ]
  },
  {
   "cell_type": "code",
   "execution_count": 211,
   "metadata": {},
   "outputs": [
    {
     "name": "stdout",
     "output_type": "stream",
     "text": [
      "bin:x:2:2:bin:/bin:/usr/sbin/nologin\r\n",
      "sys:x:3:3:sys:/dev:/usr/sbin/nologin\r\n",
      "sync:x:4:65534:sync:/bin:/bin/sync\r\n"
     ]
    }
   ],
   "source": [
    "!awk -F ':' '{if (NR > 2) print$0}' test_awk1.txt"
   ]
  },
  {
   "cell_type": "code",
   "execution_count": null,
   "metadata": {},
   "outputs": [],
   "source": []
  }
 ],
 "metadata": {
  "kernelspec": {
   "display_name": "Python 3",
   "language": "python",
   "name": "python3"
  },
  "language_info": {
   "codemirror_mode": {
    "name": "ipython",
    "version": 3
   },
   "file_extension": ".py",
   "mimetype": "text/x-python",
   "name": "python",
   "nbconvert_exporter": "python",
   "pygments_lexer": "ipython3",
   "version": "3.6.7"
  }
 },
 "nbformat": 4,
 "nbformat_minor": 4
}
