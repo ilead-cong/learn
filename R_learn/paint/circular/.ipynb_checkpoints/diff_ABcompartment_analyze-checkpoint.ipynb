{
 "cells": [
  {
   "cell_type": "markdown",
   "id": "57aa2cbc",
   "metadata": {},
   "source": [
    "## AB compartment  \n",
    "a -> b  \n",
    "b -> a  \n",
    "20220309  \n",
    "padj value < 0.05  \n",
    "GFP -> IN  "
   ]
  },
  {
   "cell_type": "code",
   "execution_count": 5,
   "id": "f203fbe0",
   "metadata": {},
   "outputs": [
    {
     "name": "stdout",
     "output_type": "stream",
     "text": [
      "2376 differential.intra_sample_combined.Filtered.pcQnm.bedGraph\r\n"
     ]
    }
   ],
   "source": [
    "!wc -l differential.intra_sample_combined.Filtered.pcQnm.bedGraph"
   ]
  },
  {
   "cell_type": "code",
   "execution_count": 6,
   "id": "5b8e5786",
   "metadata": {},
   "outputs": [
    {
     "name": "stdout",
     "output_type": "stream",
     "text": [
      "34942 IN_80kb_all_chr.pc.bedGraph\r\n"
     ]
    }
   ],
   "source": [
    "!wc -l IN_80kb_all_chr.pc.bedGraph"
   ]
  },
  {
   "cell_type": "code",
   "execution_count": 7,
   "id": "e2640dde",
   "metadata": {},
   "outputs": [
    {
     "name": "stdout",
     "output_type": "stream",
     "text": [
      "34950 GFP_80kb_all_chr.pc.bedGraph\r\n"
     ]
    }
   ],
   "source": [
    "!wc -l GFP_80kb_all_chr.pc.bedGraph"
   ]
  },
  {
   "cell_type": "code",
   "execution_count": 8,
   "id": "e9c9969f",
   "metadata": {},
   "outputs": [
    {
     "name": "stdout",
     "output_type": "stream",
     "text": [
      "chr10\t0\t80000\t1.86920813618282\r\n",
      "chr10\t80000\t160000\t-9.47141568562683\r\n",
      "chr10\t160000\t240000\t-17.847325926945\r\n",
      "chr10\t240000\t320000\t25.7712086011652\r\n",
      "chr10\t320000\t400000\t23.3356711527406\r\n"
     ]
    }
   ],
   "source": [
    "! head -n 5 IN_80kb_all_chr.pc.bedGraph"
   ]
  },
  {
   "cell_type": "code",
   "execution_count": 9,
   "id": "379fcfc6",
   "metadata": {},
   "outputs": [
    {
     "name": "stdout",
     "output_type": "stream",
     "text": [
      "chr10\t0\t80000\t13.5309636467748\r\n",
      "chr10\t80000\t160000\t15.8472565848483\r\n",
      "chr10\t160000\t240000\t15.8686800507166\r\n",
      "chr10\t240000\t320000\t17.8402593899942\r\n",
      "chr10\t320000\t400000\t10.2949585015067\r\n"
     ]
    }
   ],
   "source": [
    "! head -n 5 GFP_80kb_all_chr.pc.bedGraph"
   ]
  },
  {
   "cell_type": "code",
   "execution_count": 11,
   "id": "e724213b",
   "metadata": {},
   "outputs": [],
   "source": [
    "line_list = []"
   ]
  },
  {
   "cell_type": "code",
   "execution_count": 12,
   "id": "b4b41014",
   "metadata": {},
   "outputs": [],
   "source": [
    "with open(\"differential.intra_sample_combined.Filtered.pcQnm.bedGraph\", \"r\") as f1:\n",
    "    for line in f1:\n",
    "        line_list.append(line.strip())"
   ]
  },
  {
   "cell_type": "code",
   "execution_count": 16,
   "id": "a392a07d",
   "metadata": {},
   "outputs": [],
   "source": [
    "line_list = line_list[1:]"
   ]
  },
  {
   "cell_type": "code",
   "execution_count": 18,
   "id": "e110f49d",
   "metadata": {},
   "outputs": [
    {
     "data": {
      "text/plain": [
       "['chr1',\n",
       " '1280000',\n",
       " '1360000',\n",
       " '1.17616',\n",
       " '2.41512',\n",
       " '1.17616',\n",
       " '2.41512',\n",
       " '12.1110095955866',\n",
       " '0.000501249889321394',\n",
       " '0.00911075360480772',\n",
       " '2']"
      ]
     },
     "execution_count": 18,
     "metadata": {},
     "output_type": "execute_result"
    }
   ],
   "source": [
    "line_list[0].split(\"\\t\")"
   ]
  },
  {
   "cell_type": "code",
   "execution_count": 20,
   "id": "057a4096",
   "metadata": {},
   "outputs": [],
   "source": [
    "location_str_list = []\n",
    "with open(\"diff_ABcompartment_location.bed\", \"w\") as f2:\n",
    "    for base in line_list:\n",
    "        base_list = base.split(\"\\t\")\n",
    "        location_str = f\"{base_list[0]}_{base_list[1]}_{base_list[2]}\"\n",
    "        location_str_list.append(location_str)\n",
    "        f2.write(base_list[0] + '\\t')\n",
    "        f2.write(base_list[1] + '\\t')\n",
    "        f2.write(base_list[2] + '\\n')"
   ]
  },
  {
   "cell_type": "code",
   "execution_count": 21,
   "id": "dbfa6ffd",
   "metadata": {},
   "outputs": [
    {
     "data": {
      "text/plain": [
       "['chr1_1280000_1360000', 'chr1_11760000_11840000', 'chr1_12960000_13040000']"
      ]
     },
     "execution_count": 21,
     "metadata": {},
     "output_type": "execute_result"
    }
   ],
   "source": [
    "location_str_list[0:3]"
   ]
  },
  {
   "cell_type": "code",
   "execution_count": 23,
   "id": "504d9f9e",
   "metadata": {},
   "outputs": [],
   "source": [
    "dict_IN = {}\n",
    "with open(\"IN_80kb_all_chr.pc.bedGraph\", \"r\") as f3:\n",
    "    for base in f3:\n",
    "        base_list = base.strip().split('\\t')\n",
    "        location_str = f\"{base_list[0]}_{base_list[1]}_{base_list[2]}\"\n",
    "        dict_IN[location_str] = eval(base_list[3])"
   ]
  },
  {
   "cell_type": "code",
   "execution_count": 24,
   "id": "cc063654",
   "metadata": {},
   "outputs": [],
   "source": [
    "dict_GFP = {}\n",
    "with open(\"GFP_80kb_all_chr.pc.bedGraph\", \"r\") as f4:\n",
    "    for base in f4:\n",
    "        base_list = base.strip().split('\\t')\n",
    "        location_str = f\"{base_list[0]}_{base_list[1]}_{base_list[2]}\"\n",
    "        dict_GFP[location_str] = eval(base_list[3])"
   ]
  },
  {
   "cell_type": "code",
   "execution_count": 25,
   "id": "5cfd26fd",
   "metadata": {},
   "outputs": [
    {
     "data": {
      "text/plain": [
       "12.7628500528306"
      ]
     },
     "execution_count": 25,
     "metadata": {},
     "output_type": "execute_result"
    }
   ],
   "source": [
    "dict_IN[\"chr1_1280000_1360000\"]"
   ]
  },
  {
   "cell_type": "code",
   "execution_count": 26,
   "id": "962c7dff",
   "metadata": {},
   "outputs": [
    {
     "data": {
      "text/plain": [
       "33.2133265092693"
      ]
     },
     "execution_count": 26,
     "metadata": {},
     "output_type": "execute_result"
    }
   ],
   "source": [
    "dict_GFP[\"chr1_1280000_1360000\"]"
   ]
  },
  {
   "cell_type": "code",
   "execution_count": 33,
   "id": "3cf4766b",
   "metadata": {},
   "outputs": [],
   "source": [
    "AtoB = []\n",
    "BtoA = []\n",
    "AtoA = []\n",
    "BtoB = []\n",
    "for location in location_str_list:\n",
    "    if (dict_IN[location] < 0) and (dict_GFP[location] > 0):# GFP(A) -> IN(B)\n",
    "        AtoB.append(location)\n",
    "    elif (dict_IN[location] > 0) and (dict_GFP[location] < 0):# GFP(B) -> IN(A)\n",
    "        BtoA.append(location)\n",
    "    elif (dict_IN[location] > 0) and (dict_GFP[location] > 0):# GFP(A) -> IN(A)\n",
    "        AtoA.append(location)\n",
    "    elif (dict_IN[location] < 0) and (dict_GFP[location] < 0):# GFP(B) -> IN(B)\n",
    "        BtoB.append(location)"
   ]
  },
  {
   "cell_type": "code",
   "execution_count": 34,
   "id": "0246f699",
   "metadata": {},
   "outputs": [
    {
     "data": {
      "text/plain": [
       "904"
      ]
     },
     "execution_count": 34,
     "metadata": {},
     "output_type": "execute_result"
    }
   ],
   "source": [
    "len(AtoB)"
   ]
  },
  {
   "cell_type": "code",
   "execution_count": 35,
   "id": "0b3fb9e4",
   "metadata": {},
   "outputs": [
    {
     "data": {
      "text/plain": [
       "657"
      ]
     },
     "execution_count": 35,
     "metadata": {},
     "output_type": "execute_result"
    }
   ],
   "source": [
    "len(BtoA)"
   ]
  },
  {
   "cell_type": "code",
   "execution_count": 36,
   "id": "79badf9a",
   "metadata": {},
   "outputs": [
    {
     "data": {
      "text/plain": [
       "471"
      ]
     },
     "execution_count": 36,
     "metadata": {},
     "output_type": "execute_result"
    }
   ],
   "source": [
    "len(AtoA)"
   ]
  },
  {
   "cell_type": "code",
   "execution_count": 37,
   "id": "26f9c639",
   "metadata": {},
   "outputs": [
    {
     "data": {
      "text/plain": [
       "343"
      ]
     },
     "execution_count": 37,
     "metadata": {},
     "output_type": "execute_result"
    }
   ],
   "source": [
    "len(BtoB)"
   ]
  },
  {
   "cell_type": "markdown",
   "id": "581ac766",
   "metadata": {},
   "source": [
    "## 饼图绘制"
   ]
  },
  {
   "cell_type": "code",
   "execution_count": 39,
   "id": "71651339",
   "metadata": {},
   "outputs": [
    {
     "data": {
      "text/plain": [
       "32574"
      ]
     },
     "execution_count": 39,
     "metadata": {},
     "output_type": "execute_result"
    }
   ],
   "source": [
    "34950 - 2376"
   ]
  },
  {
   "cell_type": "code",
   "execution_count": 2,
   "id": "dcdbdc6a",
   "metadata": {},
   "outputs": [],
   "source": [
    "import matplotlib.pyplot as plt"
   ]
  },
  {
   "cell_type": "code",
   "execution_count": 5,
   "id": "5108e3bb",
   "metadata": {},
   "outputs": [
    {
     "data": {
      "image/png": "[encoded data removed]",
      "text/plain": [
       "<Figure size 432x288 with 1 Axes>"
      ]
     },
     "metadata": {},
     "output_type": "display_data"
    }
   ],
   "source": [
    "ABcompart = [2376, 32574]\n",
    "\n",
    "plt.pie(ABcompart,\n",
    "        labels=['Mutative','Conserve'], # 设置饼图标签\n",
    "        colors=[\"#FFA07A\", \"#ADD8E6\"], # 设置饼图颜色\n",
    "        autopct='%.2f%%',\n",
    "        explode = (0,-0.1)\n",
    "       )\n",
    "plt.title(\"AB compartment (GFP -> BOTH)\") # 设置标题\n",
    "plt.savefig(\"ABcompartment_change.pdf\", format=\"pdf\")\n",
    "plt.show()"
   ]
  },
  {
   "cell_type": "code",
   "execution_count": 6,
   "id": "edaee21e",
   "metadata": {},
   "outputs": [
    {
     "data": {
      "image/png": "[encoded data removed]",
      "text/plain": [
       "<Figure size 432x288 with 1 Axes>"
      ]
     },
     "metadata": {},
     "output_type": "display_data"
    }
   ],
   "source": [
    "ABcompart_mu = [904, 657, 471, 343]\n",
    "\n",
    "plt.pie(ABcompart_mu,\n",
    "        labels=['A -> B','B -> A', 'A -> A', 'B -> B'], # 设置饼图标签\n",
    "        colors=[\"#FF7F50\", \"#FFE4B5\", \"#FFE4E1\", \"#FFF5EE\"], # 设置饼图颜色\n",
    "        autopct='%.2f%%',\n",
    "       )\n",
    "plt.title(\"mutative AB compartment (GFP -> BOTH)\") # 设置标题\n",
    "plt.savefig(\"ABcompartment_mutative.pdf\", format=\"pdf\")\n",
    "plt.show()"
   ]
  },
  {
   "cell_type": "code",
   "execution_count": 3,
   "id": "67ef3f5a",
   "metadata": {},
   "outputs": [
    {
     "data": {
      "image/png": "[encoded data removed]",
      "text/plain": [
       "<Figure size 432x288 with 1 Axes>"
      ]
     },
     "metadata": {},
     "output_type": "display_data"
    }
   ],
   "source": [
    "ABcompart_mu = [32574, 904, 657, 471, 343]\n",
    "\n",
    "plt.pie(ABcompart_mu,\n",
    "        labels=['conserve','A -> B','B -> A', 'A -> A', 'B -> B'], # 设置饼图标签\n",
    "        colors=[ \"#ADD8E6\",\"#FF7F50\", \"#FFC0CB\", \"#FFE4E1\", \"#FFF5EE\"], # 设置饼图颜色\n",
    "        autopct='%.2f%%',\n",
    "        explode = (0,-0.02, -0.04, -0.08, -0.1)\n",
    "       )\n",
    "plt.title(\"mutative AB compartment (GFP -> IN)\") # 设置标题\n",
    "#plt.savefig(\"ABcompartment_all_1.pdf\", format=\"pdf\")\n",
    "plt.show()"
   ]
  },
  {
   "cell_type": "code",
   "execution_count": 70,
   "id": "83db9180",
   "metadata": {},
   "outputs": [
    {
     "data": {
      "text/plain": [
       "814"
      ]
     },
     "execution_count": 70,
     "metadata": {},
     "output_type": "execute_result"
    }
   ],
   "source": [
    "471+343"
   ]
  },
  {
   "cell_type": "code",
   "execution_count": 8,
   "id": "fb5a1533",
   "metadata": {},
   "outputs": [
    {
     "data": {
      "image/png": "[encoded data removed]",
      "text/plain": [
       "<Figure size 432x288 with 1 Axes>"
      ]
     },
     "metadata": {},
     "output_type": "display_data"
    }
   ],
   "source": [
    "ABcompart_mu = [32574, 904, 657, 814]\n",
    "\n",
    "plt.pie(ABcompart_mu,\n",
    "        labels=['conserve','A -> B','B -> A', 'A -> A or B -> B'], # 设置饼图标签\n",
    "        colors=[ \"#ADD8E6\",\"#FF7F50\", \"#00FA9A\", \"#FFC0CB\"], # 设置饼图颜色\n",
    "        #autopct='%.2f%%',\n",
    "        explode = (0,-0.05, -0.1, -0.15)\n",
    "       )\n",
    "plt.title(\"mutative AB compartment (GFP -> BOTH)\") # 设置标题\n",
    "plt.savefig(\"ABcompartment_all_2.pdf\", format=\"pdf\")\n",
    "plt.show()"
   ]
  },
  {
   "cell_type": "markdown",
   "id": "0d563c53",
   "metadata": {},
   "source": [
    "## 文件分类写入\n",
    "AtoB  \n",
    "BtoA  \n",
    "AtoA  \n",
    "BtoB  "
   ]
  },
  {
   "cell_type": "code",
   "execution_count": 79,
   "id": "86d98707",
   "metadata": {},
   "outputs": [
    {
     "data": {
      "text/plain": [
       "['chr1_104160000_104240000',\n",
       " 'chr1_145920000_146000000',\n",
       " 'chr1_148320000_148400000']"
      ]
     },
     "execution_count": 79,
     "metadata": {},
     "output_type": "execute_result"
    }
   ],
   "source": [
    "AtoB[0:3]"
   ]
  },
  {
   "cell_type": "code",
   "execution_count": 82,
   "id": "4ae032bb",
   "metadata": {},
   "outputs": [],
   "source": [
    "with open(\"AtoB_GFPtoIN.txt\", \"w\") as f5:\n",
    "    f5.write(\"location\" + \"\\t\" + \"IN_pca\" + \"\\t\" + \"GFP_pca\" + \"\\n\")\n",
    "    for location in AtoB:\n",
    "        f5.write(location + \"\\t\" + str(dict_IN[location]) + \"\\t\" + str(dict_GFP[location]) + \"\\n\")"
   ]
  },
  {
   "cell_type": "code",
   "execution_count": 83,
   "id": "0567ef0a",
   "metadata": {},
   "outputs": [
    {
     "name": "stdout",
     "output_type": "stream",
     "text": [
      "location\tIN_pca\tGFP_pca\r\n",
      "chr1_104160000_104240000\t-3.82349614569062\t24.4938220245659\r\n",
      "chr1_145920000_146000000\t-7.23248201017993\t21.9826003700438\r\n",
      "chr1_148320000_148400000\t-1.05454588971703\t24.0561052987989\r\n",
      "chr1_148560000_148640000\t-3.11144844003939\t31.2623158092297\r\n"
     ]
    }
   ],
   "source": [
    "!head -n 5 AtoB_GFPtoIN.txt"
   ]
  },
  {
   "cell_type": "code",
   "execution_count": 84,
   "id": "3d12998f",
   "metadata": {},
   "outputs": [],
   "source": [
    "with open(\"BtoA_GFPtoIN.txt\", \"w\") as f5:\n",
    "    f5.write(\"location\" + \"\\t\" + \"IN_pca\" + \"\\t\" + \"GFP_pca\" + \"\\n\")\n",
    "    for location in BtoA:\n",
    "        f5.write(location + \"\\t\" + str(dict_IN[location]) + \"\\t\" + str(dict_GFP[location]) + \"\\n\")"
   ]
  },
  {
   "cell_type": "code",
   "execution_count": 85,
   "id": "1157a3f0",
   "metadata": {},
   "outputs": [],
   "source": [
    "with open(\"AtoA_GFPtoIN.txt\", \"w\") as f5:\n",
    "    f5.write(\"location\" + \"\\t\" + \"IN_pca\" + \"\\t\" + \"GFP_pca\" + \"\\n\")\n",
    "    for location in AtoA:\n",
    "        f5.write(location + \"\\t\" + str(dict_IN[location]) + \"\\t\" + str(dict_GFP[location]) + \"\\n\")"
   ]
  },
  {
   "cell_type": "code",
   "execution_count": 86,
   "id": "847a832f",
   "metadata": {},
   "outputs": [],
   "source": [
    "with open(\"BtoB_GFPtoIN.txt\", \"w\") as f5:\n",
    "    f5.write(\"location\" + \"\\t\" + \"IN_pca\" + \"\\t\" + \"GFP_pca\" + \"\\n\")\n",
    "    for location in BtoB:\n",
    "        f5.write(location + \"\\t\" + str(dict_IN[location]) + \"\\t\" + str(dict_GFP[location]) + \"\\n\")"
   ]
  }
 ],
 "metadata": {
  "kernelspec": {
   "display_name": "Python 3 (ipykernel)",
   "language": "python",
   "name": "python3"
  },
  "language_info": {
   "codemirror_mode": {
    "name": "ipython",
    "version": 3
   },
   "file_extension": ".py",
   "mimetype": "text/x-python",
   "name": "python",
   "nbconvert_exporter": "python",
   "pygments_lexer": "ipython3",
   "version": "3.7.12"
  },
  "toc": {
   "base_numbering": 1,
   "nav_menu": {},
   "number_sections": true,
   "sideBar": true,
   "skip_h1_title": false,
   "title_cell": "Table of Contents",
   "title_sidebar": "Contents",
   "toc_cell": false,
   "toc_position": {},
   "toc_section_display": true,
   "toc_window_display": false
  }
 },
 "nbformat": 4,
 "nbformat_minor": 5
}
