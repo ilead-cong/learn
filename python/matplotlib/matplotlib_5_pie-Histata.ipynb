{
 "cells": [
  {
   "cell_type": "markdown",
   "id": "5707e50a",
   "metadata": {},
   "source": [
    "# 饼图和直方图"
   ]
  },
  {
   "cell_type": "markdown",
   "id": "6c2c6ed1",
   "metadata": {},
   "source": [
    "## 饼图"
   ]
  },
  {
   "cell_type": "code",
   "execution_count": 1,
   "id": "3a55037d",
   "metadata": {},
   "outputs": [],
   "source": [
    "import matplotlib.pyplot as plt"
   ]
  },
  {
   "cell_type": "code",
   "execution_count": 3,
   "id": "02d07125",
   "metadata": {},
   "outputs": [
    {
     "data": {
      "text/plain": [
       "[None, Text(0.5, 1.0, 'pie')]"
      ]
     },
     "execution_count": 3,
     "metadata": {},
     "output_type": "execute_result"
    },
    {
     "data": {
      "image/png": "[encoded data removed]",
      "text/plain": [
       "<Figure size 432x288 with 1 Axes>"
      ]
     },
     "metadata": {},
     "output_type": "display_data"
    }
   ],
   "source": [
    "x = [2, 4, 6, 8]\n",
    "fig, ax = plt.subplots()\n",
    "labels = ['A', 'B', 'C', 'D']\n",
    "colors = ['red', 'yellow', 'blue', 'green']\n",
    "explode = (0, 0.1, 0, 0)\n",
    "ax.pie(x, explode=explode, labels=labels, colors=colors, autopct='%1.1f%%', shadow=True, startangle=90, radius=1.2)\n",
    "#explode,扇面偏离程度；autopct,扇面显示百分号数值的格式；shadow,是否有阴影；startangle,第一个扇形开始的角度，然后按照逆时针默认排列；radius,设置饼状图半径大小\n",
    "ax.set(aspect='equal', title='pie')"
   ]
  },
  {
   "cell_type": "markdown",
   "id": "43f350b9",
   "metadata": {},
   "source": [
    "DataFrame"
   ]
  },
  {
   "cell_type": "code",
   "execution_count": 1,
   "id": "bc9a940c",
   "metadata": {},
   "outputs": [],
   "source": [
    "import pandas as pd"
   ]
  },
  {
   "cell_type": "code",
   "execution_count": 2,
   "id": "1811316c",
   "metadata": {},
   "outputs": [
    {
     "ename": "FileNotFoundError",
     "evalue": "[Errno 2] No such file or directory: './colors.csv'",
     "output_type": "error",
     "traceback": [
      "\u001b[0;31m---------------------------------------------------------------------------\u001b[0m",
      "\u001b[0;31mFileNotFoundError\u001b[0m                         Traceback (most recent call last)",
      "\u001b[0;32m<ipython-input-2-496868a48998>\u001b[0m in \u001b[0;36m<module>\u001b[0;34m\u001b[0m\n\u001b[0;32m----> 1\u001b[0;31m \u001b[0mdf\u001b[0m \u001b[0;34m=\u001b[0m \u001b[0mpd\u001b[0m\u001b[0;34m.\u001b[0m\u001b[0mread_csv\u001b[0m\u001b[0;34m(\u001b[0m\u001b[0;34m'./colors.csv'\u001b[0m\u001b[0;34m)\u001b[0m\u001b[0;34m\u001b[0m\u001b[0;34m\u001b[0m\u001b[0m\n\u001b[0m\u001b[1;32m      2\u001b[0m \u001b[0mcolors\u001b[0m \u001b[0;34m=\u001b[0m \u001b[0mpd\u001b[0m\u001b[0;34m.\u001b[0m\u001b[0mDataFrame\u001b[0m\u001b[0;34m(\u001b[0m\u001b[0;34m{\u001b[0m\u001b[0;34m'productColor'\u001b[0m\u001b[0;34m:\u001b[0m\u001b[0mdf\u001b[0m\u001b[0;34m.\u001b[0m\u001b[0mvalues\u001b[0m\u001b[0;34m[\u001b[0m\u001b[0;36m0\u001b[0m\u001b[0;34m:\u001b[0m\u001b[0;34m,\u001b[0m \u001b[0;36m1\u001b[0m\u001b[0;34m]\u001b[0m\u001b[0;34m,\u001b[0m \u001b[0;34m'color'\u001b[0m\u001b[0;34m:\u001b[0m\u001b[0mdf\u001b[0m\u001b[0;34m.\u001b[0m\u001b[0mvalues\u001b[0m\u001b[0;34m[\u001b[0m\u001b[0;36m0\u001b[0m\u001b[0;34m:\u001b[0m\u001b[0;34m,\u001b[0m \u001b[0;36m2\u001b[0m\u001b[0;34m]\u001b[0m\u001b[0;34m}\u001b[0m\u001b[0;34m)\u001b[0m\u001b[0;34m\u001b[0m\u001b[0;34m\u001b[0m\u001b[0m\n\u001b[1;32m      3\u001b[0m \u001b[0mcolors\u001b[0m\u001b[0;34m.\u001b[0m\u001b[0mhead\u001b[0m\u001b[0;34m(\u001b[0m\u001b[0;34m)\u001b[0m\u001b[0;34m\u001b[0m\u001b[0;34m\u001b[0m\u001b[0m\n",
      "\u001b[0;32m/mnt/d/WSL/conda/miniconda3/envs/normal/lib/python3.7/site-packages/pandas/io/parsers.py\u001b[0m in \u001b[0;36mread_csv\u001b[0;34m(filepath_or_buffer, sep, delimiter, header, names, index_col, usecols, squeeze, prefix, mangle_dupe_cols, dtype, engine, converters, true_values, false_values, skipinitialspace, skiprows, skipfooter, nrows, na_values, keep_default_na, na_filter, verbose, skip_blank_lines, parse_dates, infer_datetime_format, keep_date_col, date_parser, dayfirst, cache_dates, iterator, chunksize, compression, thousands, decimal, lineterminator, quotechar, quoting, doublequote, escapechar, comment, encoding, dialect, error_bad_lines, warn_bad_lines, delim_whitespace, low_memory, memory_map, float_precision)\u001b[0m\n\u001b[1;32m    684\u001b[0m     )\n\u001b[1;32m    685\u001b[0m \u001b[0;34m\u001b[0m\u001b[0m\n\u001b[0;32m--> 686\u001b[0;31m     \u001b[0;32mreturn\u001b[0m \u001b[0m_read\u001b[0m\u001b[0;34m(\u001b[0m\u001b[0mfilepath_or_buffer\u001b[0m\u001b[0;34m,\u001b[0m \u001b[0mkwds\u001b[0m\u001b[0;34m)\u001b[0m\u001b[0;34m\u001b[0m\u001b[0;34m\u001b[0m\u001b[0m\n\u001b[0m\u001b[1;32m    687\u001b[0m \u001b[0;34m\u001b[0m\u001b[0m\n\u001b[1;32m    688\u001b[0m \u001b[0;34m\u001b[0m\u001b[0m\n",
      "\u001b[0;32m/mnt/d/WSL/conda/miniconda3/envs/normal/lib/python3.7/site-packages/pandas/io/parsers.py\u001b[0m in \u001b[0;36m_read\u001b[0;34m(filepath_or_buffer, kwds)\u001b[0m\n\u001b[1;32m    450\u001b[0m \u001b[0;34m\u001b[0m\u001b[0m\n\u001b[1;32m    451\u001b[0m     \u001b[0;31m# Create the parser.\u001b[0m\u001b[0;34m\u001b[0m\u001b[0;34m\u001b[0m\u001b[0;34m\u001b[0m\u001b[0m\n\u001b[0;32m--> 452\u001b[0;31m     \u001b[0mparser\u001b[0m \u001b[0;34m=\u001b[0m \u001b[0mTextFileReader\u001b[0m\u001b[0;34m(\u001b[0m\u001b[0mfp_or_buf\u001b[0m\u001b[0;34m,\u001b[0m \u001b[0;34m**\u001b[0m\u001b[0mkwds\u001b[0m\u001b[0;34m)\u001b[0m\u001b[0;34m\u001b[0m\u001b[0;34m\u001b[0m\u001b[0m\n\u001b[0m\u001b[1;32m    453\u001b[0m \u001b[0;34m\u001b[0m\u001b[0m\n\u001b[1;32m    454\u001b[0m     \u001b[0;32mif\u001b[0m \u001b[0mchunksize\u001b[0m \u001b[0;32mor\u001b[0m \u001b[0miterator\u001b[0m\u001b[0;34m:\u001b[0m\u001b[0;34m\u001b[0m\u001b[0;34m\u001b[0m\u001b[0m\n",
      "\u001b[0;32m/mnt/d/WSL/conda/miniconda3/envs/normal/lib/python3.7/site-packages/pandas/io/parsers.py\u001b[0m in \u001b[0;36m__init__\u001b[0;34m(self, f, engine, **kwds)\u001b[0m\n\u001b[1;32m    944\u001b[0m             \u001b[0mself\u001b[0m\u001b[0;34m.\u001b[0m\u001b[0moptions\u001b[0m\u001b[0;34m[\u001b[0m\u001b[0;34m\"has_index_names\"\u001b[0m\u001b[0;34m]\u001b[0m \u001b[0;34m=\u001b[0m \u001b[0mkwds\u001b[0m\u001b[0;34m[\u001b[0m\u001b[0;34m\"has_index_names\"\u001b[0m\u001b[0;34m]\u001b[0m\u001b[0;34m\u001b[0m\u001b[0;34m\u001b[0m\u001b[0m\n\u001b[1;32m    945\u001b[0m \u001b[0;34m\u001b[0m\u001b[0m\n\u001b[0;32m--> 946\u001b[0;31m         \u001b[0mself\u001b[0m\u001b[0;34m.\u001b[0m\u001b[0m_make_engine\u001b[0m\u001b[0;34m(\u001b[0m\u001b[0mself\u001b[0m\u001b[0;34m.\u001b[0m\u001b[0mengine\u001b[0m\u001b[0;34m)\u001b[0m\u001b[0;34m\u001b[0m\u001b[0;34m\u001b[0m\u001b[0m\n\u001b[0m\u001b[1;32m    947\u001b[0m \u001b[0;34m\u001b[0m\u001b[0m\n\u001b[1;32m    948\u001b[0m     \u001b[0;32mdef\u001b[0m \u001b[0mclose\u001b[0m\u001b[0;34m(\u001b[0m\u001b[0mself\u001b[0m\u001b[0;34m)\u001b[0m\u001b[0;34m:\u001b[0m\u001b[0;34m\u001b[0m\u001b[0;34m\u001b[0m\u001b[0m\n",
      "\u001b[0;32m/mnt/d/WSL/conda/miniconda3/envs/normal/lib/python3.7/site-packages/pandas/io/parsers.py\u001b[0m in \u001b[0;36m_make_engine\u001b[0;34m(self, engine)\u001b[0m\n\u001b[1;32m   1176\u001b[0m     \u001b[0;32mdef\u001b[0m \u001b[0m_make_engine\u001b[0m\u001b[0;34m(\u001b[0m\u001b[0mself\u001b[0m\u001b[0;34m,\u001b[0m \u001b[0mengine\u001b[0m\u001b[0;34m=\u001b[0m\u001b[0;34m\"c\"\u001b[0m\u001b[0;34m)\u001b[0m\u001b[0;34m:\u001b[0m\u001b[0;34m\u001b[0m\u001b[0;34m\u001b[0m\u001b[0m\n\u001b[1;32m   1177\u001b[0m         \u001b[0;32mif\u001b[0m \u001b[0mengine\u001b[0m \u001b[0;34m==\u001b[0m \u001b[0;34m\"c\"\u001b[0m\u001b[0;34m:\u001b[0m\u001b[0;34m\u001b[0m\u001b[0;34m\u001b[0m\u001b[0m\n\u001b[0;32m-> 1178\u001b[0;31m             \u001b[0mself\u001b[0m\u001b[0;34m.\u001b[0m\u001b[0m_engine\u001b[0m \u001b[0;34m=\u001b[0m \u001b[0mCParserWrapper\u001b[0m\u001b[0;34m(\u001b[0m\u001b[0mself\u001b[0m\u001b[0;34m.\u001b[0m\u001b[0mf\u001b[0m\u001b[0;34m,\u001b[0m \u001b[0;34m**\u001b[0m\u001b[0mself\u001b[0m\u001b[0;34m.\u001b[0m\u001b[0moptions\u001b[0m\u001b[0;34m)\u001b[0m\u001b[0;34m\u001b[0m\u001b[0;34m\u001b[0m\u001b[0m\n\u001b[0m\u001b[1;32m   1179\u001b[0m         \u001b[0;32melse\u001b[0m\u001b[0;34m:\u001b[0m\u001b[0;34m\u001b[0m\u001b[0;34m\u001b[0m\u001b[0m\n\u001b[1;32m   1180\u001b[0m             \u001b[0;32mif\u001b[0m \u001b[0mengine\u001b[0m \u001b[0;34m==\u001b[0m \u001b[0;34m\"python\"\u001b[0m\u001b[0;34m:\u001b[0m\u001b[0;34m\u001b[0m\u001b[0;34m\u001b[0m\u001b[0m\n",
      "\u001b[0;32m/mnt/d/WSL/conda/miniconda3/envs/normal/lib/python3.7/site-packages/pandas/io/parsers.py\u001b[0m in \u001b[0;36m__init__\u001b[0;34m(self, src, **kwds)\u001b[0m\n\u001b[1;32m   2006\u001b[0m         \u001b[0mkwds\u001b[0m\u001b[0;34m[\u001b[0m\u001b[0;34m\"usecols\"\u001b[0m\u001b[0;34m]\u001b[0m \u001b[0;34m=\u001b[0m \u001b[0mself\u001b[0m\u001b[0;34m.\u001b[0m\u001b[0musecols\u001b[0m\u001b[0;34m\u001b[0m\u001b[0;34m\u001b[0m\u001b[0m\n\u001b[1;32m   2007\u001b[0m \u001b[0;34m\u001b[0m\u001b[0m\n\u001b[0;32m-> 2008\u001b[0;31m         \u001b[0mself\u001b[0m\u001b[0;34m.\u001b[0m\u001b[0m_reader\u001b[0m \u001b[0;34m=\u001b[0m \u001b[0mparsers\u001b[0m\u001b[0;34m.\u001b[0m\u001b[0mTextReader\u001b[0m\u001b[0;34m(\u001b[0m\u001b[0msrc\u001b[0m\u001b[0;34m,\u001b[0m \u001b[0;34m**\u001b[0m\u001b[0mkwds\u001b[0m\u001b[0;34m)\u001b[0m\u001b[0;34m\u001b[0m\u001b[0;34m\u001b[0m\u001b[0m\n\u001b[0m\u001b[1;32m   2009\u001b[0m         \u001b[0mself\u001b[0m\u001b[0;34m.\u001b[0m\u001b[0munnamed_cols\u001b[0m \u001b[0;34m=\u001b[0m \u001b[0mself\u001b[0m\u001b[0;34m.\u001b[0m\u001b[0m_reader\u001b[0m\u001b[0;34m.\u001b[0m\u001b[0munnamed_cols\u001b[0m\u001b[0;34m\u001b[0m\u001b[0;34m\u001b[0m\u001b[0m\n\u001b[1;32m   2010\u001b[0m \u001b[0;34m\u001b[0m\u001b[0m\n",
      "\u001b[0;32mpandas/_libs/parsers.pyx\u001b[0m in \u001b[0;36mpandas._libs.parsers.TextReader.__cinit__\u001b[0;34m()\u001b[0m\n",
      "\u001b[0;32mpandas/_libs/parsers.pyx\u001b[0m in \u001b[0;36mpandas._libs.parsers.TextReader._setup_parser_source\u001b[0;34m()\u001b[0m\n",
      "\u001b[0;31mFileNotFoundError\u001b[0m: [Errno 2] No such file or directory: './colors.csv'"
     ]
    }
   ],
   "source": [
    "df = pd.read_csv('./colors.csv')\n",
    "colors = pd.DataFrame({'productColor':df.values[0:, 1], 'color':df.values[0:, 2]})\n",
    "colors.head()"
   ]
  },
  {
   "cell_type": "code",
   "execution_count": null,
   "id": "801a4060",
   "metadata": {},
   "outputs": [],
   "source": [
    "df2 = pd.read_csv('./bra.csv')\n",
    "cbras = pd.merge(df2, colors, on='productColor', how='left')\n",
    "cbras.head()"
   ]
  },
  {
   "cell_type": "code",
   "execution_count": null,
   "id": "89d452c6",
   "metadata": {},
   "outputs": [],
   "source": [
    "color_count = cbras.groupby('color').count()\n",
    "datas = color_count['productColor']\n",
    "labels = data.index\n",
    "position = range(len(data.index))\n",
    "\n",
    "plt.bar(x=position, height=datas.values, width=0.6, tick_label=labels)\n"
   ]
  },
  {
   "cell_type": "code",
   "execution_count": null,
   "id": "e78d9d5e",
   "metadata": {},
   "outputs": [],
   "source": [
    "#对df2中的productSize特征的数值进行清洗\n",
    "bras2 = df2['productSize'].str.upper()\n",
    "cup = bras2.str.findall(\"[a-zA-Z]\").str[0] # 用正则表达式进行初步清洗\n",
    "cup2 = cup.str.replace('M','B')\n",
    "cup3 = cup2.str.replace('L', 'C')\n",
    "cup4 = cup3.str.replace('XC', 'D')\n",
    "cup5 = cup4.str.replace('AB','B')\n",
    "\n",
    "df2['cup'] = cup5\n",
    "\n",
    "#数据清洗完毕，进行分组统计，并用饼图表现结果\n",
    "cup_count = df2.groupby('cup').count()\n",
    "labels = ['A', 'B', 'C', 'D', 'E']\n",
    "fig, ax = plt.subplots()\n",
    "explode = (0, 0.1, 0, 0, 0)\n",
    "ax.pie(cup_count['productColor'], explode=explode, labels= labels, autopct='%1.1f%%', radius=1.2, startangle=0)\n",
    "ax.set(aspect='equal')#aspect,图形的X轴与Y轴的缩放比例；auto，使用数据点填满整个长方形；'equal'，与aspect=1相同，即x和y缩放比例相同；float，元将被拉伸，高度等于浮点数乘以宽度\n"
   ]
  },
  {
   "cell_type": "markdown",
   "id": "fe5a46ff",
   "metadata": {},
   "source": [
    "## 直方图"
   ]
  },
  {
   "cell_type": "markdown",
   "id": "dcb5080d",
   "metadata": {},
   "source": [
    "### 频率直方图"
   ]
  },
  {
   "cell_type": "code",
   "execution_count": 8,
   "id": "e1808b7d",
   "metadata": {},
   "outputs": [],
   "source": [
    "import numpy as np\n",
    "import matplotlib.pyplot as plt"
   ]
  },
  {
   "cell_type": "code",
   "execution_count": 10,
   "id": "a99445a2",
   "metadata": {},
   "outputs": [
    {
     "data": {
      "text/plain": [
       "Text(0.5, 1.0, 'frequency histogram')"
      ]
     },
     "execution_count": 10,
     "metadata": {},
     "output_type": "execute_result"
    },
    {
     "data": {
      "image/png": "[encoded data removed]",
      "text/plain": [
       "<Figure size 432x288 with 1 Axes>"
      ]
     },
     "metadata": {
      "needs_background": "light"
     },
     "output_type": "display_data"
    }
   ],
   "source": [
    "data = np.random.randn(10000)\n",
    "plt.hist(data, bins=40, density=True, facecolor='blue', edgecolor='black', alpha=0.7)\n",
    "#bins（默认值是10）,如果为整数为n，则设置直方图由n个小矩形组成，为列表[m, n]，则设置直方图由m到n的范围构成\n",
    "#density，True表示为频率直方图，直方图面积等于1；false或者未设置，则表示为频数直方图\n",
    "#edgecolor，表示矩形外周线条的颜色\n",
    "plt.xlabel('interval')\n",
    "plt.ylabel('frequency')\n",
    "plt.title('frequency histogram')"
   ]
  },
  {
   "cell_type": "markdown",
   "id": "6d16181d",
   "metadata": {},
   "source": [
    "### hist对象"
   ]
  },
  {
   "cell_type": "code",
   "execution_count": 11,
   "id": "4be48b47",
   "metadata": {},
   "outputs": [
    {
     "data": {
      "image/png": "[encoded data removed]",
      "text/plain": [
       "<Figure size 432x288 with 1 Axes>"
      ]
     },
     "metadata": {
      "needs_background": "light"
     },
     "output_type": "display_data"
    }
   ],
   "source": [
    "x = np.random.normal(size=100)\n",
    "n, bins, patches = plt.hist(x)"
   ]
  },
  {
   "cell_type": "code",
   "execution_count": 12,
   "id": "fb066b9c",
   "metadata": {},
   "outputs": [
    {
     "data": {
      "text/plain": [
       "array([ 3.,  1.,  4., 19., 27., 17., 15.,  6.,  4.,  4.])"
      ]
     },
     "execution_count": 12,
     "metadata": {},
     "output_type": "execute_result"
    }
   ],
   "source": [
    "n#m每个小矩形对应的频数（频率）"
   ]
  },
  {
   "cell_type": "code",
   "execution_count": 13,
   "id": "eadce76b",
   "metadata": {},
   "outputs": [
    {
     "data": {
      "text/plain": [
       "array([-2.7444691 , -2.20781533, -1.67116156, -1.13450779, -0.59785403,\n",
       "       -0.06120026,  0.47545351,  1.01210728,  1.54876105,  2.08541481,\n",
       "        2.62206858])"
      ]
     },
     "execution_count": 13,
     "metadata": {},
     "output_type": "execute_result"
    }
   ],
   "source": [
    "bins #小矩形的边界值"
   ]
  },
  {
   "cell_type": "code",
   "execution_count": 14,
   "id": "1fe5c8b8",
   "metadata": {},
   "outputs": [
    {
     "data": {
      "text/plain": [
       "<BarContainer object of 10 artists>"
      ]
     },
     "execution_count": 14,
     "metadata": {},
     "output_type": "execute_result"
    }
   ],
   "source": [
    "patches#10个小矩形对象组成的列表"
   ]
  },
  {
   "cell_type": "code",
   "execution_count": 35,
   "id": "469a5876",
   "metadata": {},
   "outputs": [
    {
     "data": {
      "text/plain": [
       "[None]"
      ]
     },
     "execution_count": 35,
     "metadata": {},
     "output_type": "execute_result"
    },
    {
     "data": {
      "image/png": "[encoded data removed]",
      "text/plain": [
       "<Figure size 432x288 with 1 Axes>"
      ]
     },
     "metadata": {
      "needs_background": "light"
     },
     "output_type": "display_data"
    }
   ],
   "source": [
    "x = np.random.normal(size=100)\n",
    "n, bins, patches = plt.hist(x)\n",
    "\n",
    "plt.setp(patches[0], 'facecolor', 'g')#将第0个小矩形的颜色设置为g\n",
    "\n",
    "max_index = np.where(n==np.max(n))[0][0]#where函数取出来的是元素对应的坐标,n[max_index][0]\n",
    "plt.setp(patches[max_index], facecolor='r')"
   ]
  },
  {
   "cell_type": "markdown",
   "id": "e8c63304",
   "metadata": {},
   "source": [
    "### 正态分布（高斯分布）"
   ]
  },
  {
   "cell_type": "code",
   "execution_count": 43,
   "id": "0dea69d3",
   "metadata": {},
   "outputs": [
    {
     "data": {
      "image/png": "[encoded data removed]",
      "text/plain": [
       "<Figure size 432x288 with 1 Axes>"
      ]
     },
     "metadata": {
      "needs_background": "light"
     },
     "output_type": "display_data"
    }
   ],
   "source": [
    "np.random.seed(19680801)\n",
    "\n",
    "mu, sigma = 100, 15 #表示平均数和方差\n",
    "x = mu + sigma * np.random.randn(10000)\n",
    "\n",
    "#绘制直方图，并得到返回值\n",
    "n, bins, patches = plt.hist(x, bins=50, density=True, facecolor='g', alpha=0.75)\n",
    "\n",
    "#设置坐标系\n",
    "plt.xlabel('smarts')\n",
    "plt.ylabel('probability')\n",
    "plt.title('histogram of IQ')\n",
    "plt.text(60, 0.025, r'$\\mu=100,\\ \\sigma=15$')#在坐标值为(60, 0.025)的位置，添加文字；字符串前面添加r表示后面的raw string，不需要转意；\n",
    "plt.axis([40, 160, 0, 0.03])\n",
    "plt.grid(True)"
   ]
  },
  {
   "cell_type": "markdown",
   "id": "8eba520a",
   "metadata": {},
   "source": [
    "### 拉普拉斯分布"
   ]
  },
  {
   "cell_type": "code",
   "execution_count": 46,
   "id": "87e0c0c8",
   "metadata": {},
   "outputs": [
    {
     "data": {
      "image/png": "[encoded data removed]",
      "text/plain": [
       "<Figure size 432x288 with 1 Axes>"
      ]
     },
     "metadata": {
      "needs_background": "light"
     },
     "output_type": "display_data"
    }
   ],
   "source": [
    "np.random.seed(444)\n",
    "d = np.random.laplace(loc=15, scale=3, size=500)\n",
    "n, bins, patches = plt.hist(x=d, bins='auto', color='#0504aa', alpha=0.7, rwidth=0.85)\n",
    "\n",
    "plt.grid(axis='y', alpha=0.75)\n",
    "plt.xlabel('value')\n",
    "plt.ylabel('frequency')\n",
    "plt.title('laplace histogram')\n",
    "plt.text(23, 45, r'$\\mu=15, b=3$')\n",
    "maxfreq = n.max()\n",
    "#plt.ylim(top=np.ceil(maxfreq / 10)* 10 if maxfreq % 10 else maxfreq + 10)"
   ]
  }
 ],
 "metadata": {
  "kernelspec": {
   "display_name": "Python 3",
   "language": "python",
   "name": "python3"
  },
  "language_info": {
   "codemirror_mode": {
    "name": "ipython",
    "version": 3
   },
   "file_extension": ".py",
   "mimetype": "text/x-python",
   "name": "python",
   "nbconvert_exporter": "python",
   "pygments_lexer": "ipython3",
   "version": "3.7.10"
  },
  "toc": {
   "base_numbering": 1,
   "nav_menu": {},
   "number_sections": true,
   "sideBar": true,
   "skip_h1_title": false,
   "title_cell": "Table of Contents",
   "title_sidebar": "Contents",
   "toc_cell": false,
   "toc_position": {},
   "toc_section_display": true,
   "toc_window_display": false
  }
 },
 "nbformat": 4,
 "nbformat_minor": 5
}
