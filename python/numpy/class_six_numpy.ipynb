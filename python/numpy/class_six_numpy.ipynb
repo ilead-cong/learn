{
 "cells": [
  {
   "cell_type": "markdown",
   "id": "566e9b7a",
   "metadata": {},
   "source": [
    "# 数组的构造及其优势\n",
    "列表只是一种数据存储工具，不能直接进行计算  \n",
    "数组运算比循环更快"
   ]
  },
  {
   "cell_type": "markdown",
   "id": "3f2bfbdf",
   "metadata": {},
   "source": [
    "## 一维数组"
   ]
  },
  {
   "cell_type": "code",
   "execution_count": 2,
   "id": "96eb52c8",
   "metadata": {},
   "outputs": [],
   "source": [
    "import numpy as np"
   ]
  },
  {
   "cell_type": "code",
   "execution_count": 3,
   "id": "1306b69a",
   "metadata": {},
   "outputs": [],
   "source": [
    "import random\n",
    "\n",
    "h = []\n",
    "w = []\n",
    "for i in range(10000000):\n",
    "    h.append(random.randint(153, 180))\n",
    "    w.append(random.uniform(51, 88))"
   ]
  },
  {
   "cell_type": "code",
   "execution_count": 4,
   "id": "d1c3f886",
   "metadata": {},
   "outputs": [
    {
     "name": "stdout",
     "output_type": "stream",
     "text": [
      "CPU times: user 1.97 s, sys: 232 ms, total: 2.21 s\n",
      "Wall time: 2.2 s\n"
     ]
    }
   ],
   "source": [
    "%%time\n",
    "bmi = []\n",
    "for i in range(10000000):\n",
    "    bmi.append(w[i]/(h[i]/100)**2)"
   ]
  },
  {
   "cell_type": "code",
   "execution_count": 5,
   "id": "1ec124dd",
   "metadata": {},
   "outputs": [],
   "source": [
    "H = np.array(h)\n",
    "W = np.array(w)"
   ]
  },
  {
   "cell_type": "code",
   "execution_count": 6,
   "id": "84213e63",
   "metadata": {},
   "outputs": [
    {
     "name": "stdout",
     "output_type": "stream",
     "text": [
      "CPU times: user 54 ms, sys: 94.8 ms, total: 149 ms\n",
      "Wall time: 163 ms\n"
     ]
    }
   ],
   "source": [
    "%%time\n",
    "BMI = W/(H/100)**2"
   ]
  },
  {
   "cell_type": "code",
   "execution_count": 7,
   "id": "f9895cd9",
   "metadata": {},
   "outputs": [
    {
     "data": {
      "text/plain": [
       "13.496932515337424"
      ]
     },
     "execution_count": 7,
     "metadata": {},
     "output_type": "execute_result"
    }
   ],
   "source": [
    "2.2/0.163"
   ]
  },
  {
   "cell_type": "markdown",
   "id": "b0c30471",
   "metadata": {},
   "source": [
    "## 二维数组"
   ]
  },
  {
   "cell_type": "code",
   "execution_count": 8,
   "id": "31f267cf",
   "metadata": {},
   "outputs": [],
   "source": [
    "# 基于嵌套列表创建二维数组\n",
    "arr1 = np.array([[1,3,5,7],\n",
    "                [2,4,6,8],\n",
    "                [11,13,15,17],\n",
    "                [12,14,16,18],\n",
    "                [100,101,102,103]])\n",
    "# 基于嵌套元组创建二维数组\n",
    "arr2 = np.array(((8.5,6,4.1,2,0.7),(1.5,3,5.4,7.3,9),\n",
    "                 (3.2,3,3.8,3,3),(11.2,13.4,15.6,17.8,19)))\n",
    "# 二维数组的打印结果\n"
   ]
  },
  {
   "cell_type": "code",
   "execution_count": 9,
   "id": "6dbca30b",
   "metadata": {},
   "outputs": [
    {
     "name": "stdout",
     "output_type": "stream",
     "text": [
      "[[  1   3   5   7]\n",
      " [  2   4   6   8]\n",
      " [ 11  13  15  17]\n",
      " [ 12  14  16  18]\n",
      " [100 101 102 103]] \n",
      "\n"
     ]
    }
   ],
   "source": [
    "print(arr1,'\\n')"
   ]
  },
  {
   "cell_type": "code",
   "execution_count": 10,
   "id": "3983d6a0",
   "metadata": {},
   "outputs": [
    {
     "name": "stdout",
     "output_type": "stream",
     "text": [
      "[[ 8.5  6.   4.1  2.   0.7]\n",
      " [ 1.5  3.   5.4  7.3  9. ]\n",
      " [ 3.2  3.   3.8  3.   3. ]\n",
      " [11.2 13.4 15.6 17.8 19. ]]\n"
     ]
    }
   ],
   "source": [
    "print(arr2)"
   ]
  },
  {
   "cell_type": "markdown",
   "id": "482dabb0",
   "metadata": {},
   "source": [
    "## 数组元素的返回"
   ]
  },
  {
   "cell_type": "markdown",
   "id": "3dfffec7",
   "metadata": {},
   "source": [
    "1.一维数组，列表的所有索引方法都可以使用，还可以使用间断索引和逻辑索引  \n",
    "2.二维数组，位置索引必须写成\\[row, cols\\]的形式，方括号的前半部分用于锁定二维数组的行索引，后半部分用于列索引  \n",
    "3.需要获取二维数组的所有行元素或者列元素，那么，对应的行索引或列索引需要用英文状态的冒号表示  "
   ]
  },
  {
   "cell_type": "code",
   "execution_count": 13,
   "id": "c69199cd",
   "metadata": {},
   "outputs": [
    {
     "data": {
      "text/plain": [
       "array([13, 14, 11])"
      ]
     },
     "execution_count": 13,
     "metadata": {},
     "output_type": "execute_result"
    }
   ],
   "source": [
    "age = np.array([13, 19, 22, 14, 19, 11])\n",
    "age[-1]\n",
    "age[:3]\n",
    "age[[0, 3, 5]]#间断索引\n"
   ]
  },
  {
   "cell_type": "code",
   "execution_count": 14,
   "id": "562e7cfe",
   "metadata": {},
   "outputs": [
    {
     "data": {
      "text/plain": [
       "array([ True, False, False,  True, False,  True])"
      ]
     },
     "execution_count": 14,
     "metadata": {},
     "output_type": "execute_result"
    }
   ],
   "source": [
    "age < 18"
   ]
  },
  {
   "cell_type": "code",
   "execution_count": 16,
   "id": "2efaa2f7",
   "metadata": {},
   "outputs": [
    {
     "data": {
      "text/plain": [
       "array([13, 14, 11])"
      ]
     },
     "execution_count": 16,
     "metadata": {},
     "output_type": "execute_result"
    }
   ],
   "source": [
    "age[age<18]#布尔索引或者逻辑索引"
   ]
  },
  {
   "cell_type": "code",
   "execution_count": 17,
   "id": "300f8ae3",
   "metadata": {},
   "outputs": [
    {
     "data": {
      "text/plain": [
       "array([[  1,   3,   5,   7],\n",
       "       [  2,   4,   6,   8],\n",
       "       [ 11,  13,  15,  17],\n",
       "       [ 12,  14,  16,  18],\n",
       "       [100, 101, 102, 103]])"
      ]
     },
     "execution_count": 17,
     "metadata": {},
     "output_type": "execute_result"
    }
   ],
   "source": [
    "arr1"
   ]
  },
  {
   "cell_type": "code",
   "execution_count": 18,
   "id": "e150090b",
   "metadata": {},
   "outputs": [
    {
     "data": {
      "text/plain": [
       "18"
      ]
     },
     "execution_count": 18,
     "metadata": {},
     "output_type": "execute_result"
    }
   ],
   "source": [
    "arr1[3, 3]"
   ]
  },
  {
   "cell_type": "code",
   "execution_count": 20,
   "id": "22cacb62",
   "metadata": {},
   "outputs": [
    {
     "data": {
      "text/plain": [
       "array([12, 14, 16, 18])"
      ]
     },
     "execution_count": 20,
     "metadata": {},
     "output_type": "execute_result"
    }
   ],
   "source": [
    "arr1[3,:]"
   ]
  },
  {
   "cell_type": "code",
   "execution_count": 21,
   "id": "91d79205",
   "metadata": {},
   "outputs": [
    {
     "data": {
      "text/plain": [
       "array([  3,   4,  13,  14, 101])"
      ]
     },
     "execution_count": 21,
     "metadata": {},
     "output_type": "execute_result"
    }
   ],
   "source": [
    "arr1[:, 1]"
   ]
  },
  {
   "cell_type": "code",
   "execution_count": null,
   "id": "0c5702d4",
   "metadata": {},
   "outputs": [],
   "source": []
  },
  {
   "cell_type": "markdown",
   "id": "4f217160",
   "metadata": {},
   "source": [
    "# 常用函数与统计函数"
   ]
  },
  {
   "cell_type": "markdown",
   "id": "6284534b",
   "metadata": {},
   "source": [
    "## 数学运算符\n",
    "% 取余数  \n",
    "// 整除  "
   ]
  },
  {
   "cell_type": "markdown",
   "id": "bba512bb",
   "metadata": {},
   "source": [
    "## 比较运算符"
   ]
  },
  {
   "cell_type": "markdown",
   "id": "4b5bf29f",
   "metadata": {},
   "source": [
    "同型比较  \n",
    "\\>     np.greater  \n",
    "\\>=    np.greater_equal  \n",
    "\\<     np.less  \n",
    "\\<=    np.less_equal  \n",
    "\\==    np.equal  \n",
    "!=    np.not_equal  "
   ]
  },
  {
   "cell_type": "markdown",
   "id": "145ec7e6",
   "metadata": {},
   "source": [
    "## 常用的数学函数  \n",
    "  \n",
    "np.round(arr)  对各元素四舍五入  \n",
    "np.sqrt(arr)  计算各元素的算术平方根  \n",
    "np.square(arr)  计算各元素的平方值  \n",
    "np.exp(arr)  计算以e为底数的指数  \n",
    "np.power(arr,a)  计算各元素的指数  \n",
    "np.log2(arr)  计算以2为底数的各元素的对数  \n",
    "np.log10(arr)   计算以10为底数的各元素的对数  \n",
    "np.log(arr)  计算以e为底数各元素的对数"
   ]
  },
  {
   "cell_type": "markdown",
   "id": "ef5d9051",
   "metadata": {},
   "source": [
    "## 常用的统计函数\n",
    "np.min(arr, axis)  按照轴的方向计算最小值  \n",
    "np.max(arr, axis)  按照轴的方向计算最大值  \n",
    "np.mean(arr, axis)  按照轴的方向计算平均值  \n",
    "np.median(arr, axis)  按照轴的方向计算中位数  \n",
    "np.sum(arr, axis)  按照轴的方向计算和  \n",
    "np.std(arr, axis)  按照轴的方向计算标准差  \n",
    "np.var(arr, axis)  按照轴的方向计算方差  \n",
    "  \n",
    "注意：  \n",
    "axis=0，计算数组各列的统计值；  \n",
    "axis=1，计算数组各行的统计值  "
   ]
  },
  {
   "cell_type": "code",
   "execution_count": 4,
   "id": "b78fb45e",
   "metadata": {},
   "outputs": [
    {
     "data": {
      "text/plain": [
       "array([[ 8.5,  6. ,  4.1,  2. ,  0.7],\n",
       "       [ 1.5,  3. ,  5.4,  7.3,  9. ],\n",
       "       [ 3.2,  3. ,  3.8,  3. ,  3. ],\n",
       "       [11.2, 13.4, 15.6, 17.8, 19. ]])"
      ]
     },
     "execution_count": 4,
     "metadata": {},
     "output_type": "execute_result"
    }
   ],
   "source": [
    "arr2 = np.array(((8.5,6,4.1,2,0.7),(1.5,3,5.4,7.3,9),\n",
    "                 (3.2,3,3.8,3,3),(11.2,13.4,15.6,17.8,19)))\n",
    "arr2"
   ]
  },
  {
   "cell_type": "code",
   "execution_count": 5,
   "id": "19e9a857",
   "metadata": {},
   "outputs": [
    {
     "data": {
      "text/plain": [
       "[21.3, 26.2, 16.0, 77.0]"
      ]
     },
     "execution_count": 5,
     "metadata": {},
     "output_type": "execute_result"
    }
   ],
   "source": [
    "# 计算每一行的和\n",
    "sum = []\n",
    "for row in range(4):\n",
    "    sum.append(np.sum(arr2[row,:]))\n",
    "sum"
   ]
  },
  {
   "cell_type": "code",
   "execution_count": 6,
   "id": "b7e9e4a8",
   "metadata": {},
   "outputs": [
    {
     "data": {
      "text/plain": [
       "[6.1, 6.35, 7.225, 7.525, 7.925]"
      ]
     },
     "execution_count": 6,
     "metadata": {},
     "output_type": "execute_result"
    }
   ],
   "source": [
    "# 计算每一列的平均值\n",
    "avg = []\n",
    "for col in range(5):\n",
    "    avg.append(np.mean(arr2[:,col]))\n",
    "avg"
   ]
  },
  {
   "cell_type": "code",
   "execution_count": 9,
   "id": "c4ae78fe",
   "metadata": {},
   "outputs": [
    {
     "data": {
      "text/plain": [
       "array([21.3, 26.2, 16. , 77. ])"
      ]
     },
     "execution_count": 9,
     "metadata": {},
     "output_type": "execute_result"
    }
   ],
   "source": [
    "#数组各行的总和\n",
    "arr2.sum(axis=1)#对象的方法"
   ]
  },
  {
   "cell_type": "code",
   "execution_count": 10,
   "id": "fa4f533c",
   "metadata": {},
   "outputs": [
    {
     "data": {
      "text/plain": [
       "array([21.3, 26.2, 16. , 77. ])"
      ]
     },
     "execution_count": 10,
     "metadata": {},
     "output_type": "execute_result"
    }
   ],
   "source": [
    "np.sum(arr2, axis=1)#numpy模块的函数"
   ]
  },
  {
   "cell_type": "code",
   "execution_count": 12,
   "id": "c0c4fbdd",
   "metadata": {},
   "outputs": [
    {
     "data": {
      "text/plain": [
       "array([6.1  , 6.35 , 7.225, 7.525, 7.925])"
      ]
     },
     "execution_count": 12,
     "metadata": {},
     "output_type": "execute_result"
    }
   ],
   "source": [
    "#数组各列的平均值\n",
    "arr2.mean(axis=0)\n",
    "np.mean(arr2, axis=0)"
   ]
  },
  {
   "cell_type": "markdown",
   "id": "e60c66db",
   "metadata": {},
   "source": [
    "## 随机数的生成\n",
    "  \n",
    "np.random.randint() #随机整数  \n",
    "np.random.uniform() #随机均匀分布  \n",
    "np.random.normal() #随机正态分布  "
   ]
  },
  {
   "cell_type": "code",
   "execution_count": 22,
   "id": "3eceddb8",
   "metadata": {},
   "outputs": [
    {
     "data": {
      "image/png": "[encoded data removed]",
      "text/plain": [
       "<Figure size 432x288 with 1 Axes>"
      ]
     },
     "metadata": {
      "needs_background": "light"
     },
     "output_type": "display_data"
    }
   ],
   "source": [
    "initial = 1000\n",
    "packages = [initial]\n",
    "\n",
    "R = np.random.uniform(0,1, 1500)\n",
    "for time in R:\n",
    "    if time < 0.5:\n",
    "        initial -= 8\n",
    "    else:\n",
    "        initial += 8\n",
    "    packages.append(initial)\n",
    "    \n",
    "import matplotlib.pyplot as plt\n",
    "plt.plot(range(1501), packages)\n",
    "plt.show()"
   ]
  },
  {
   "cell_type": "code",
   "execution_count": null,
   "id": "aceb77f6",
   "metadata": {},
   "outputs": [],
   "source": []
  },
  {
   "cell_type": "code",
   "execution_count": null,
   "id": "263166e6",
   "metadata": {},
   "outputs": [],
   "source": []
  }
 ],
 "metadata": {
  "kernelspec": {
   "display_name": "Python 3",
   "language": "python",
   "name": "python3"
  },
  "language_info": {
   "codemirror_mode": {
    "name": "ipython",
    "version": 3
   },
   "file_extension": ".py",
   "mimetype": "text/x-python",
   "name": "python",
   "nbconvert_exporter": "python",
   "pygments_lexer": "ipython3",
   "version": "3.7.10"
  },
  "toc": {
   "base_numbering": 1,
   "nav_menu": {},
   "number_sections": true,
   "sideBar": true,
   "skip_h1_title": false,
   "title_cell": "Table of Contents",
   "title_sidebar": "Contents",
   "toc_cell": false,
   "toc_position": {},
   "toc_section_display": true,
   "toc_window_display": false
  }
 },
 "nbformat": 4,
 "nbformat_minor": 5
}
