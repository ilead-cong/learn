{
 "cells": [
  {
   "cell_type": "markdown",
   "id": "9bd74d47",
   "metadata": {},
   "source": [
    "csv 文件和 excell 文件"
   ]
  },
  {
   "cell_type": "code",
   "execution_count": 1,
   "id": "c27df2b4",
   "metadata": {},
   "outputs": [],
   "source": [
    "import pandas as pd"
   ]
  },
  {
   "cell_type": "code",
   "execution_count": 2,
   "id": "9d94c894",
   "metadata": {},
   "outputs": [],
   "source": [
    "pd.read_csv?"
   ]
  },
  {
   "cell_type": "code",
   "execution_count": 3,
   "id": "75c80a50",
   "metadata": {},
   "outputs": [
    {
     "name": "stdout",
     "output_type": "stream",
     "text": [
      "\u001b[0m\u001b[01;32mpandas_1_object.ipynb\u001b[0m*  \u001b[01;32mpandas_2_index.ipynb\u001b[0m*  \u001b[01;32mpandas_3_data-from-file.ipynb\u001b[0m*\r\n"
     ]
    }
   ],
   "source": [
    "ls"
   ]
  },
  {
   "cell_type": "code",
   "execution_count": 4,
   "id": "b1be84d1",
   "metadata": {},
   "outputs": [],
   "source": [
    "!touch gdp-pop.csv"
   ]
  },
  {
   "cell_type": "code",
   "execution_count": 10,
   "id": "78aadd2b",
   "metadata": {},
   "outputs": [],
   "source": [
    "!echo -e \"City_Name,GDP,Population\\nSHANGHAI,27466.15,2419.70\\nBEIJING,24899.3,2172.9\\nGUANGZHOU,19610.9,1350.11\\nSHENZHEN,19492.60,1137.87\\nTIANJIN,17885.39,1562.12\\nCHONGQING,17558.39,3016.55\\nSUZHOU,15475.09,1375\\nCHENDU,12170.2,1591.76\" > gdp-pop.csv"
   ]
  },
  {
   "cell_type": "code",
   "execution_count": 11,
   "id": "d92065aa",
   "metadata": {},
   "outputs": [
    {
     "name": "stdout",
     "output_type": "stream",
     "text": [
      "City_Name,GDP,Population\r\n",
      "SHANGHAI,27466.15,2419.70\r\n",
      "BEIJING,24899.3,2172.9\r\n",
      "GUANGZHOU,19610.9,1350.11\r\n",
      "SHENZHEN,19492.60,1137.87\r\n",
      "TIANJIN,17885.39,1562.12\r\n",
      "CHONGQING,17558.39,3016.55\r\n",
      "SUZHOU,15475.09,1375\r\n",
      "CHENDU,12170.2,1591.76\r\n"
     ]
    }
   ],
   "source": [
    "!cat ./gdp-pop.csv"
   ]
  },
  {
   "cell_type": "code",
   "execution_count": 12,
   "id": "00c3dd5c",
   "metadata": {},
   "outputs": [
    {
     "data": {
      "text/html": [
       "<div>\n",
       "<style scoped>\n",
       "    .dataframe tbody tr th:only-of-type {\n",
       "        vertical-align: middle;\n",
       "    }\n",
       "\n",
       "    .dataframe tbody tr th {\n",
       "        vertical-align: top;\n",
       "    }\n",
       "\n",
       "    .dataframe thead th {\n",
       "        text-align: right;\n",
       "    }\n",
       "</style>\n",
       "<table border=\"1\" class=\"dataframe\">\n",
       "  <thead>\n",
       "    <tr style=\"text-align: right;\">\n",
       "      <th></th>\n",
       "      <th>City_Name</th>\n",
       "      <th>GDP</th>\n",
       "      <th>Population</th>\n",
       "    </tr>\n",
       "  </thead>\n",
       "  <tbody>\n",
       "    <tr>\n",
       "      <th>0</th>\n",
       "      <td>SHANGHAI</td>\n",
       "      <td>27466.15</td>\n",
       "      <td>2419.70</td>\n",
       "    </tr>\n",
       "    <tr>\n",
       "      <th>1</th>\n",
       "      <td>BEIJING</td>\n",
       "      <td>24899.30</td>\n",
       "      <td>2172.90</td>\n",
       "    </tr>\n",
       "    <tr>\n",
       "      <th>2</th>\n",
       "      <td>GUANGZHOU</td>\n",
       "      <td>19610.90</td>\n",
       "      <td>1350.11</td>\n",
       "    </tr>\n",
       "    <tr>\n",
       "      <th>3</th>\n",
       "      <td>SHENZHEN</td>\n",
       "      <td>19492.60</td>\n",
       "      <td>1137.87</td>\n",
       "    </tr>\n",
       "    <tr>\n",
       "      <th>4</th>\n",
       "      <td>TIANJIN</td>\n",
       "      <td>17885.39</td>\n",
       "      <td>1562.12</td>\n",
       "    </tr>\n",
       "    <tr>\n",
       "      <th>5</th>\n",
       "      <td>CHONGQING</td>\n",
       "      <td>17558.39</td>\n",
       "      <td>3016.55</td>\n",
       "    </tr>\n",
       "    <tr>\n",
       "      <th>6</th>\n",
       "      <td>SUZHOU</td>\n",
       "      <td>15475.09</td>\n",
       "      <td>1375.00</td>\n",
       "    </tr>\n",
       "    <tr>\n",
       "      <th>7</th>\n",
       "      <td>CHENDU</td>\n",
       "      <td>12170.20</td>\n",
       "      <td>1591.76</td>\n",
       "    </tr>\n",
       "  </tbody>\n",
       "</table>\n",
       "</div>"
      ],
      "text/plain": [
       "   City_Name       GDP  Population\n",
       "0   SHANGHAI  27466.15     2419.70\n",
       "1    BEIJING  24899.30     2172.90\n",
       "2  GUANGZHOU  19610.90     1350.11\n",
       "3   SHENZHEN  19492.60     1137.87\n",
       "4    TIANJIN  17885.39     1562.12\n",
       "5  CHONGQING  17558.39     3016.55\n",
       "6     SUZHOU  15475.09     1375.00\n",
       "7     CHENDU  12170.20     1591.76"
      ]
     },
     "execution_count": 12,
     "metadata": {},
     "output_type": "execute_result"
    }
   ],
   "source": [
    "gdp = pd.read_csv(\"./gdp-pop.csv\")\n",
    "gdp"
   ]
  },
  {
   "cell_type": "code",
   "execution_count": 14,
   "id": "ce13e1c1",
   "metadata": {},
   "outputs": [
    {
     "data": {
      "text/html": [
       "<div>\n",
       "<style scoped>\n",
       "    .dataframe tbody tr th:only-of-type {\n",
       "        vertical-align: middle;\n",
       "    }\n",
       "\n",
       "    .dataframe tbody tr th {\n",
       "        vertical-align: top;\n",
       "    }\n",
       "\n",
       "    .dataframe thead th {\n",
       "        text-align: right;\n",
       "    }\n",
       "</style>\n",
       "<table border=\"1\" class=\"dataframe\">\n",
       "  <thead>\n",
       "    <tr style=\"text-align: right;\">\n",
       "      <th></th>\n",
       "      <th>CITY</th>\n",
       "      <th>GDP</th>\n",
       "      <th>POP</th>\n",
       "    </tr>\n",
       "  </thead>\n",
       "  <tbody>\n",
       "    <tr>\n",
       "      <th>0</th>\n",
       "      <td>City_Name</td>\n",
       "      <td>GDP</td>\n",
       "      <td>Population</td>\n",
       "    </tr>\n",
       "    <tr>\n",
       "      <th>1</th>\n",
       "      <td>SHANGHAI</td>\n",
       "      <td>27466.15</td>\n",
       "      <td>2419.70</td>\n",
       "    </tr>\n",
       "    <tr>\n",
       "      <th>2</th>\n",
       "      <td>BEIJING</td>\n",
       "      <td>24899.3</td>\n",
       "      <td>2172.9</td>\n",
       "    </tr>\n",
       "    <tr>\n",
       "      <th>3</th>\n",
       "      <td>GUANGZHOU</td>\n",
       "      <td>19610.9</td>\n",
       "      <td>1350.11</td>\n",
       "    </tr>\n",
       "    <tr>\n",
       "      <th>4</th>\n",
       "      <td>SHENZHEN</td>\n",
       "      <td>19492.60</td>\n",
       "      <td>1137.87</td>\n",
       "    </tr>\n",
       "    <tr>\n",
       "      <th>5</th>\n",
       "      <td>TIANJIN</td>\n",
       "      <td>17885.39</td>\n",
       "      <td>1562.12</td>\n",
       "    </tr>\n",
       "    <tr>\n",
       "      <th>6</th>\n",
       "      <td>CHONGQING</td>\n",
       "      <td>17558.39</td>\n",
       "      <td>3016.55</td>\n",
       "    </tr>\n",
       "    <tr>\n",
       "      <th>7</th>\n",
       "      <td>SUZHOU</td>\n",
       "      <td>15475.09</td>\n",
       "      <td>1375</td>\n",
       "    </tr>\n",
       "    <tr>\n",
       "      <th>8</th>\n",
       "      <td>CHENDU</td>\n",
       "      <td>12170.2</td>\n",
       "      <td>1591.76</td>\n",
       "    </tr>\n",
       "  </tbody>\n",
       "</table>\n",
       "</div>"
      ],
      "text/plain": [
       "        CITY       GDP         POP\n",
       "0  City_Name       GDP  Population\n",
       "1   SHANGHAI  27466.15     2419.70\n",
       "2    BEIJING   24899.3      2172.9\n",
       "3  GUANGZHOU   19610.9     1350.11\n",
       "4   SHENZHEN  19492.60     1137.87\n",
       "5    TIANJIN  17885.39     1562.12\n",
       "6  CHONGQING  17558.39     3016.55\n",
       "7     SUZHOU  15475.09        1375\n",
       "8     CHENDU   12170.2     1591.76"
      ]
     },
     "execution_count": 14,
     "metadata": {},
     "output_type": "execute_result"
    }
   ],
   "source": [
    "gdp = pd.read_csv(\"gdp-pop.csv\", names = ['CITY', 'GDP', 'POP'])\n",
    "gdp"
   ]
  },
  {
   "cell_type": "code",
   "execution_count": 15,
   "id": "f31d8c7f",
   "metadata": {},
   "outputs": [
    {
     "data": {
      "text/html": [
       "<div>\n",
       "<style scoped>\n",
       "    .dataframe tbody tr th:only-of-type {\n",
       "        vertical-align: middle;\n",
       "    }\n",
       "\n",
       "    .dataframe tbody tr th {\n",
       "        vertical-align: top;\n",
       "    }\n",
       "\n",
       "    .dataframe thead th {\n",
       "        text-align: right;\n",
       "    }\n",
       "</style>\n",
       "<table border=\"1\" class=\"dataframe\">\n",
       "  <thead>\n",
       "    <tr style=\"text-align: right;\">\n",
       "      <th></th>\n",
       "      <th>CITY</th>\n",
       "      <th>GDP</th>\n",
       "      <th>POP</th>\n",
       "    </tr>\n",
       "  </thead>\n",
       "  <tbody>\n",
       "    <tr>\n",
       "      <th>0</th>\n",
       "      <td>SHANGHAI</td>\n",
       "      <td>27466.15</td>\n",
       "      <td>2419.70</td>\n",
       "    </tr>\n",
       "    <tr>\n",
       "      <th>1</th>\n",
       "      <td>BEIJING</td>\n",
       "      <td>24899.30</td>\n",
       "      <td>2172.90</td>\n",
       "    </tr>\n",
       "    <tr>\n",
       "      <th>2</th>\n",
       "      <td>GUANGZHOU</td>\n",
       "      <td>19610.90</td>\n",
       "      <td>1350.11</td>\n",
       "    </tr>\n",
       "    <tr>\n",
       "      <th>3</th>\n",
       "      <td>SHENZHEN</td>\n",
       "      <td>19492.60</td>\n",
       "      <td>1137.87</td>\n",
       "    </tr>\n",
       "    <tr>\n",
       "      <th>4</th>\n",
       "      <td>TIANJIN</td>\n",
       "      <td>17885.39</td>\n",
       "      <td>1562.12</td>\n",
       "    </tr>\n",
       "    <tr>\n",
       "      <th>5</th>\n",
       "      <td>CHONGQING</td>\n",
       "      <td>17558.39</td>\n",
       "      <td>3016.55</td>\n",
       "    </tr>\n",
       "    <tr>\n",
       "      <th>6</th>\n",
       "      <td>SUZHOU</td>\n",
       "      <td>15475.09</td>\n",
       "      <td>1375.00</td>\n",
       "    </tr>\n",
       "    <tr>\n",
       "      <th>7</th>\n",
       "      <td>CHENDU</td>\n",
       "      <td>12170.20</td>\n",
       "      <td>1591.76</td>\n",
       "    </tr>\n",
       "  </tbody>\n",
       "</table>\n",
       "</div>"
      ],
      "text/plain": [
       "        CITY       GDP      POP\n",
       "0   SHANGHAI  27466.15  2419.70\n",
       "1    BEIJING  24899.30  2172.90\n",
       "2  GUANGZHOU  19610.90  1350.11\n",
       "3   SHENZHEN  19492.60  1137.87\n",
       "4    TIANJIN  17885.39  1562.12\n",
       "5  CHONGQING  17558.39  3016.55\n",
       "6     SUZHOU  15475.09  1375.00\n",
       "7     CHENDU  12170.20  1591.76"
      ]
     },
     "execution_count": 15,
     "metadata": {},
     "output_type": "execute_result"
    }
   ],
   "source": [
    "gdp = pd.read_csv(\"gdp-pop.csv\", names = ['CITY', 'GDP', 'POP'], skiprows=[0])\n",
    "gdp"
   ]
  },
  {
   "cell_type": "code",
   "execution_count": 16,
   "id": "134043b2",
   "metadata": {},
   "outputs": [
    {
     "data": {
      "text/html": [
       "<div>\n",
       "<style scoped>\n",
       "    .dataframe tbody tr th:only-of-type {\n",
       "        vertical-align: middle;\n",
       "    }\n",
       "\n",
       "    .dataframe tbody tr th {\n",
       "        vertical-align: top;\n",
       "    }\n",
       "\n",
       "    .dataframe thead th {\n",
       "        text-align: right;\n",
       "    }\n",
       "</style>\n",
       "<table border=\"1\" class=\"dataframe\">\n",
       "  <thead>\n",
       "    <tr style=\"text-align: right;\">\n",
       "      <th></th>\n",
       "      <th>GDP</th>\n",
       "      <th>POP</th>\n",
       "    </tr>\n",
       "    <tr>\n",
       "      <th>CITY</th>\n",
       "      <th></th>\n",
       "      <th></th>\n",
       "    </tr>\n",
       "  </thead>\n",
       "  <tbody>\n",
       "    <tr>\n",
       "      <th>SHANGHAI</th>\n",
       "      <td>27466.15</td>\n",
       "      <td>2419.70</td>\n",
       "    </tr>\n",
       "    <tr>\n",
       "      <th>BEIJING</th>\n",
       "      <td>24899.30</td>\n",
       "      <td>2172.90</td>\n",
       "    </tr>\n",
       "    <tr>\n",
       "      <th>GUANGZHOU</th>\n",
       "      <td>19610.90</td>\n",
       "      <td>1350.11</td>\n",
       "    </tr>\n",
       "    <tr>\n",
       "      <th>SHENZHEN</th>\n",
       "      <td>19492.60</td>\n",
       "      <td>1137.87</td>\n",
       "    </tr>\n",
       "    <tr>\n",
       "      <th>TIANJIN</th>\n",
       "      <td>17885.39</td>\n",
       "      <td>1562.12</td>\n",
       "    </tr>\n",
       "    <tr>\n",
       "      <th>CHONGQING</th>\n",
       "      <td>17558.39</td>\n",
       "      <td>3016.55</td>\n",
       "    </tr>\n",
       "    <tr>\n",
       "      <th>SUZHOU</th>\n",
       "      <td>15475.09</td>\n",
       "      <td>1375.00</td>\n",
       "    </tr>\n",
       "    <tr>\n",
       "      <th>CHENDU</th>\n",
       "      <td>12170.20</td>\n",
       "      <td>1591.76</td>\n",
       "    </tr>\n",
       "  </tbody>\n",
       "</table>\n",
       "</div>"
      ],
      "text/plain": [
       "                GDP      POP\n",
       "CITY                        \n",
       "SHANGHAI   27466.15  2419.70\n",
       "BEIJING    24899.30  2172.90\n",
       "GUANGZHOU  19610.90  1350.11\n",
       "SHENZHEN   19492.60  1137.87\n",
       "TIANJIN    17885.39  1562.12\n",
       "CHONGQING  17558.39  3016.55\n",
       "SUZHOU     15475.09  1375.00\n",
       "CHENDU     12170.20  1591.76"
      ]
     },
     "execution_count": 16,
     "metadata": {},
     "output_type": "execute_result"
    }
   ],
   "source": [
    "gdp = pd.read_csv(\"gdp-pop.csv\", names = ['CITY', 'GDP', 'POP'], skiprows=[0], index_col=0)\n",
    "gdp"
   ]
  },
  {
   "cell_type": "code",
   "execution_count": 17,
   "id": "abd81da4",
   "metadata": {},
   "outputs": [],
   "source": [
    "!touch gdp-pop_o.csv"
   ]
  },
  {
   "cell_type": "code",
   "execution_count": 18,
   "id": "367ce19f",
   "metadata": {},
   "outputs": [],
   "source": [
    "!echo -e \"City_Name,GDP,Population\\nSHANGHAI,27466.15,2419.70\\nBEIJING,24899.3,2172.9\\nGUANGZHOU,19610.9,1350.11\\nSHENZHEN,19492.60,\\nTIANJIN,17885.39,1562.12\\nCHONGQING,17558.39,3016.55\\nSUZHOU,15475.09,1375\\nCHENDU,,1591.76\" > gdp-pop_o.csv"
   ]
  },
  {
   "cell_type": "code",
   "execution_count": 19,
   "id": "66d89cbc",
   "metadata": {},
   "outputs": [
    {
     "name": "stdout",
     "output_type": "stream",
     "text": [
      "City_Name,GDP,Population\r\n",
      "SHANGHAI,27466.15,2419.70\r\n",
      "BEIJING,24899.3,2172.9\r\n",
      "GUANGZHOU,19610.9,1350.11\r\n",
      "SHENZHEN,19492.60,\r\n",
      "TIANJIN,17885.39,1562.12\r\n",
      "CHONGQING,17558.39,3016.55\r\n",
      "SUZHOU,15475.09,1375\r\n",
      "CHENDU,,1591.76\r\n"
     ]
    }
   ],
   "source": [
    "!cat gdp-pop_o.csv"
   ]
  },
  {
   "cell_type": "code",
   "execution_count": 20,
   "id": "70c6c479",
   "metadata": {},
   "outputs": [
    {
     "data": {
      "text/html": [
       "<div>\n",
       "<style scoped>\n",
       "    .dataframe tbody tr th:only-of-type {\n",
       "        vertical-align: middle;\n",
       "    }\n",
       "\n",
       "    .dataframe tbody tr th {\n",
       "        vertical-align: top;\n",
       "    }\n",
       "\n",
       "    .dataframe thead th {\n",
       "        text-align: right;\n",
       "    }\n",
       "</style>\n",
       "<table border=\"1\" class=\"dataframe\">\n",
       "  <thead>\n",
       "    <tr style=\"text-align: right;\">\n",
       "      <th></th>\n",
       "      <th>City_Name</th>\n",
       "      <th>GDP</th>\n",
       "      <th>Population</th>\n",
       "    </tr>\n",
       "  </thead>\n",
       "  <tbody>\n",
       "    <tr>\n",
       "      <th>0</th>\n",
       "      <td>SHANGHAI</td>\n",
       "      <td>27466.15</td>\n",
       "      <td>2419.70</td>\n",
       "    </tr>\n",
       "    <tr>\n",
       "      <th>1</th>\n",
       "      <td>BEIJING</td>\n",
       "      <td>24899.30</td>\n",
       "      <td>2172.90</td>\n",
       "    </tr>\n",
       "    <tr>\n",
       "      <th>2</th>\n",
       "      <td>GUANGZHOU</td>\n",
       "      <td>19610.90</td>\n",
       "      <td>1350.11</td>\n",
       "    </tr>\n",
       "    <tr>\n",
       "      <th>3</th>\n",
       "      <td>SHENZHEN</td>\n",
       "      <td>19492.60</td>\n",
       "      <td>NaN</td>\n",
       "    </tr>\n",
       "    <tr>\n",
       "      <th>4</th>\n",
       "      <td>TIANJIN</td>\n",
       "      <td>17885.39</td>\n",
       "      <td>1562.12</td>\n",
       "    </tr>\n",
       "    <tr>\n",
       "      <th>5</th>\n",
       "      <td>CHONGQING</td>\n",
       "      <td>17558.39</td>\n",
       "      <td>3016.55</td>\n",
       "    </tr>\n",
       "    <tr>\n",
       "      <th>6</th>\n",
       "      <td>SUZHOU</td>\n",
       "      <td>15475.09</td>\n",
       "      <td>1375.00</td>\n",
       "    </tr>\n",
       "    <tr>\n",
       "      <th>7</th>\n",
       "      <td>CHENDU</td>\n",
       "      <td>NaN</td>\n",
       "      <td>1591.76</td>\n",
       "    </tr>\n",
       "  </tbody>\n",
       "</table>\n",
       "</div>"
      ],
      "text/plain": [
       "   City_Name       GDP  Population\n",
       "0   SHANGHAI  27466.15     2419.70\n",
       "1    BEIJING  24899.30     2172.90\n",
       "2  GUANGZHOU  19610.90     1350.11\n",
       "3   SHENZHEN  19492.60         NaN\n",
       "4    TIANJIN  17885.39     1562.12\n",
       "5  CHONGQING  17558.39     3016.55\n",
       "6     SUZHOU  15475.09     1375.00\n",
       "7     CHENDU       NaN     1591.76"
      ]
     },
     "execution_count": 20,
     "metadata": {},
     "output_type": "execute_result"
    }
   ],
   "source": [
    "gdp = pd.read_csv(\"gdp-pop_o.csv\")\n",
    "gdp"
   ]
  },
  {
   "cell_type": "code",
   "execution_count": null,
   "id": "56a36a6b",
   "metadata": {},
   "outputs": [],
   "source": [
    "pd.read_excel(\"./excel_file_name.xlsx\")"
   ]
  }
 ],
 "metadata": {
  "kernelspec": {
   "display_name": "Python 3",
   "language": "python",
   "name": "python3"
  },
  "language_info": {
   "codemirror_mode": {
    "name": "ipython",
    "version": 3
   },
   "file_extension": ".py",
   "mimetype": "text/x-python",
   "name": "python",
   "nbconvert_exporter": "python",
   "pygments_lexer": "ipython3",
   "version": "3.7.10"
  },
  "toc": {
   "base_numbering": 1,
   "nav_menu": {},
   "number_sections": true,
   "sideBar": true,
   "skip_h1_title": false,
   "title_cell": "Table of Contents",
   "title_sidebar": "Contents",
   "toc_cell": false,
   "toc_position": {},
   "toc_section_display": true,
   "toc_window_display": false
  }
 },
 "nbformat": 4,
 "nbformat_minor": 5
}
