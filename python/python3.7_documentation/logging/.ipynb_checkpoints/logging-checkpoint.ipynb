{
 "cells": [
  {
   "cell_type": "markdown",
   "id": "0031ee81",
   "metadata": {},
   "source": [
    "# logging"
   ]
  },
  {
   "cell_type": "markdown",
   "id": "5928cba3",
   "metadata": {},
   "source": [
    "![jupyter](./logging_1.png)"
   ]
  },
  {
   "cell_type": "markdown",
   "id": "c9a56ad5",
   "metadata": {},
   "source": [
    "## base"
   ]
  },
  {
   "cell_type": "code",
   "execution_count": 1,
   "id": "b1d7dfb9",
   "metadata": {},
   "outputs": [],
   "source": [
    "import logging"
   ]
  },
  {
   "cell_type": "code",
   "execution_count": 2,
   "id": "59c57b0a",
   "metadata": {},
   "outputs": [],
   "source": [
    "from random import choice"
   ]
  },
  {
   "cell_type": "code",
   "execution_count": 7,
   "id": "4f83c63a",
   "metadata": {},
   "outputs": [
    {
     "name": "stderr",
     "output_type": "stream",
     "text": [
      "2021-08-25 10:49:55,930 192.168.0.1 fbloggs  Protocol problem: connection reset\n"
     ]
    }
   ],
   "source": [
    "FORMAT = '%(asctime)-15s %(clientip)s %(user)-8s %(message)s'\n",
    "logging.basicConfig(format=FORMAT)\n",
    "d = {'clientip': '192.168.0.1', 'user': 'fbloggs'}\n",
    "logger = logging.getLogger('tcpserver')\n",
    "logger.warning('Protocol problem: %s', 'connection reset', extra=d)"
   ]
  },
  {
   "cell_type": "markdown",
   "id": "bab4179b",
   "metadata": {},
   "source": [
    "## advanced"
   ]
  },
  {
   "cell_type": "code",
   "execution_count": 10,
   "id": "e640126a",
   "metadata": {},
   "outputs": [
    {
     "name": "stdout",
     "output_type": "stream",
     "text": [
      "2021-08-25 10:59:19,867 name_1 DEBUG    IP:192.168.0.1     User:fred     A debug message\r\n",
      "2021-08-25 10:59:19,867 name_1 INFO     IP:127.0.0.1       User:sheila   An info message with some parameters\r\n",
      "2021-08-25 10:59:19,867 name_2 CRITICAL IP:127.0.0.1       User:fred     A message at CRITICAL level with 2 parameters\r\n",
      "2021-08-25 10:59:19,867 name_2 ERROR    IP:192.168.0.1     User:jim      A message at ERROR level with 2 parameters\r\n",
      "2021-08-25 10:59:19,867 name_2 ERROR    IP:123.231.231.123 User:jim      A message at ERROR level with 2 parameters\r\n",
      "2021-08-25 10:59:19,867 name_2 INFO     IP:127.0.0.1       User:fred     A message at INFO level with 2 parameters\r\n",
      "2021-08-25 10:59:19,867 name_2 CRITICAL IP:192.168.0.1     User:sheila   A message at CRITICAL level with 2 parameters\r\n",
      "2021-08-25 10:59:19,867 name_2 DEBUG    IP:192.168.0.1     User:sheila   A message at DEBUG level with 2 parameters\r\n",
      "2021-08-25 10:59:19,867 name_2 INFO     IP:123.231.231.123 User:fred     A message at INFO level with 2 parameters\r\n",
      "2021-08-25 10:59:19,867 name_2 ERROR    IP:192.168.0.1     User:jim      A message at ERROR level with 2 parameters\r\n",
      "2021-08-25 10:59:19,867 name_2 DEBUG    IP:127.0.0.1       User:jim      A message at DEBUG level with 2 parameters\r\n",
      "2021-08-25 10:59:19,867 name_2 INFO     IP:192.168.0.1     User:jim      A message at INFO level with 2 parameters\r\n"
     ]
    }
   ],
   "source": [
    "#将log输出到屏幕上\n",
    "!python advanced_1.py"
   ]
  },
  {
   "cell_type": "code",
   "execution_count": 17,
   "id": "9d005a94",
   "metadata": {},
   "outputs": [
    {
     "name": "stdout",
     "output_type": "stream",
     "text": [
      "2021-08-25 11:18:35,776 - advanced_2.py[line:33] - DEBUG: debug\n",
      "2021-08-25 11:18:35,782 - advanced_2.py[line:34] - INFO: info\n",
      "2021-08-25 11:18:35,782 - advanced_2.py[line:35] - WARNING: 警告\n",
      "2021-08-25 11:18:35,782 - advanced_2.py[line:36] - ERROR: 报错\n",
      "2021-08-25 11:18:35,783 - advanced_2.py[line:37] - CRITICAL: 严重\n",
      "2021-08-25 11:18:35,784 - advanced_2.py[line:38] - ERROR: error\n"
     ]
    }
   ],
   "source": [
    "#将log输出到屏幕上，并且保存到文件中，同时按照时间自动分割日志文件\n",
    "!python advanced_2.py"
   ]
  }
 ],
 "metadata": {
  "kernelspec": {
   "display_name": "Python 3",
   "language": "python",
   "name": "python3"
  },
  "language_info": {
   "codemirror_mode": {
    "name": "ipython",
    "version": 3
   },
   "file_extension": ".py",
   "mimetype": "text/x-python",
   "name": "python",
   "nbconvert_exporter": "python",
   "pygments_lexer": "ipython3",
   "version": "3.7.10"
  },
  "toc": {
   "base_numbering": 1,
   "nav_menu": {},
   "number_sections": true,
   "sideBar": true,
   "skip_h1_title": false,
   "title_cell": "Table of Contents",
   "title_sidebar": "Contents",
   "toc_cell": false,
   "toc_position": {},
   "toc_section_display": true,
   "toc_window_display": false
  }
 },
 "nbformat": 4,
 "nbformat_minor": 5
}
