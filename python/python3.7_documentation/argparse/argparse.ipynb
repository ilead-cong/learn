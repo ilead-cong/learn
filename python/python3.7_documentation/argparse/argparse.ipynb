{
 "cells": [
  {
   "cell_type": "markdown",
   "id": "5218c79f",
   "metadata": {},
   "source": [
    "# argparse\n",
    "python编写包的参数以及help文档  \n",
    "python=3.7.10  "
   ]
  },
  {
   "cell_type": "markdown",
   "id": "37e32e73",
   "metadata": {},
   "source": [
    "## base"
   ]
  },
  {
   "cell_type": "markdown",
   "id": "d72a80aa",
   "metadata": {},
   "source": [
    "### help文档"
   ]
  },
  {
   "cell_type": "code",
   "execution_count": 11,
   "id": "0572d7ac",
   "metadata": {},
   "outputs": [],
   "source": [
    "import argparse"
   ]
  },
  {
   "cell_type": "code",
   "execution_count": 12,
   "id": "5af36f3c",
   "metadata": {},
   "outputs": [],
   "source": [
    "!touch prog.py"
   ]
  },
  {
   "cell_type": "code",
   "execution_count": 3,
   "id": "d20d141d",
   "metadata": {},
   "outputs": [],
   "source": [
    "!python prog.py"
   ]
  },
  {
   "cell_type": "markdown",
   "id": "421f904e",
   "metadata": {},
   "source": [
    "不需要要做任何输入，则会自动生成--help/-h的帮助文档信息"
   ]
  },
  {
   "cell_type": "code",
   "execution_count": 4,
   "id": "683d82c2",
   "metadata": {},
   "outputs": [
    {
     "name": "stdout",
     "output_type": "stream",
     "text": [
      "usage: prog.py [-h]\r\n",
      "\r\n",
      "optional arguments:\r\n",
      "  -h, --help  show this help message and exit\r\n"
     ]
    }
   ],
   "source": [
    "!python prog.py --help"
   ]
  },
  {
   "cell_type": "markdown",
   "id": "0fa5d84a",
   "metadata": {},
   "source": [
    "### 位置参数"
   ]
  },
  {
   "cell_type": "code",
   "execution_count": 6,
   "id": "cb659c43",
   "metadata": {},
   "outputs": [
    {
     "name": "stdout",
     "output_type": "stream",
     "text": [
      "usage: prog.py [-h] echo\r\n",
      "prog.py: error: the following arguments are required: echo\r\n"
     ]
    }
   ],
   "source": [
    "! python prog.py"
   ]
  },
  {
   "cell_type": "markdown",
   "id": "8771f7b9",
   "metadata": {},
   "source": [
    "位置参数为必须指定的参数"
   ]
  },
  {
   "cell_type": "code",
   "execution_count": 7,
   "id": "8949fa23",
   "metadata": {},
   "outputs": [
    {
     "name": "stdout",
     "output_type": "stream",
     "text": [
      "usage: prog.py [-h] echo\r\n",
      "\r\n",
      "positional arguments:\r\n",
      "  echo\r\n",
      "\r\n",
      "optional arguments:\r\n",
      "  -h, --help  show this help message and exit\r\n"
     ]
    }
   ],
   "source": [
    "! python prog.py --help"
   ]
  },
  {
   "cell_type": "code",
   "execution_count": 8,
   "id": "ac1bb2c4",
   "metadata": {},
   "outputs": [
    {
     "name": "stdout",
     "output_type": "stream",
     "text": [
      "foo\r\n"
     ]
    }
   ],
   "source": [
    "! python prog.py foo"
   ]
  },
  {
   "cell_type": "markdown",
   "id": "b762b189",
   "metadata": {},
   "source": [
    "此处为魔法方法，echo这一名称与传递给方法的字符串参数一致"
   ]
  },
  {
   "cell_type": "markdown",
   "id": "d2e92cd8",
   "metadata": {},
   "source": [
    "### 参数的说明"
   ]
  },
  {
   "cell_type": "code",
   "execution_count": 9,
   "id": "b6fa6956",
   "metadata": {},
   "outputs": [
    {
     "name": "stdout",
     "output_type": "stream",
     "text": [
      "usage: prog.py [-h] echo\r\n",
      "\r\n",
      "positional arguments:\r\n",
      "  echo        echo this string you use here\r\n",
      "\r\n",
      "optional arguments:\r\n",
      "  -h, --help  show this help message and exit\r\n"
     ]
    }
   ],
   "source": [
    "! python prog.py -h"
   ]
  },
  {
   "cell_type": "markdown",
   "id": "c8fcd95c",
   "metadata": {},
   "source": [
    "### 设置输入参数的数据类型"
   ]
  },
  {
   "cell_type": "code",
   "execution_count": 11,
   "id": "7f7e17cb",
   "metadata": {},
   "outputs": [
    {
     "name": "stdout",
     "output_type": "stream",
     "text": [
      "Traceback (most recent call last):\r\n",
      "  File \"prog.py\", line 33, in <module>\r\n",
      "    print(args.square**2)\r\n",
      "TypeError: unsupported operand type(s) for ** or pow(): 'str' and 'int'\r\n"
     ]
    }
   ],
   "source": [
    "! python prog.py 4"
   ]
  },
  {
   "cell_type": "markdown",
   "id": "1aabb4bf",
   "metadata": {},
   "source": [
    "argparse默认会把我们传递给它的选项视为字符串"
   ]
  },
  {
   "cell_type": "code",
   "execution_count": 12,
   "id": "a7c8ac78",
   "metadata": {},
   "outputs": [
    {
     "name": "stdout",
     "output_type": "stream",
     "text": [
      "16\r\n"
     ]
    }
   ],
   "source": [
    "#指定type=int\n",
    "!python prog.py 4"
   ]
  },
  {
   "cell_type": "code",
   "execution_count": 13,
   "id": "a19f26db",
   "metadata": {},
   "outputs": [
    {
     "name": "stdout",
     "output_type": "stream",
     "text": [
      "usage: prog.py [-h] square\r\n",
      "prog.py: error: argument square: invalid int value: 'four'\r\n"
     ]
    }
   ],
   "source": [
    "#指定type=int\n",
    "!python prog.py four"
   ]
  },
  {
   "cell_type": "markdown",
   "id": "4e575b4d",
   "metadata": {},
   "source": [
    "当程序收到错误的无效输出时，它能在执行计算之前先退出，还能显示帮做的错误信息"
   ]
  },
  {
   "cell_type": "markdown",
   "id": "daae0b07",
   "metadata": {},
   "source": [
    "### 可选参数"
   ]
  },
  {
   "cell_type": "code",
   "execution_count": 14,
   "id": "a63aab6e",
   "metadata": {},
   "outputs": [
    {
     "name": "stdout",
     "output_type": "stream",
     "text": [
      "verbosity turned on\r\n"
     ]
    }
   ],
   "source": [
    "! python prog.py --verbosity 1"
   ]
  },
  {
   "cell_type": "code",
   "execution_count": 16,
   "id": "79d5a70e",
   "metadata": {},
   "outputs": [],
   "source": [
    "!python prog.py"
   ]
  },
  {
   "cell_type": "markdown",
   "id": "e8ffebf1",
   "metadata": {},
   "source": [
    "不添加该参数，未发生报错，证明verbosity为可选参数  \n",
    "**注意**：如果一个可选参数没有被使用时，相关变量赋值为None，可在if判断中当作逻辑信息进行判断"
   ]
  },
  {
   "cell_type": "code",
   "execution_count": 17,
   "id": "56579fef",
   "metadata": {},
   "outputs": [
    {
     "name": "stdout",
     "output_type": "stream",
     "text": [
      "usage: prog.py [-h] [--verbosity VERBOSITY]\r\n",
      "\r\n",
      "optional arguments:\r\n",
      "  -h, --help            show this help message and exit\r\n",
      "  --verbosity VERBOSITY\r\n",
      "                        increase output verbosity\r\n"
     ]
    }
   ],
   "source": [
    "!python prog.py --help"
   ]
  },
  {
   "cell_type": "code",
   "execution_count": 18,
   "id": "3d8728dc",
   "metadata": {},
   "outputs": [
    {
     "name": "stdout",
     "output_type": "stream",
     "text": [
      "usage: prog.py [-h] [--verbosity VERBOSITY]\r\n",
      "prog.py: error: argument --verbosity: expected one argument\r\n"
     ]
    }
   ],
   "source": [
    "!python prog.py --verbosity"
   ]
  },
  {
   "cell_type": "markdown",
   "id": "aff529ec",
   "metadata": {},
   "source": [
    "### action\n",
    "使用--verbosity选项时，必须指定一些值；但实际有意义的值只有两个，true 或者false，因此添加action，并赋值为\"store_true\"，当这一选项存在时，args,verbose赋值为true，没有指定则隐含赋值为false"
   ]
  },
  {
   "cell_type": "code",
   "execution_count": 20,
   "id": "b8c023df",
   "metadata": {},
   "outputs": [
    {
     "name": "stdout",
     "output_type": "stream",
     "text": [
      "verbosity turned on\r\n"
     ]
    }
   ],
   "source": [
    "!python prog.py --verbose"
   ]
  },
  {
   "cell_type": "code",
   "execution_count": 21,
   "id": "a3f5242b",
   "metadata": {},
   "outputs": [
    {
     "name": "stdout",
     "output_type": "stream",
     "text": [
      "usage: prog.py [-h] [--verbose]\r\n",
      "prog.py: error: unrecognized arguments: 1\r\n"
     ]
    }
   ],
   "source": [
    "!python prog.py --verbose 1"
   ]
  },
  {
   "cell_type": "code",
   "execution_count": 22,
   "id": "23dab63b",
   "metadata": {},
   "outputs": [
    {
     "name": "stdout",
     "output_type": "stream",
     "text": [
      "usage: prog.py [-h] [--verbose]\r\n",
      "\r\n",
      "optional arguments:\r\n",
      "  -h, --help  show this help message and exit\r\n",
      "  --verbose   increase output verbosity\r\n"
     ]
    }
   ],
   "source": [
    "!python prog.py --verbosity --help"
   ]
  },
  {
   "cell_type": "markdown",
   "id": "a15bfdef",
   "metadata": {},
   "source": [
    "### 短选项"
   ]
  },
  {
   "cell_type": "code",
   "execution_count": 23,
   "id": "e7cf5b9b",
   "metadata": {},
   "outputs": [
    {
     "name": "stdout",
     "output_type": "stream",
     "text": [
      "verbosity turned on\r\n"
     ]
    }
   ],
   "source": [
    "!python prog.py -v"
   ]
  },
  {
   "cell_type": "code",
   "execution_count": 24,
   "id": "916da9f4",
   "metadata": {},
   "outputs": [
    {
     "name": "stdout",
     "output_type": "stream",
     "text": [
      "usage: prog.py [-h] [-v]\r\n",
      "\r\n",
      "optional arguments:\r\n",
      "  -h, --help     show this help message and exit\r\n",
      "  -v, --verbose  increase output verbosity\r\n"
     ]
    }
   ],
   "source": [
    "! python prog.py --help"
   ]
  },
  {
   "cell_type": "markdown",
   "id": "584eacf7",
   "metadata": {},
   "source": [
    "### choices"
   ]
  },
  {
   "cell_type": "code",
   "execution_count": 26,
   "id": "81320725",
   "metadata": {},
   "outputs": [
    {
     "name": "stdout",
     "output_type": "stream",
     "text": [
      "16\r\n"
     ]
    }
   ],
   "source": [
    "# not have \n",
    "!python prog.py 4"
   ]
  },
  {
   "cell_type": "code",
   "execution_count": 27,
   "id": "e1a0b521",
   "metadata": {},
   "outputs": [
    {
     "name": "stdout",
     "output_type": "stream",
     "text": [
      "usage: prog.py [-h] [-v VERBOSITY] square\n",
      "prog.py: error: argument -v/--verbosity: expected one argument\n"
     ]
    }
   ],
   "source": [
    "!python prog.py 4 -v"
   ]
  },
  {
   "cell_type": "code",
   "execution_count": 29,
   "id": "80861709",
   "metadata": {},
   "outputs": [
    {
     "name": "stdout",
     "output_type": "stream",
     "text": [
      "4^2 == 16\r\n"
     ]
    }
   ],
   "source": [
    "!python prog.py 4 -v 1"
   ]
  },
  {
   "cell_type": "code",
   "execution_count": 30,
   "id": "4fa65fae",
   "metadata": {},
   "outputs": [
    {
     "name": "stdout",
     "output_type": "stream",
     "text": [
      "the square of 4 equals 16\r\n"
     ]
    }
   ],
   "source": [
    "!python prog.py 4 -v 2"
   ]
  },
  {
   "cell_type": "code",
   "execution_count": 31,
   "id": "088c9fca",
   "metadata": {},
   "outputs": [
    {
     "name": "stdout",
     "output_type": "stream",
     "text": [
      "16\r\n"
     ]
    }
   ],
   "source": [
    "!python prog.py 4 -v 3"
   ]
  },
  {
   "cell_type": "code",
   "execution_count": 33,
   "id": "f04b95c7",
   "metadata": {
    "scrolled": true
   },
   "outputs": [
    {
     "name": "stdout",
     "output_type": "stream",
     "text": [
      "usage: prog.py [-h] [-v {0,1,2}] square\r\n",
      "prog.py: error: argument -v/--verbosity: invalid choice: 3 (choose from 0, 1, 2)\r\n"
     ]
    }
   ],
   "source": [
    "#have\n",
    "!python prog.py 4 -v 3"
   ]
  },
  {
   "cell_type": "code",
   "execution_count": 34,
   "id": "6b85d5ca",
   "metadata": {},
   "outputs": [
    {
     "name": "stdout",
     "output_type": "stream",
     "text": [
      "usage: prog.py [-h] [-v {0,1,2}] square\r\n",
      "\r\n",
      "positional arguments:\r\n",
      "  square                display a square of a given number\r\n",
      "\r\n",
      "optional arguments:\r\n",
      "  -h, --help            show this help message and exit\r\n",
      "  -v {0,1,2}, --verbosity {0,1,2}\r\n",
      "                        increase output verbosity\r\n"
     ]
    }
   ],
   "source": [
    "!python prog.py --help"
   ]
  },
  {
   "cell_type": "markdown",
   "id": "a6efc586",
   "metadata": {},
   "source": [
    "### count\n",
    "数某一可选参数出现的次数"
   ]
  },
  {
   "cell_type": "code",
   "execution_count": 35,
   "id": "9b97fc17",
   "metadata": {},
   "outputs": [
    {
     "name": "stdout",
     "output_type": "stream",
     "text": [
      "16\r\n"
     ]
    }
   ],
   "source": [
    "!python prog.py 4"
   ]
  },
  {
   "cell_type": "code",
   "execution_count": 37,
   "id": "9f1dc728",
   "metadata": {},
   "outputs": [
    {
     "name": "stdout",
     "output_type": "stream",
     "text": [
      "4^2 == 16\r\n"
     ]
    }
   ],
   "source": [
    "!python prog.py 4 -v"
   ]
  },
  {
   "cell_type": "code",
   "execution_count": 38,
   "id": "25a2d1cb",
   "metadata": {},
   "outputs": [
    {
     "name": "stdout",
     "output_type": "stream",
     "text": [
      "the square of 4 equals 16\r\n"
     ]
    }
   ],
   "source": [
    "!python prog.py 4 -vv"
   ]
  },
  {
   "cell_type": "code",
   "execution_count": 39,
   "id": "55757a4f",
   "metadata": {},
   "outputs": [
    {
     "name": "stdout",
     "output_type": "stream",
     "text": [
      "the square of 4 equals 16\r\n"
     ]
    }
   ],
   "source": [
    "!python prog.py 4 --verbosity --verbosity"
   ]
  },
  {
   "cell_type": "code",
   "execution_count": 40,
   "id": "7d57149b",
   "metadata": {},
   "outputs": [
    {
     "name": "stdout",
     "output_type": "stream",
     "text": [
      "usage: prog.py [-h] [-v] square\r\n",
      "prog.py: error: unrecognized arguments: 1\r\n"
     ]
    }
   ],
   "source": [
    "!python prog.py 4 -v 1"
   ]
  },
  {
   "cell_type": "code",
   "execution_count": 41,
   "id": "95fa0e7b",
   "metadata": {
    "scrolled": true
   },
   "outputs": [
    {
     "name": "stdout",
     "output_type": "stream",
     "text": [
      "usage: prog.py [-h] [-v] square\r\n",
      "\r\n",
      "positional arguments:\r\n",
      "  square           display the square of a given number\r\n",
      "\r\n",
      "optional arguments:\r\n",
      "  -h, --help       show this help message and exit\r\n",
      "  -v, --verbosity  increase output verbosity\r\n"
     ]
    }
   ],
   "source": [
    "!python prog.py 4 -h"
   ]
  },
  {
   "cell_type": "markdown",
   "id": "3a263437",
   "metadata": {},
   "source": [
    "### default"
   ]
  },
  {
   "cell_type": "code",
   "execution_count": 43,
   "id": "ddbe8acf",
   "metadata": {},
   "outputs": [
    {
     "name": "stdout",
     "output_type": "stream",
     "text": [
      "the square of 4 equals 16\r\n"
     ]
    }
   ],
   "source": [
    "# not have\n",
    "!python prog.py 4 -vv"
   ]
  },
  {
   "cell_type": "code",
   "execution_count": 44,
   "id": "deee0aad",
   "metadata": {},
   "outputs": [
    {
     "name": "stdout",
     "output_type": "stream",
     "text": [
      "the square of 4 equals 16\r\n"
     ]
    }
   ],
   "source": [
    "!python prog.py 4 -vvvv"
   ]
  },
  {
   "cell_type": "code",
   "execution_count": 45,
   "id": "628010ec",
   "metadata": {},
   "outputs": [
    {
     "name": "stdout",
     "output_type": "stream",
     "text": [
      "Traceback (most recent call last):\r\n",
      "  File \"prog.py\", line 142, in <module>\r\n",
      "    if args.verbosity >= 2:\r\n",
      "TypeError: '>=' not supported between instances of 'NoneType' and 'int'\r\n"
     ]
    }
   ],
   "source": [
    "!python prog.py 4 "
   ]
  },
  {
   "cell_type": "code",
   "execution_count": 46,
   "id": "6a525513",
   "metadata": {},
   "outputs": [
    {
     "name": "stdout",
     "output_type": "stream",
     "text": [
      "16\r\n"
     ]
    }
   ],
   "source": [
    "#have\n",
    "!python prog.py 4"
   ]
  },
  {
   "cell_type": "markdown",
   "id": "c7696014",
   "metadata": {},
   "source": [
    "### 矛盾选项\n",
    "add_mutually_exclusive_group()  \n",
    "允许指定彼此互相冲突的选项"
   ]
  },
  {
   "cell_type": "code",
   "execution_count": 50,
   "id": "ed7be697",
   "metadata": {},
   "outputs": [
    {
     "name": "stdout",
     "output_type": "stream",
     "text": [
      "4^2 == 16\r\n"
     ]
    }
   ],
   "source": [
    "!python prog.py 4 2"
   ]
  },
  {
   "cell_type": "code",
   "execution_count": 51,
   "id": "22e15e0b",
   "metadata": {},
   "outputs": [
    {
     "name": "stdout",
     "output_type": "stream",
     "text": [
      "16\r\n"
     ]
    }
   ],
   "source": [
    "!python prog.py 4 2 -q"
   ]
  },
  {
   "cell_type": "code",
   "execution_count": 52,
   "id": "0ed90206",
   "metadata": {},
   "outputs": [
    {
     "name": "stdout",
     "output_type": "stream",
     "text": [
      "4 to the power 2 equals 16\r\n"
     ]
    }
   ],
   "source": [
    "!python prog.py 4 2 -v"
   ]
  },
  {
   "cell_type": "code",
   "execution_count": 53,
   "id": "abd8effb",
   "metadata": {},
   "outputs": [
    {
     "name": "stdout",
     "output_type": "stream",
     "text": [
      "usage: prog.py [-h] [-v | -q] x y\r\n",
      "prog.py: error: argument -q/--quiet: not allowed with argument -v/--verbose\r\n"
     ]
    }
   ],
   "source": [
    "!python prog.py 4 2 -vq"
   ]
  },
  {
   "cell_type": "code",
   "execution_count": 54,
   "id": "3b2a72b4",
   "metadata": {},
   "outputs": [
    {
     "name": "stdout",
     "output_type": "stream",
     "text": [
      "usage: prog.py [-h] [-v | -q] x y\r\n",
      "prog.py: error: argument -q/--quiet: not allowed with argument -v/--verbose\r\n"
     ]
    }
   ],
   "source": [
    "!python prog.py 4 2 -v --quiet"
   ]
  },
  {
   "cell_type": "markdown",
   "id": "69aea6f8",
   "metadata": {},
   "source": [
    "### description\n",
    "描述程序的主要目标"
   ]
  },
  {
   "cell_type": "code",
   "execution_count": 55,
   "id": "62909dc7",
   "metadata": {},
   "outputs": [
    {
     "name": "stdout",
     "output_type": "stream",
     "text": [
      "usage: prog.py [-h] [-v | -q] x y\r\n",
      "\r\n",
      "calculate X to the power of Y\r\n",
      "\r\n",
      "positional arguments:\r\n",
      "  x              the base\r\n",
      "  y              the exponent\r\n",
      "\r\n",
      "optional arguments:\r\n",
      "  -h, --help     show this help message and exit\r\n",
      "  -v, --verbose\r\n",
      "  -q, --quiet\r\n"
     ]
    }
   ],
   "source": [
    "!python prog.py --help"
   ]
  },
  {
   "cell_type": "markdown",
   "id": "0d654860",
   "metadata": {},
   "source": [
    "## advanced"
   ]
  },
  {
   "cell_type": "code",
   "execution_count": null,
   "id": "d131f43b",
   "metadata": {},
   "outputs": [],
   "source": []
  }
 ],
 "metadata": {
  "kernelspec": {
   "display_name": "Python 3",
   "language": "python",
   "name": "python3"
  },
  "language_info": {
   "codemirror_mode": {
    "name": "ipython",
    "version": 3
   },
   "file_extension": ".py",
   "mimetype": "text/x-python",
   "name": "python",
   "nbconvert_exporter": "python",
   "pygments_lexer": "ipython3",
   "version": "3.7.11"
  },
  "toc": {
   "base_numbering": 1,
   "nav_menu": {},
   "number_sections": true,
   "sideBar": true,
   "skip_h1_title": false,
   "title_cell": "Table of Contents",
   "title_sidebar": "Contents",
   "toc_cell": false,
   "toc_position": {},
   "toc_section_display": true,
   "toc_window_display": false
  }
 },
 "nbformat": 4,
 "nbformat_minor": 5
}
