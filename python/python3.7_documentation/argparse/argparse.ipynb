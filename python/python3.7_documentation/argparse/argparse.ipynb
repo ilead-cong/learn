{
 "cells": [
  {
   "cell_type": "markdown",
   "id": "5218c79f",
   "metadata": {},
   "source": [
    "# argparse\n",
    "python编写包的参数以及help文档  \n",
    "python=3.7.10  "
   ]
  },
  {
   "cell_type": "markdown",
   "id": "37e32e73",
   "metadata": {},
   "source": [
    "## base"
   ]
  },
  {
   "cell_type": "markdown",
   "id": "d72a80aa",
   "metadata": {},
   "source": [
    "### help文档"
   ]
  },
  {
   "cell_type": "code",
   "execution_count": 11,
   "id": "0572d7ac",
   "metadata": {},
   "outputs": [],
   "source": [
    "import argparse"
   ]
  },
  {
   "cell_type": "code",
   "execution_count": 12,
   "id": "5af36f3c",
   "metadata": {},
   "outputs": [],
   "source": [
    "!touch prog.py"
   ]
  },
  {
   "cell_type": "code",
   "execution_count": 3,
   "id": "d20d141d",
   "metadata": {},
   "outputs": [],
   "source": [
    "!python prog.py"
   ]
  },
  {
   "cell_type": "markdown",
   "id": "421f904e",
   "metadata": {},
   "source": [
    "不需要要做任何输入，则会自动生成--help/-h的帮助文档信息"
   ]
  },
  {
   "cell_type": "code",
   "execution_count": 4,
   "id": "683d82c2",
   "metadata": {},
   "outputs": [
    {
     "name": "stdout",
     "output_type": "stream",
     "text": [
      "usage: prog.py [-h]\r\n",
      "\r\n",
      "optional arguments:\r\n",
      "  -h, --help  show this help message and exit\r\n"
     ]
    }
   ],
   "source": [
    "!python prog.py --help"
   ]
  },
  {
   "cell_type": "markdown",
   "id": "0fa5d84a",
   "metadata": {},
   "source": [
    "### 位置参数"
   ]
  },
  {
   "cell_type": "code",
   "execution_count": 6,
   "id": "cb659c43",
   "metadata": {},
   "outputs": [
    {
     "name": "stdout",
     "output_type": "stream",
     "text": [
      "usage: prog.py [-h] echo\r\n",
      "prog.py: error: the following arguments are required: echo\r\n"
     ]
    }
   ],
   "source": [
    "! python prog.py"
   ]
  },
  {
   "cell_type": "markdown",
   "id": "8771f7b9",
   "metadata": {},
   "source": [
    "位置参数为必须指定的参数"
   ]
  },
  {
   "cell_type": "code",
   "execution_count": 7,
   "id": "8949fa23",
   "metadata": {},
   "outputs": [
    {
     "name": "stdout",
     "output_type": "stream",
     "text": [
      "usage: prog.py [-h] echo\r\n",
      "\r\n",
      "positional arguments:\r\n",
      "  echo\r\n",
      "\r\n",
      "optional arguments:\r\n",
      "  -h, --help  show this help message and exit\r\n"
     ]
    }
   ],
   "source": [
    "! python prog.py --help"
   ]
  },
  {
   "cell_type": "code",
   "execution_count": 8,
   "id": "ac1bb2c4",
   "metadata": {},
   "outputs": [
    {
     "name": "stdout",
     "output_type": "stream",
     "text": [
      "foo\r\n"
     ]
    }
   ],
   "source": [
    "! python prog.py foo"
   ]
  },
  {
   "cell_type": "markdown",
   "id": "b762b189",
   "metadata": {},
   "source": [
    "此处为魔法方法，echo这一名称与传递给方法的字符串参数一致"
   ]
  },
  {
   "cell_type": "markdown",
   "id": "d2e92cd8",
   "metadata": {},
   "source": [
    "### 参数的说明"
   ]
  },
  {
   "cell_type": "code",
   "execution_count": 9,
   "id": "b6fa6956",
   "metadata": {},
   "outputs": [
    {
     "name": "stdout",
     "output_type": "stream",
     "text": [
      "usage: prog.py [-h] echo\r\n",
      "\r\n",
      "positional arguments:\r\n",
      "  echo        echo this string you use here\r\n",
      "\r\n",
      "optional arguments:\r\n",
      "  -h, --help  show this help message and exit\r\n"
     ]
    }
   ],
   "source": [
    "! python prog.py -h"
   ]
  },
  {
   "cell_type": "markdown",
   "id": "c8fcd95c",
   "metadata": {},
   "source": [
    "### 设置输入参数的数据类型"
   ]
  },
  {
   "cell_type": "code",
   "execution_count": 11,
   "id": "7f7e17cb",
   "metadata": {},
   "outputs": [
    {
     "name": "stdout",
     "output_type": "stream",
     "text": [
      "Traceback (most recent call last):\r\n",
      "  File \"prog.py\", line 33, in <module>\r\n",
      "    print(args.square**2)\r\n",
      "TypeError: unsupported operand type(s) for ** or pow(): 'str' and 'int'\r\n"
     ]
    }
   ],
   "source": [
    "! python prog.py 4"
   ]
  },
  {
   "cell_type": "markdown",
   "id": "1aabb4bf",
   "metadata": {},
   "source": [
    "argparse默认会把我们传递给它的选项视为字符串"
   ]
  },
  {
   "cell_type": "code",
   "execution_count": 12,
   "id": "a7c8ac78",
   "metadata": {},
   "outputs": [
    {
     "name": "stdout",
     "output_type": "stream",
     "text": [
      "16\r\n"
     ]
    }
   ],
   "source": [
    "#指定type=int\n",
    "!python prog.py 4"
   ]
  },
  {
   "cell_type": "code",
   "execution_count": 13,
   "id": "a19f26db",
   "metadata": {},
   "outputs": [
    {
     "name": "stdout",
     "output_type": "stream",
     "text": [
      "usage: prog.py [-h] square\r\n",
      "prog.py: error: argument square: invalid int value: 'four'\r\n"
     ]
    }
   ],
   "source": [
    "#指定type=int\n",
    "!python prog.py four"
   ]
  },
  {
   "cell_type": "markdown",
   "id": "4e575b4d",
   "metadata": {},
   "source": [
    "当程序收到错误的无效输出时，它能在执行计算之前先退出，还能显示帮做的错误信息"
   ]
  },
  {
   "cell_type": "markdown",
   "id": "daae0b07",
   "metadata": {},
   "source": [
    "### 可选参数"
   ]
  },
  {
   "cell_type": "code",
   "execution_count": 14,
   "id": "a63aab6e",
   "metadata": {},
   "outputs": [
    {
     "name": "stdout",
     "output_type": "stream",
     "text": [
      "verbosity turned on\r\n"
     ]
    }
   ],
   "source": [
    "! python prog.py --verbosity 1"
   ]
  },
  {
   "cell_type": "code",
   "execution_count": 16,
   "id": "79d5a70e",
   "metadata": {},
   "outputs": [],
   "source": [
    "!python prog.py"
   ]
  },
  {
   "cell_type": "markdown",
   "id": "e8ffebf1",
   "metadata": {},
   "source": [
    "不添加该参数，未发生报错，证明verbosity为可选参数  \n",
    "**注意**：如果一个可选参数没有被使用时，相关变量赋值为None，可在if判断中当作逻辑信息进行判断"
   ]
  },
  {
   "cell_type": "code",
   "execution_count": 17,
   "id": "56579fef",
   "metadata": {},
   "outputs": [
    {
     "name": "stdout",
     "output_type": "stream",
     "text": [
      "usage: prog.py [-h] [--verbosity VERBOSITY]\r\n",
      "\r\n",
      "optional arguments:\r\n",
      "  -h, --help            show this help message and exit\r\n",
      "  --verbosity VERBOSITY\r\n",
      "                        increase output verbosity\r\n"
     ]
    }
   ],
   "source": [
    "!python prog.py --help"
   ]
  },
  {
   "cell_type": "code",
   "execution_count": 18,
   "id": "3d8728dc",
   "metadata": {},
   "outputs": [
    {
     "name": "stdout",
     "output_type": "stream",
     "text": [
      "usage: prog.py [-h] [--verbosity VERBOSITY]\r\n",
      "prog.py: error: argument --verbosity: expected one argument\r\n"
     ]
    }
   ],
   "source": [
    "!python prog.py --verbosity"
   ]
  },
  {
   "cell_type": "markdown",
   "id": "aff529ec",
   "metadata": {},
   "source": [
    "### action\n",
    "使用--verbosity选项时，必须指定一些值；但实际有意义的值只有两个，true 或者false，因此添加action，并赋值为\"store_true\"，当这一选项存在时，args,verbose赋值为true，没有指定则隐含赋值为false"
   ]
  },
  {
   "cell_type": "code",
   "execution_count": 20,
   "id": "b8c023df",
   "metadata": {},
   "outputs": [
    {
     "name": "stdout",
     "output_type": "stream",
     "text": [
      "verbosity turned on\r\n"
     ]
    }
   ],
   "source": [
    "!python prog.py --verbose"
   ]
  },
  {
   "cell_type": "code",
   "execution_count": 21,
   "id": "a3f5242b",
   "metadata": {},
   "outputs": [
    {
     "name": "stdout",
     "output_type": "stream",
     "text": [
      "usage: prog.py [-h] [--verbose]\r\n",
      "prog.py: error: unrecognized arguments: 1\r\n"
     ]
    }
   ],
   "source": [
    "!python prog.py --verbose 1"
   ]
  },
  {
   "cell_type": "code",
   "execution_count": 22,
   "id": "23dab63b",
   "metadata": {},
   "outputs": [
    {
     "name": "stdout",
     "output_type": "stream",
     "text": [
      "usage: prog.py [-h] [--verbose]\r\n",
      "\r\n",
      "optional arguments:\r\n",
      "  -h, --help  show this help message and exit\r\n",
      "  --verbose   increase output verbosity\r\n"
     ]
    }
   ],
   "source": [
    "!python prog.py --verbosity --help"
   ]
  },
  {
   "cell_type": "markdown",
   "id": "a15bfdef",
   "metadata": {},
   "source": [
    "### 短选项"
   ]
  },
  {
   "cell_type": "code",
   "execution_count": 23,
   "id": "e7cf5b9b",
   "metadata": {},
   "outputs": [
    {
     "name": "stdout",
     "output_type": "stream",
     "text": [
      "verbosity turned on\r\n"
     ]
    }
   ],
   "source": [
    "!python prog.py -v"
   ]
  },
  {
   "cell_type": "code",
   "execution_count": 24,
   "id": "916da9f4",
   "metadata": {},
   "outputs": [
    {
     "name": "stdout",
     "output_type": "stream",
     "text": [
      "usage: prog.py [-h] [-v]\r\n",
      "\r\n",
      "optional arguments:\r\n",
      "  -h, --help     show this help message and exit\r\n",
      "  -v, --verbose  increase output verbosity\r\n"
     ]
    }
   ],
   "source": [
    "! python prog.py --help"
   ]
  },
  {
   "cell_type": "markdown",
   "id": "584eacf7",
   "metadata": {},
   "source": [
    "### choices"
   ]
  },
  {
   "cell_type": "code",
   "execution_count": 26,
   "id": "81320725",
   "metadata": {},
   "outputs": [
    {
     "name": "stdout",
     "output_type": "stream",
     "text": [
      "16\r\n"
     ]
    }
   ],
   "source": [
    "# not have \n",
    "!python prog.py 4"
   ]
  },
  {
   "cell_type": "code",
   "execution_count": 27,
   "id": "e1a0b521",
   "metadata": {},
   "outputs": [
    {
     "name": "stdout",
     "output_type": "stream",
     "text": [
      "usage: prog.py [-h] [-v VERBOSITY] square\n",
      "prog.py: error: argument -v/--verbosity: expected one argument\n"
     ]
    }
   ],
   "source": [
    "!python prog.py 4 -v"
   ]
  },
  {
   "cell_type": "code",
   "execution_count": 29,
   "id": "80861709",
   "metadata": {},
   "outputs": [
    {
     "name": "stdout",
     "output_type": "stream",
     "text": [
      "4^2 == 16\r\n"
     ]
    }
   ],
   "source": [
    "!python prog.py 4 -v 1"
   ]
  },
  {
   "cell_type": "code",
   "execution_count": 30,
   "id": "4fa65fae",
   "metadata": {},
   "outputs": [
    {
     "name": "stdout",
     "output_type": "stream",
     "text": [
      "the square of 4 equals 16\r\n"
     ]
    }
   ],
   "source": [
    "!python prog.py 4 -v 2"
   ]
  },
  {
   "cell_type": "code",
   "execution_count": 31,
   "id": "088c9fca",
   "metadata": {},
   "outputs": [
    {
     "name": "stdout",
     "output_type": "stream",
     "text": [
      "16\r\n"
     ]
    }
   ],
   "source": [
    "!python prog.py 4 -v 3"
   ]
  },
  {
   "cell_type": "code",
   "execution_count": 33,
   "id": "f04b95c7",
   "metadata": {
    "scrolled": true
   },
   "outputs": [
    {
     "name": "stdout",
     "output_type": "stream",
     "text": [
      "usage: prog.py [-h] [-v {0,1,2}] square\r\n",
      "prog.py: error: argument -v/--verbosity: invalid choice: 3 (choose from 0, 1, 2)\r\n"
     ]
    }
   ],
   "source": [
    "#have\n",
    "!python prog.py 4 -v 3"
   ]
  },
  {
   "cell_type": "code",
   "execution_count": 34,
   "id": "6b85d5ca",
   "metadata": {},
   "outputs": [
    {
     "name": "stdout",
     "output_type": "stream",
     "text": [
      "usage: prog.py [-h] [-v {0,1,2}] square\r\n",
      "\r\n",
      "positional arguments:\r\n",
      "  square                display a square of a given number\r\n",
      "\r\n",
      "optional arguments:\r\n",
      "  -h, --help            show this help message and exit\r\n",
      "  -v {0,1,2}, --verbosity {0,1,2}\r\n",
      "                        increase output verbosity\r\n"
     ]
    }
   ],
   "source": [
    "!python prog.py --help"
   ]
  },
  {
   "cell_type": "markdown",
   "id": "a6efc586",
   "metadata": {},
   "source": [
    "### count\n",
    "数某一可选参数出现的次数"
   ]
  },
  {
   "cell_type": "code",
   "execution_count": 35,
   "id": "9b97fc17",
   "metadata": {},
   "outputs": [
    {
     "name": "stdout",
     "output_type": "stream",
     "text": [
      "16\r\n"
     ]
    }
   ],
   "source": [
    "!python prog.py 4"
   ]
  },
  {
   "cell_type": "code",
   "execution_count": 37,
   "id": "9f1dc728",
   "metadata": {},
   "outputs": [
    {
     "name": "stdout",
     "output_type": "stream",
     "text": [
      "4^2 == 16\r\n"
     ]
    }
   ],
   "source": [
    "!python prog.py 4 -v"
   ]
  },
  {
   "cell_type": "code",
   "execution_count": 38,
   "id": "25a2d1cb",
   "metadata": {},
   "outputs": [
    {
     "name": "stdout",
     "output_type": "stream",
     "text": [
      "the square of 4 equals 16\r\n"
     ]
    }
   ],
   "source": [
    "!python prog.py 4 -vv"
   ]
  },
  {
   "cell_type": "code",
   "execution_count": 39,
   "id": "55757a4f",
   "metadata": {},
   "outputs": [
    {
     "name": "stdout",
     "output_type": "stream",
     "text": [
      "the square of 4 equals 16\r\n"
     ]
    }
   ],
   "source": [
    "!python prog.py 4 --verbosity --verbosity"
   ]
  },
  {
   "cell_type": "code",
   "execution_count": 40,
   "id": "7d57149b",
   "metadata": {},
   "outputs": [
    {
     "name": "stdout",
     "output_type": "stream",
     "text": [
      "usage: prog.py [-h] [-v] square\r\n",
      "prog.py: error: unrecognized arguments: 1\r\n"
     ]
    }
   ],
   "source": [
    "!python prog.py 4 -v 1"
   ]
  },
  {
   "cell_type": "code",
   "execution_count": 41,
   "id": "95fa0e7b",
   "metadata": {
    "scrolled": true
   },
   "outputs": [
    {
     "name": "stdout",
     "output_type": "stream",
     "text": [
      "usage: prog.py [-h] [-v] square\r\n",
      "\r\n",
      "positional arguments:\r\n",
      "  square           display the square of a given number\r\n",
      "\r\n",
      "optional arguments:\r\n",
      "  -h, --help       show this help message and exit\r\n",
      "  -v, --verbosity  increase output verbosity\r\n"
     ]
    }
   ],
   "source": [
    "!python prog.py 4 -h"
   ]
  },
  {
   "cell_type": "markdown",
   "id": "3a263437",
   "metadata": {},
   "source": [
    "### default"
   ]
  },
  {
   "cell_type": "code",
   "execution_count": 43,
   "id": "ddbe8acf",
   "metadata": {},
   "outputs": [
    {
     "name": "stdout",
     "output_type": "stream",
     "text": [
      "the square of 4 equals 16\r\n"
     ]
    }
   ],
   "source": [
    "# not have\n",
    "!python prog.py 4 -vv"
   ]
  },
  {
   "cell_type": "code",
   "execution_count": 44,
   "id": "deee0aad",
   "metadata": {},
   "outputs": [
    {
     "name": "stdout",
     "output_type": "stream",
     "text": [
      "the square of 4 equals 16\r\n"
     ]
    }
   ],
   "source": [
    "!python prog.py 4 -vvvv"
   ]
  },
  {
   "cell_type": "code",
   "execution_count": 45,
   "id": "628010ec",
   "metadata": {},
   "outputs": [
    {
     "name": "stdout",
     "output_type": "stream",
     "text": [
      "Traceback (most recent call last):\r\n",
      "  File \"prog.py\", line 142, in <module>\r\n",
      "    if args.verbosity >= 2:\r\n",
      "TypeError: '>=' not supported between instances of 'NoneType' and 'int'\r\n"
     ]
    }
   ],
   "source": [
    "!python prog.py 4 "
   ]
  },
  {
   "cell_type": "code",
   "execution_count": 46,
   "id": "6a525513",
   "metadata": {},
   "outputs": [
    {
     "name": "stdout",
     "output_type": "stream",
     "text": [
      "16\r\n"
     ]
    }
   ],
   "source": [
    "#have\n",
    "!python prog.py 4"
   ]
  },
  {
   "cell_type": "markdown",
   "id": "c7696014",
   "metadata": {},
   "source": [
    "### 矛盾选项\n",
    "add_mutually_exclusive_group()  \n",
    "允许指定彼此互相冲突的选项"
   ]
  },
  {
   "cell_type": "code",
   "execution_count": 50,
   "id": "ed7be697",
   "metadata": {},
   "outputs": [
    {
     "name": "stdout",
     "output_type": "stream",
     "text": [
      "4^2 == 16\r\n"
     ]
    }
   ],
   "source": [
    "!python prog.py 4 2"
   ]
  },
  {
   "cell_type": "code",
   "execution_count": 51,
   "id": "22e15e0b",
   "metadata": {},
   "outputs": [
    {
     "name": "stdout",
     "output_type": "stream",
     "text": [
      "16\r\n"
     ]
    }
   ],
   "source": [
    "!python prog.py 4 2 -q"
   ]
  },
  {
   "cell_type": "code",
   "execution_count": 52,
   "id": "0ed90206",
   "metadata": {},
   "outputs": [
    {
     "name": "stdout",
     "output_type": "stream",
     "text": [
      "4 to the power 2 equals 16\r\n"
     ]
    }
   ],
   "source": [
    "!python prog.py 4 2 -v"
   ]
  },
  {
   "cell_type": "code",
   "execution_count": 53,
   "id": "abd8effb",
   "metadata": {},
   "outputs": [
    {
     "name": "stdout",
     "output_type": "stream",
     "text": [
      "usage: prog.py [-h] [-v | -q] x y\r\n",
      "prog.py: error: argument -q/--quiet: not allowed with argument -v/--verbose\r\n"
     ]
    }
   ],
   "source": [
    "!python prog.py 4 2 -vq"
   ]
  },
  {
   "cell_type": "code",
   "execution_count": 54,
   "id": "3b2a72b4",
   "metadata": {},
   "outputs": [
    {
     "name": "stdout",
     "output_type": "stream",
     "text": [
      "usage: prog.py [-h] [-v | -q] x y\r\n",
      "prog.py: error: argument -q/--quiet: not allowed with argument -v/--verbose\r\n"
     ]
    }
   ],
   "source": [
    "!python prog.py 4 2 -v --quiet"
   ]
  },
  {
   "cell_type": "markdown",
   "id": "69aea6f8",
   "metadata": {},
   "source": [
    "### description\n",
    "描述程序的主要目标"
   ]
  },
  {
   "cell_type": "code",
   "execution_count": 55,
   "id": "62909dc7",
   "metadata": {},
   "outputs": [
    {
     "name": "stdout",
     "output_type": "stream",
     "text": [
      "usage: prog.py [-h] [-v | -q] x y\r\n",
      "\r\n",
      "calculate X to the power of Y\r\n",
      "\r\n",
      "positional arguments:\r\n",
      "  x              the base\r\n",
      "  y              the exponent\r\n",
      "\r\n",
      "optional arguments:\r\n",
      "  -h, --help     show this help message and exit\r\n",
      "  -v, --verbose\r\n",
      "  -q, --quiet\r\n"
     ]
    }
   ],
   "source": [
    "!python prog.py --help"
   ]
  },
  {
   "cell_type": "markdown",
   "id": "0d654860",
   "metadata": {},
   "source": [
    "## advanced"
   ]
  },
  {
   "cell_type": "markdown",
   "id": "4a1fad65",
   "metadata": {},
   "source": [
    "### ArgumentParser 对象"
   ]
  },
  {
   "cell_type": "markdown",
   "id": "127d23ae",
   "metadata": {},
   "source": [
    "class argparse.ArgumentParser(prog=None, usage=None, description=None, epilog=None,parents=\\[\\],formatter_class=argparse.HelpFormatter,prefix_chars='-',fromfile_prefix_chars=None,argument_default=None,conflict_handler='error',add_help=True,allow_abbrev=True)  \n",
    "prog-程序的名称（默认值：sys.argv\\[0\\]）  \n",
    "usage-描述程序用途的字符串（默认值：从添加到解析器的参数生成）  \n",
    "description-在参数帮助文档之前显示的内容  \n",
    "epilog-在参数帮助文档之后显示的文本  \n",
    "parents-一个ArgumentParser对象的列表，它们的参数也应包含在内  \n",
    "formatter_class-用于自定义帮助文档输出格式的类  \n",
    "prefix_chars-可选参数的前缀字符集\n",
    "fromfile_prefix_chars-当需要从文件中读取其他参数时，用于标识文件名的前缀字符集  \n",
    "argument_default-参数的全局默认值  \n",
    "conflict_handler-解决冲突选项的策略  \n",
    "add_help-为解析器添加一个-h/--help选项  \n",
    "allow_abbrev-如果缩写是无歧义的，则允许缩写长选项"
   ]
  },
  {
   "cell_type": "markdown",
   "id": "8b81e4db",
   "metadata": {},
   "source": [
    "#### prog"
   ]
  },
  {
   "cell_type": "code",
   "execution_count": 3,
   "id": "ac708af0",
   "metadata": {},
   "outputs": [
    {
     "name": "stdout",
     "output_type": "stream",
     "text": [
      "usage: prog.py [-h] [--foo FOO]\r\n",
      "\r\n",
      "optional arguments:\r\n",
      "  -h, --help  show this help message and exit\r\n",
      "  --foo FOO   foo help\r\n"
     ]
    }
   ],
   "source": [
    "#prog\n",
    "!python prog.py --help"
   ]
  },
  {
   "cell_type": "code",
   "execution_count": 4,
   "id": "6ee8091c",
   "metadata": {},
   "outputs": [
    {
     "name": "stdout",
     "output_type": "stream",
     "text": [
      "usage: myprogram [-h] [--foo FOO]\r\n",
      "\r\n",
      "optional arguments:\r\n",
      "  -h, --help  show this help message and exit\r\n",
      "  --foo FOO   foo help\r\n"
     ]
    }
   ],
   "source": [
    "#prog='myprogram'\n",
    "!python prog.py --help"
   ]
  },
  {
   "cell_type": "code",
   "execution_count": 5,
   "id": "5ee88ddc",
   "metadata": {},
   "outputs": [
    {
     "name": "stdout",
     "output_type": "stream",
     "text": [
      "usage: myprogram [-h] [--foo FOO]\r\n",
      "\r\n",
      "optional arguments:\r\n",
      "  -h, --help  show this help message and exit\r\n",
      "  --foo FOO   foo of the myprogram program\r\n"
     ]
    }
   ],
   "source": [
    "#prog调用:%(prog)s\n",
    "!python prog.py --help"
   ]
  },
  {
   "cell_type": "markdown",
   "id": "6eeeea79",
   "metadata": {},
   "source": [
    "#### usage"
   ]
  },
  {
   "cell_type": "code",
   "execution_count": 7,
   "id": "549a9691",
   "metadata": {},
   "outputs": [],
   "source": [
    "import argparse\n",
    "parser = argparse.ArgumentParser(prog='PROG')"
   ]
  },
  {
   "cell_type": "code",
   "execution_count": 8,
   "id": "68ed8354",
   "metadata": {},
   "outputs": [
    {
     "data": {
      "text/plain": [
       "_StoreAction(option_strings=[], dest='bar', nargs='+', const=None, default=None, type=None, choices=None, help='bar help', metavar=None)"
      ]
     },
     "execution_count": 8,
     "metadata": {},
     "output_type": "execute_result"
    }
   ],
   "source": [
    "parser.add_argument('--foo', nargs='?', help='foo help')\n",
    "parser.add_argument('bar', nargs='+', help='bar help')"
   ]
  },
  {
   "cell_type": "code",
   "execution_count": 9,
   "id": "9cd8f643",
   "metadata": {},
   "outputs": [
    {
     "name": "stdout",
     "output_type": "stream",
     "text": [
      "usage: PROG [-h] [--foo [FOO]] bar [bar ...]\n",
      "\n",
      "positional arguments:\n",
      "  bar          bar help\n",
      "\n",
      "optional arguments:\n",
      "  -h, --help   show this help message and exit\n",
      "  --foo [FOO]  foo help\n"
     ]
    }
   ],
   "source": [
    "parser.print_help()"
   ]
  },
  {
   "cell_type": "code",
   "execution_count": 10,
   "id": "13fe6ba1",
   "metadata": {},
   "outputs": [
    {
     "name": "stdout",
     "output_type": "stream",
     "text": [
      "usage: PROG [options]\n",
      "\n",
      "positional arguments:\n",
      "  bar          bar help\n",
      "\n",
      "optional arguments:\n",
      "  -h, --help   show this help message and exit\n",
      "  --foo [FOO]  foo help\n"
     ]
    }
   ],
   "source": [
    "#usage 覆盖\n",
    "parser = argparse.ArgumentParser(prog='PROG', usage='%(prog)s [options]')\n",
    "parser.add_argument('--foo', nargs='?', help='foo help')\n",
    "parser.add_argument('bar', nargs='+', help='bar help')\n",
    "parser.print_help()"
   ]
  },
  {
   "cell_type": "markdown",
   "id": "5a4fe8f9",
   "metadata": {},
   "source": [
    "#### description"
   ]
  },
  {
   "cell_type": "code",
   "execution_count": 11,
   "id": "a7231f76",
   "metadata": {},
   "outputs": [
    {
     "name": "stdout",
     "output_type": "stream",
     "text": [
      "usage: ipykernel_launcher.py [-h]\n",
      "\n",
      "A foo that bars\n",
      "\n",
      "optional arguments:\n",
      "  -h, --help  show this help message and exit\n"
     ]
    }
   ],
   "source": [
    "parser = argparse.ArgumentParser(description='A foo that bars')\n",
    "parser.print_help()"
   ]
  },
  {
   "cell_type": "markdown",
   "id": "b0b09d4e",
   "metadata": {},
   "source": [
    "#### epilog"
   ]
  },
  {
   "cell_type": "code",
   "execution_count": 12,
   "id": "651c008d",
   "metadata": {},
   "outputs": [],
   "source": [
    "parser = argparse.ArgumentParser(\n",
    "...     description='A foo that bars',\n",
    "...     epilog=\"And that's how you'd foo a bar\")"
   ]
  },
  {
   "cell_type": "code",
   "execution_count": 13,
   "id": "dd479ab5",
   "metadata": {},
   "outputs": [
    {
     "name": "stdout",
     "output_type": "stream",
     "text": [
      "usage: ipykernel_launcher.py [-h]\n",
      "\n",
      "A foo that bars\n",
      "\n",
      "optional arguments:\n",
      "  -h, --help  show this help message and exit\n",
      "\n",
      "And that's how you'd foo a bar\n"
     ]
    }
   ],
   "source": [
    "parser.print_help()"
   ]
  },
  {
   "cell_type": "markdown",
   "id": "b7143c88",
   "metadata": {},
   "source": [
    "#### parents"
   ]
  },
  {
   "cell_type": "code",
   "execution_count": 15,
   "id": "d3e30fc5",
   "metadata": {},
   "outputs": [],
   "source": [
    "parent_parser = argparse.ArgumentParser(add_help=False)"
   ]
  },
  {
   "cell_type": "code",
   "execution_count": 16,
   "id": "14d68ab9",
   "metadata": {},
   "outputs": [
    {
     "data": {
      "text/plain": [
       "_StoreAction(option_strings=['--parent'], dest='parent', nargs=None, const=None, default=None, type=<class 'int'>, choices=None, help=None, metavar=None)"
      ]
     },
     "execution_count": 16,
     "metadata": {},
     "output_type": "execute_result"
    }
   ],
   "source": [
    "parent_parser.add_argument('--parent', type=int)"
   ]
  },
  {
   "cell_type": "code",
   "execution_count": 17,
   "id": "502c01ce",
   "metadata": {},
   "outputs": [],
   "source": [
    "foo_parser = argparse.ArgumentParser(parents=[parent_parser])"
   ]
  },
  {
   "cell_type": "code",
   "execution_count": 18,
   "id": "62d60430",
   "metadata": {},
   "outputs": [
    {
     "data": {
      "text/plain": [
       "Namespace(foo='XXX', parent=2)"
      ]
     },
     "execution_count": 18,
     "metadata": {},
     "output_type": "execute_result"
    }
   ],
   "source": [
    "foo_parser.add_argument('foo')\n",
    "foo_parser.parse_args(['--parent', '2', 'XXX'])"
   ]
  },
  {
   "cell_type": "code",
   "execution_count": 20,
   "id": "caf807ee",
   "metadata": {},
   "outputs": [
    {
     "data": {
      "text/plain": [
       "Namespace(bar='YYY', parent=None)"
      ]
     },
     "execution_count": 20,
     "metadata": {},
     "output_type": "execute_result"
    }
   ],
   "source": [
    "bar_parser = argparse.ArgumentParser(parents=[parent_parser])\n",
    "bar_parser.add_argument('--bar')\n",
    "bar_parser.parse_args(['--bar', 'YYY'])"
   ]
  },
  {
   "cell_type": "markdown",
   "id": "8fded64d",
   "metadata": {},
   "source": [
    "#### formatter_class\n",
    "格式化帮助文档  \n",
    "默认description和epilog在命令行中会自动换行"
   ]
  },
  {
   "cell_type": "code",
   "execution_count": 21,
   "id": "8abea377",
   "metadata": {},
   "outputs": [],
   "source": [
    "parser = argparse.ArgumentParser(\n",
    "...     prog='PROG',\n",
    "...     description='''this description\n",
    "...         was indented weird\n",
    "...             but that is okay''',\n",
    "...     epilog='''\n",
    "...             likewise for this epilog whose whitespace will\n",
    "...         be cleaned up and whose words will be wrapped\n",
    "...         across a couple lines''')"
   ]
  },
  {
   "cell_type": "code",
   "execution_count": 22,
   "id": "3a981a8a",
   "metadata": {},
   "outputs": [
    {
     "name": "stdout",
     "output_type": "stream",
     "text": [
      "usage: PROG [-h]\n",
      "\n",
      "this description was indented weird but that is okay\n",
      "\n",
      "optional arguments:\n",
      "  -h, --help  show this help message and exit\n",
      "\n",
      "likewise for this epilog whose whitespace will be cleaned up and whose words\n",
      "will be wrapped across a couple lines\n"
     ]
    }
   ],
   "source": [
    "parser.print_help()"
   ]
  },
  {
   "cell_type": "code",
   "execution_count": 28,
   "id": "7ccf1504",
   "metadata": {},
   "outputs": [],
   "source": [
    "#RawDESCRIPTIONhelpFormatter：表示已经正确格式化了，不能在命令行中被自动换行\n",
    "parser = argparse.ArgumentParser(\n",
    "    prog='PROG',\n",
    "    formatter_class=argparse.RawDescriptionHelpFormatter,\n",
    "    description=('''\\\n",
    "...         Please do not mess up this text!\n",
    "...         --------------------------------\n",
    "...             I have indented it\n",
    "...             exactly the way\n",
    "...             I want it\n",
    "...         '''))"
   ]
  },
  {
   "cell_type": "code",
   "execution_count": 29,
   "id": "d6fd017f",
   "metadata": {},
   "outputs": [
    {
     "name": "stdout",
     "output_type": "stream",
     "text": [
      "usage: PROG [-h]\n",
      "\n",
      "...         Please do not mess up this text!\n",
      "...         --------------------------------\n",
      "...             I have indented it\n",
      "...             exactly the way\n",
      "...             I want it\n",
      "...         \n",
      "\n",
      "optional arguments:\n",
      "  -h, --help  show this help message and exit\n"
     ]
    }
   ],
   "source": [
    "parser.print_help()"
   ]
  },
  {
   "cell_type": "code",
   "execution_count": 30,
   "id": "726c1836",
   "metadata": {},
   "outputs": [],
   "source": [
    "#ArgumentDefaultsHelpFormatter：自动添加默认的值的信息到每一个帮助信息\n",
    "parser = argparse.ArgumentParser(\n",
    "    prog='PROG',\n",
    "    formatter_class=argparse.ArgumentDefaultsHelpFormatter)"
   ]
  },
  {
   "cell_type": "code",
   "execution_count": 31,
   "id": "dba5089c",
   "metadata": {},
   "outputs": [
    {
     "name": "stdout",
     "output_type": "stream",
     "text": [
      "usage: PROG [-h] [--foo FOO] [bar [bar ...]]\n",
      "\n",
      "positional arguments:\n",
      "  bar         BAR! (default: [1, 2, 3])\n",
      "\n",
      "optional arguments:\n",
      "  -h, --help  show this help message and exit\n",
      "  --foo FOO   FOO! (default: 42)\n"
     ]
    }
   ],
   "source": [
    "parser.add_argument('--foo', type=int, default=42, help='FOO!')\n",
    "parser.add_argument('bar', nargs='*', default=[1, 2, 3], help='BAR!')\n",
    "parser.print_help()"
   ]
  },
  {
   "cell_type": "markdown",
   "id": "cf7b4edb",
   "metadata": {},
   "source": [
    "#### prefix_chars"
   ]
  },
  {
   "cell_type": "code",
   "execution_count": 32,
   "id": "36a642c8",
   "metadata": {},
   "outputs": [
    {
     "data": {
      "text/plain": [
       "Namespace(bar='Y', f='X')"
      ]
     },
     "execution_count": 32,
     "metadata": {},
     "output_type": "execute_result"
    }
   ],
   "source": [
    "parser = argparse.ArgumentParser(prog='PROG',prefix_chars='-+')\n",
    "parser.add_argument('+f')\n",
    "parser.add_argument('++bar')\n",
    "parser.parse_args('+f X ++bar Y'.split())"
   ]
  },
  {
   "cell_type": "markdown",
   "id": "3d58e2da",
   "metadata": {},
   "source": [
    "#### fromfile_prefix_chars\n",
    "当处理一个特别长的参数列表的时候，把它存入一个文件中而不是在命令行中打出来  \n",
    "从文件中读取参数默认情况下必须一个一行"
   ]
  },
  {
   "cell_type": "code",
   "execution_count": 33,
   "id": "e37e86ad",
   "metadata": {},
   "outputs": [],
   "source": [
    "with open('args.txt', 'w') as fp:\n",
    "    fp.write('-f\\nbar')"
   ]
  },
  {
   "cell_type": "code",
   "execution_count": 35,
   "id": "308e1895",
   "metadata": {},
   "outputs": [
    {
     "data": {
      "text/plain": [
       "Namespace(f='bar')"
      ]
     },
     "execution_count": 35,
     "metadata": {},
     "output_type": "execute_result"
    }
   ],
   "source": [
    "parser = argparse.ArgumentParser(fromfile_prefix_chars='@')\n",
    "parser.add_argument('-f')\n",
    "parser.parse_args(['-f', 'foo', '@args.txt'])"
   ]
  },
  {
   "cell_type": "markdown",
   "id": "98b04a5d",
   "metadata": {},
   "source": [
    "### add_argument()"
   ]
  },
  {
   "cell_type": "markdown",
   "id": "b6e8e92d",
   "metadata": {},
   "source": [
    "ArgumentParser.add_argument(name or flags, action, nargs, const, default, type, choices, required, help, metavar, dest)  \n",
    "name or flags - 一个命名或者一个选项字符串的列表  \n",
    "action- 当参数在命令行中出现时使用的动作基本类型  \n",
    "nargs- 命令行参数应当消耗的数目  \n",
    "const-被一些action和nargs选择所需求的常数  \n",
    "default-当参数未在命令行出现时使用的值  \n",
    "type- 命令行参数应当被转换成的类型  \n",
    "choices-可用的参数的容器  \n",
    "required- 此命令行选项是否可用省略  \n",
    "help - 选项作用的简单描述  \n",
    "metavar - 在使用方法消息中使用的参数值示例  \n",
    "dest-被添加到parse_args()所返回对象上的属性名"
   ]
  },
  {
   "cell_type": "markdown",
   "id": "2f653c92",
   "metadata": {},
   "source": [
    "#### name or flags\n",
    "选项参数会以-前缀识别，剩下的参数则会被假定未位置参数"
   ]
  },
  {
   "cell_type": "code",
   "execution_count": null,
   "id": "f7c6de2a",
   "metadata": {},
   "outputs": [],
   "source": [
    "#选项参数\n",
    "parser.add_argument('-f', '--foo')"
   ]
  },
  {
   "cell_type": "code",
   "execution_count": null,
   "id": "ce6b8553",
   "metadata": {},
   "outputs": [],
   "source": [
    "#位置参数\n",
    "parser.add_argument('bar')"
   ]
  },
  {
   "cell_type": "markdown",
   "id": "3aaf66e3",
   "metadata": {},
   "source": [
    "#### action"
   ]
  },
  {
   "cell_type": "code",
   "execution_count": 38,
   "id": "c94794bc",
   "metadata": {},
   "outputs": [
    {
     "data": {
      "text/plain": [
       "Namespace(foo='1')"
      ]
     },
     "execution_count": 38,
     "metadata": {},
     "output_type": "execute_result"
    }
   ],
   "source": [
    "#store - 存储参数的值，默认\n",
    "parser = argparse.ArgumentParser()\n",
    "parser.add_argument('--foo')\n",
    "parser.parse_args('--foo 1'.split())"
   ]
  },
  {
   "cell_type": "code",
   "execution_count": 39,
   "id": "d05993b8",
   "metadata": {},
   "outputs": [
    {
     "data": {
      "text/plain": [
       "Namespace(foo=42)"
      ]
     },
     "execution_count": 39,
     "metadata": {},
     "output_type": "execute_result"
    }
   ],
   "source": [
    "#store_const - 存储const命令参数指定的值  \n",
    "parser = argparse.ArgumentParser()\n",
    "parser.add_argument('--foo', action='store_const', const=42)\n",
    "parser.parse_args(['--foo'])"
   ]
  },
  {
   "cell_type": "code",
   "execution_count": 41,
   "id": "f2179a51",
   "metadata": {},
   "outputs": [
    {
     "data": {
      "text/plain": [
       "Namespace(bar=False, baz=True, foo=True)"
      ]
     },
     "execution_count": 41,
     "metadata": {},
     "output_type": "execute_result"
    }
   ],
   "source": [
    "#store_true or store_false\n",
    "parser = argparse.ArgumentParser()\n",
    "parser.add_argument('--foo', action='store_true')\n",
    "parser.add_argument('--bar', action='store_false')\n",
    "parser.add_argument('--baz', action='store_false')\n",
    "parser.parse_args('--foo --bar'.split())"
   ]
  },
  {
   "cell_type": "code",
   "execution_count": 42,
   "id": "28302e09",
   "metadata": {},
   "outputs": [
    {
     "data": {
      "text/plain": [
       "Namespace(foo=['1', '2'])"
      ]
     },
     "execution_count": 42,
     "metadata": {},
     "output_type": "execute_result"
    }
   ],
   "source": [
    "#append\n",
    "parser = argparse.ArgumentParser()\n",
    "parser.add_argument('--foo', action='append')\n",
    "parser.parse_args('--foo 1 --foo 2'.split())"
   ]
  },
  {
   "cell_type": "code",
   "execution_count": 43,
   "id": "df8f7d81",
   "metadata": {},
   "outputs": [
    {
     "data": {
      "text/plain": [
       "Namespace(verbose=3)"
      ]
     },
     "execution_count": 43,
     "metadata": {},
     "output_type": "execute_result"
    }
   ],
   "source": [
    "#count - 计算关键字参数出现的数目或次数\n",
    "parser = argparse.ArgumentParser()\n",
    "parser.add_argument('--verbose', '-v', action='count', default=0)\n",
    "parser.parse_args(['-vvv'])"
   ]
  },
  {
   "cell_type": "code",
   "execution_count": 44,
   "id": "0c2ed917",
   "metadata": {},
   "outputs": [
    {
     "name": "stdout",
     "output_type": "stream",
     "text": [
      "PROG 2.0\n"
     ]
    },
    {
     "ename": "SystemExit",
     "evalue": "0",
     "output_type": "error",
     "traceback": [
      "An exception has occurred, use %tb to see the full traceback.\n",
      "\u001b[0;31mSystemExit\u001b[0m\u001b[0;31m:\u001b[0m 0\n"
     ]
    }
   ],
   "source": [
    "#version - 打印版本信息并在调用后退出\n",
    "parser = argparse.ArgumentParser(prog='PROG')\n",
    "parser.add_argument('--version', action='version', version='%(prog)s 2.0')\n",
    "parser.parse_args(['--version'])"
   ]
  },
  {
   "cell_type": "markdown",
   "id": "4c3316ab",
   "metadata": {},
   "source": [
    "#### nargs\n",
    "关联不同数目的命令行参数到单一动作"
   ]
  },
  {
   "cell_type": "code",
   "execution_count": 3,
   "id": "633fcbb1",
   "metadata": {},
   "outputs": [
    {
     "data": {
      "text/plain": [
       "Namespace(bar=['c'], foo=['a', 'b'])"
      ]
     },
     "execution_count": 3,
     "metadata": {},
     "output_type": "execute_result"
    }
   ],
   "source": [
    "#N（一个整数）：命令行中的N个参数会被聚集到一个列表中\n",
    "import argparse\n",
    "parser = argparse.ArgumentParser()\n",
    "parser.add_argument('--foo', nargs=2)\n",
    "parser.add_argument('bar', nargs=1)\n",
    "parser.parse_args('c --foo a b'.split())"
   ]
  },
  {
   "cell_type": "code",
   "execution_count": 4,
   "id": "9eba1662",
   "metadata": {},
   "outputs": [
    {
     "data": {
      "text/plain": [
       "Namespace(bar='XX', foo='YY')"
      ]
     },
     "execution_count": 4,
     "metadata": {},
     "output_type": "execute_result"
    }
   ],
   "source": [
    "#?：如果可能的话，会从命令行中消耗一个参数，并产生一个单一项。\n",
    "##如果当前没有命令行参数，则会产生default值\n",
    "##对于可选参数而言，选项字符串出现但是没有跟随命令行参数，则会产生const值\n",
    "parser = argparse.ArgumentParser()\n",
    "parser.add_argument('--foo', nargs='?', const='c', default='d')\n",
    "parser.add_argument('bar', nargs='?', default='d')\n",
    "parser.parse_args(['XX', '--foo', 'YY'])"
   ]
  },
  {
   "cell_type": "code",
   "execution_count": 5,
   "id": "77d60be3",
   "metadata": {},
   "outputs": [
    {
     "data": {
      "text/plain": [
       "Namespace(bar='XX', foo='c')"
      ]
     },
     "execution_count": 5,
     "metadata": {},
     "output_type": "execute_result"
    }
   ],
   "source": [
    "#?\n",
    "parser.parse_args(['XX', '--foo'])"
   ]
  },
  {
   "cell_type": "code",
   "execution_count": 6,
   "id": "225d8823",
   "metadata": {},
   "outputs": [
    {
     "data": {
      "text/plain": [
       "Namespace(bar='d', foo='d')"
      ]
     },
     "execution_count": 6,
     "metadata": {},
     "output_type": "execute_result"
    }
   ],
   "source": [
    "#?\n",
    "parser.parse_args([])"
   ]
  },
  {
   "cell_type": "code",
   "execution_count": 7,
   "id": "c3dcced8",
   "metadata": {},
   "outputs": [
    {
     "data": {
      "text/plain": [
       "Namespace(bar=['1', '2'], baz=['a', 'b'], foo=['x', 'y'])"
      ]
     },
     "execution_count": 7,
     "metadata": {},
     "output_type": "execute_result"
    }
   ],
   "source": [
    "#*：所有当前命令行参数被聚集到一个列表中\n",
    "parser = argparse.ArgumentParser()\n",
    "parser.add_argument('--foo', nargs='*')\n",
    "parser.add_argument('--bar', nargs='*')\n",
    "parser.add_argument('baz', nargs='*')\n",
    "parser.parse_args('a b --foo x y --bar 1 2'.split())"
   ]
  },
  {
   "cell_type": "code",
   "execution_count": 8,
   "id": "43388ce1",
   "metadata": {},
   "outputs": [
    {
     "data": {
      "text/plain": [
       "Namespace(bar=['1', '2'], baz=[], foo=['x', 'y'])"
      ]
     },
     "execution_count": 8,
     "metadata": {},
     "output_type": "execute_result"
    }
   ],
   "source": [
    "#*\n",
    "parser.parse_args('--foo x y --bar 1 2'.split())"
   ]
  },
  {
   "cell_type": "code",
   "execution_count": 9,
   "id": "d37955ae",
   "metadata": {},
   "outputs": [
    {
     "data": {
      "text/plain": [
       "Namespace(foo=['a', 'b'])"
      ]
     },
     "execution_count": 9,
     "metadata": {},
     "output_type": "execute_result"
    }
   ],
   "source": [
    "#+：+号和*号类似，所有当前命令行参数被聚集到一个列表中\n",
    "## 当前没有至少一个命令行参数时，会产生一个错误信息\n",
    "parser = argparse.ArgumentParser(prog='PROG')\n",
    "parser.add_argument('foo', nargs='+')\n",
    "parser.parse_args(['a', 'b'])"
   ]
  },
  {
   "cell_type": "code",
   "execution_count": 10,
   "id": "039600e3",
   "metadata": {},
   "outputs": [
    {
     "name": "stderr",
     "output_type": "stream",
     "text": [
      "usage: PROG [-h] foo [foo ...]\n",
      "PROG: error: the following arguments are required: foo\n"
     ]
    },
    {
     "ename": "SystemExit",
     "evalue": "2",
     "output_type": "error",
     "traceback": [
      "An exception has occurred, use %tb to see the full traceback.\n",
      "\u001b[0;31mSystemExit\u001b[0m\u001b[0;31m:\u001b[0m 2\n"
     ]
    },
    {
     "name": "stderr",
     "output_type": "stream",
     "text": [
      "/mnt/d/WSL/conda/miniconda3/envs/normal/lib/python3.7/site-packages/IPython/core/interactiveshell.py:3449: UserWarning: To exit: use 'exit', 'quit', or Ctrl-D.\n",
      "  warn(\"To exit: use 'exit', 'quit', or Ctrl-D.\", stacklevel=1)\n"
     ]
    }
   ],
   "source": [
    "#+\n",
    "parser.parse_args([])"
   ]
  },
  {
   "cell_type": "markdown",
   "id": "f524362e",
   "metadata": {},
   "source": [
    "#### const\n",
    "const参数用于保存不从命令行中读取但被各种ArgumentParser动作需求的常数值"
   ]
  },
  {
   "cell_type": "markdown",
   "id": "ba3ce80d",
   "metadata": {},
   "source": [
    "当通过action='store_const'或action='append_const'调用时，这些动作将const值添加到parse_args()返回的对象的属性中"
   ]
  },
  {
   "cell_type": "markdown",
   "id": "f1843c01",
   "metadata": {},
   "source": [
    "当通过可选参数(-f --foo)调用并且nargs='?'时，会创建一个可以跟随0个或1个命令行参数的选项；当解析命令行时，如果选项后面没有参数，则将用const代替"
   ]
  },
  {
   "cell_type": "markdown",
   "id": "b130700b",
   "metadata": {},
   "source": [
    "#### 默认值"
   ]
  },
  {
   "cell_type": "code",
   "execution_count": 11,
   "id": "dbd43c47",
   "metadata": {},
   "outputs": [
    {
     "data": {
      "text/plain": [
       "Namespace(foo='2')"
      ]
     },
     "execution_count": 11,
     "metadata": {},
     "output_type": "execute_result"
    }
   ],
   "source": [
    "parser = argparse.ArgumentParser()\n",
    "parser.add_argument('--foo', default=42)\n",
    "parser.parse_args(['--foo', '2'])"
   ]
  },
  {
   "cell_type": "code",
   "execution_count": 12,
   "id": "9b6688c6",
   "metadata": {},
   "outputs": [
    {
     "data": {
      "text/plain": [
       "Namespace(foo=42)"
      ]
     },
     "execution_count": 12,
     "metadata": {},
     "output_type": "execute_result"
    }
   ],
   "source": [
    "parser.parse_args([])"
   ]
  },
  {
   "cell_type": "code",
   "execution_count": 14,
   "id": "a6055431",
   "metadata": {},
   "outputs": [
    {
     "data": {
      "text/plain": [
       "Namespace(length=10, width=10.5)"
      ]
     },
     "execution_count": 14,
     "metadata": {},
     "output_type": "execute_result"
    }
   ],
   "source": [
    "#如果defualt值是一个字符串，解析器应用任何提供的type转换参数，否则解析器使用原值\n",
    "parser = argparse.ArgumentParser()\n",
    "parser.add_argument('--length', default='10', type=int)\n",
    "parser.add_argument('--width', default=10.5, type=int)\n",
    "parser.parse_args([])"
   ]
  },
  {
   "cell_type": "code",
   "execution_count": 15,
   "id": "c70e05ca",
   "metadata": {},
   "outputs": [
    {
     "data": {
      "text/plain": [
       "Namespace(foo='a')"
      ]
     },
     "execution_count": 15,
     "metadata": {},
     "output_type": "execute_result"
    }
   ],
   "source": [
    "#对于nargs等于？或*的位置参数，default值在没有命令行参数出现时使用\n",
    "parser = argparse.ArgumentParser()\n",
    "parser.add_argument('foo',nargs='?',default=42)\n",
    "parser.parse_args(['a'])"
   ]
  },
  {
   "cell_type": "code",
   "execution_count": 16,
   "id": "39d52da0",
   "metadata": {},
   "outputs": [
    {
     "data": {
      "text/plain": [
       "Namespace(foo=42)"
      ]
     },
     "execution_count": 16,
     "metadata": {},
     "output_type": "execute_result"
    }
   ],
   "source": [
    "parser.parse_args([])"
   ]
  },
  {
   "cell_type": "markdown",
   "id": "a3f10319",
   "metadata": {},
   "source": [
    "#### type"
   ]
  },
  {
   "cell_type": "code",
   "execution_count": 20,
   "id": "2b195835",
   "metadata": {},
   "outputs": [
    {
     "data": {
      "text/plain": [
       "Namespace(bar=<_io.TextIOWrapper name='prog.py' mode='r' encoding='UTF-8'>, foo=2)"
      ]
     },
     "execution_count": 20,
     "metadata": {},
     "output_type": "execute_result"
    }
   ],
   "source": [
    "parser = argparse.ArgumentParser()\n",
    "parser.add_argument('foo', type=int)\n",
    "parser.add_argument('bar', type=open)\n",
    "parser.parse_args('2 prog.py'.split())"
   ]
  },
  {
   "cell_type": "markdown",
   "id": "8a10a7ce",
   "metadata": {},
   "source": [
    "#### choices"
   ]
  },
  {
   "cell_type": "code",
   "execution_count": 21,
   "id": "98ef7803",
   "metadata": {},
   "outputs": [
    {
     "data": {
      "text/plain": [
       "Namespace(move='rock')"
      ]
     },
     "execution_count": 21,
     "metadata": {},
     "output_type": "execute_result"
    }
   ],
   "source": [
    "parser = argparse.ArgumentParser(prog='game.py')\n",
    "parser.add_argument('move', choices=['rock', 'paper', 'scissors'])\n",
    "parser.parse_args(['rock'])"
   ]
  },
  {
   "cell_type": "code",
   "execution_count": 22,
   "id": "ea283ade",
   "metadata": {},
   "outputs": [
    {
     "name": "stderr",
     "output_type": "stream",
     "text": [
      "usage: game.py [-h] {rock,paper,scissors}\n",
      "game.py: error: argument move: invalid choice: 'fire' (choose from 'rock', 'paper', 'scissors')\n",
      "ERROR:root:Internal Python error in the inspect module.\n",
      "Below is the traceback from this internal error.\n",
      "\n"
     ]
    },
    {
     "name": "stdout",
     "output_type": "stream",
     "text": [
      "Traceback (most recent call last):\n",
      "  File \"/mnt/d/WSL/conda/miniconda3/envs/normal/lib/python3.7/argparse.py\", line 1787, in parse_known_args\n",
      "    namespace, args = self._parse_known_args(args, namespace)\n",
      "  File \"/mnt/d/WSL/conda/miniconda3/envs/normal/lib/python3.7/argparse.py\", line 1996, in _parse_known_args\n",
      "    stop_index = consume_positionals(start_index)\n",
      "  File \"/mnt/d/WSL/conda/miniconda3/envs/normal/lib/python3.7/argparse.py\", line 1952, in consume_positionals\n",
      "    take_action(action, args)\n",
      "  File \"/mnt/d/WSL/conda/miniconda3/envs/normal/lib/python3.7/argparse.py\", line 1845, in take_action\n",
      "    argument_values = self._get_values(action, argument_strings)\n",
      "  File \"/mnt/d/WSL/conda/miniconda3/envs/normal/lib/python3.7/argparse.py\", line 2377, in _get_values\n",
      "    self._check_value(action, value)\n",
      "  File \"/mnt/d/WSL/conda/miniconda3/envs/normal/lib/python3.7/argparse.py\", line 2433, in _check_value\n",
      "    raise ArgumentError(action, msg % args)\n",
      "argparse.ArgumentError: argument move: invalid choice: 'fire' (choose from 'rock', 'paper', 'scissors')\n",
      "\n",
      "During handling of the above exception, another exception occurred:\n",
      "\n",
      "Traceback (most recent call last):\n",
      "  File \"/mnt/d/WSL/conda/miniconda3/envs/normal/lib/python3.7/site-packages/IPython/core/interactiveshell.py\", line 3441, in run_code\n",
      "    exec(code_obj, self.user_global_ns, self.user_ns)\n",
      "  File \"<ipython-input-22-7a9b25c0a9a4>\", line 1, in <module>\n",
      "    parser.parse_args(['fire'])\n",
      "  File \"/mnt/d/WSL/conda/miniconda3/envs/normal/lib/python3.7/argparse.py\", line 1755, in parse_args\n",
      "    args, argv = self.parse_known_args(args, namespace)\n",
      "  File \"/mnt/d/WSL/conda/miniconda3/envs/normal/lib/python3.7/argparse.py\", line 1794, in parse_known_args\n",
      "    self.error(str(err))\n",
      "  File \"/mnt/d/WSL/conda/miniconda3/envs/normal/lib/python3.7/argparse.py\", line 2508, in error\n",
      "    self.exit(2, _('%(prog)s: error: %(message)s\\n') % args)\n",
      "  File \"/mnt/d/WSL/conda/miniconda3/envs/normal/lib/python3.7/argparse.py\", line 2495, in exit\n",
      "    _sys.exit(status)\n",
      "SystemExit: 2\n",
      "\n",
      "During handling of the above exception, another exception occurred:\n",
      "\n",
      "Traceback (most recent call last):\n",
      "  File \"/mnt/d/WSL/conda/miniconda3/envs/normal/lib/python3.7/site-packages/IPython/core/ultratb.py\", line 1101, in get_records\n",
      "    return _fixed_getinnerframes(etb, number_of_lines_of_context, tb_offset)\n",
      "  File \"/mnt/d/WSL/conda/miniconda3/envs/normal/lib/python3.7/site-packages/IPython/core/ultratb.py\", line 248, in wrapped\n",
      "    return f(*args, **kwargs)\n",
      "  File \"/mnt/d/WSL/conda/miniconda3/envs/normal/lib/python3.7/site-packages/IPython/core/ultratb.py\", line 281, in _fixed_getinnerframes\n",
      "    records = fix_frame_records_filenames(inspect.getinnerframes(etb, context))\n",
      "  File \"/mnt/d/WSL/conda/miniconda3/envs/normal/lib/python3.7/inspect.py\", line 1502, in getinnerframes\n",
      "    frameinfo = (tb.tb_frame,) + getframeinfo(tb, context)\n",
      "AttributeError: 'tuple' object has no attribute 'tb_frame'\n"
     ]
    },
    {
     "ename": "TypeError",
     "evalue": "object of type 'NoneType' has no len()",
     "output_type": "error",
     "traceback": [
      "\u001b[0;31m---------------------------------------------------------------------------\u001b[0m",
      "\u001b[0;31mArgumentError\u001b[0m                             Traceback (most recent call last)",
      "\u001b[0;32m/mnt/d/WSL/conda/miniconda3/envs/normal/lib/python3.7/argparse.py\u001b[0m in \u001b[0;36mparse_known_args\u001b[0;34m(self, args, namespace)\u001b[0m\n\u001b[1;32m   1786\u001b[0m         \u001b[0;32mtry\u001b[0m\u001b[0;34m:\u001b[0m\u001b[0;34m\u001b[0m\u001b[0;34m\u001b[0m\u001b[0m\n\u001b[0;32m-> 1787\u001b[0;31m             \u001b[0mnamespace\u001b[0m\u001b[0;34m,\u001b[0m \u001b[0margs\u001b[0m \u001b[0;34m=\u001b[0m \u001b[0mself\u001b[0m\u001b[0;34m.\u001b[0m\u001b[0m_parse_known_args\u001b[0m\u001b[0;34m(\u001b[0m\u001b[0margs\u001b[0m\u001b[0;34m,\u001b[0m \u001b[0mnamespace\u001b[0m\u001b[0;34m)\u001b[0m\u001b[0;34m\u001b[0m\u001b[0;34m\u001b[0m\u001b[0m\n\u001b[0m\u001b[1;32m   1788\u001b[0m             \u001b[0;32mif\u001b[0m \u001b[0mhasattr\u001b[0m\u001b[0;34m(\u001b[0m\u001b[0mnamespace\u001b[0m\u001b[0;34m,\u001b[0m \u001b[0m_UNRECOGNIZED_ARGS_ATTR\u001b[0m\u001b[0;34m)\u001b[0m\u001b[0;34m:\u001b[0m\u001b[0;34m\u001b[0m\u001b[0;34m\u001b[0m\u001b[0m\n",
      "\u001b[0;32m/mnt/d/WSL/conda/miniconda3/envs/normal/lib/python3.7/argparse.py\u001b[0m in \u001b[0;36m_parse_known_args\u001b[0;34m(self, arg_strings, namespace)\u001b[0m\n\u001b[1;32m   1995\u001b[0m         \u001b[0;31m# consume any positionals following the last Optional\u001b[0m\u001b[0;34m\u001b[0m\u001b[0;34m\u001b[0m\u001b[0;34m\u001b[0m\u001b[0m\n\u001b[0;32m-> 1996\u001b[0;31m         \u001b[0mstop_index\u001b[0m \u001b[0;34m=\u001b[0m \u001b[0mconsume_positionals\u001b[0m\u001b[0;34m(\u001b[0m\u001b[0mstart_index\u001b[0m\u001b[0;34m)\u001b[0m\u001b[0;34m\u001b[0m\u001b[0;34m\u001b[0m\u001b[0m\n\u001b[0m\u001b[1;32m   1997\u001b[0m \u001b[0;34m\u001b[0m\u001b[0m\n",
      "\u001b[0;32m/mnt/d/WSL/conda/miniconda3/envs/normal/lib/python3.7/argparse.py\u001b[0m in \u001b[0;36mconsume_positionals\u001b[0;34m(start_index)\u001b[0m\n\u001b[1;32m   1951\u001b[0m                 \u001b[0mstart_index\u001b[0m \u001b[0;34m+=\u001b[0m \u001b[0marg_count\u001b[0m\u001b[0;34m\u001b[0m\u001b[0;34m\u001b[0m\u001b[0m\n\u001b[0;32m-> 1952\u001b[0;31m                 \u001b[0mtake_action\u001b[0m\u001b[0;34m(\u001b[0m\u001b[0maction\u001b[0m\u001b[0;34m,\u001b[0m \u001b[0margs\u001b[0m\u001b[0;34m)\u001b[0m\u001b[0;34m\u001b[0m\u001b[0;34m\u001b[0m\u001b[0m\n\u001b[0m\u001b[1;32m   1953\u001b[0m \u001b[0;34m\u001b[0m\u001b[0m\n",
      "\u001b[0;32m/mnt/d/WSL/conda/miniconda3/envs/normal/lib/python3.7/argparse.py\u001b[0m in \u001b[0;36mtake_action\u001b[0;34m(action, argument_strings, option_string)\u001b[0m\n\u001b[1;32m   1844\u001b[0m             \u001b[0mseen_actions\u001b[0m\u001b[0;34m.\u001b[0m\u001b[0madd\u001b[0m\u001b[0;34m(\u001b[0m\u001b[0maction\u001b[0m\u001b[0;34m)\u001b[0m\u001b[0;34m\u001b[0m\u001b[0;34m\u001b[0m\u001b[0m\n\u001b[0;32m-> 1845\u001b[0;31m             \u001b[0margument_values\u001b[0m \u001b[0;34m=\u001b[0m \u001b[0mself\u001b[0m\u001b[0;34m.\u001b[0m\u001b[0m_get_values\u001b[0m\u001b[0;34m(\u001b[0m\u001b[0maction\u001b[0m\u001b[0;34m,\u001b[0m \u001b[0margument_strings\u001b[0m\u001b[0;34m)\u001b[0m\u001b[0;34m\u001b[0m\u001b[0;34m\u001b[0m\u001b[0m\n\u001b[0m\u001b[1;32m   1846\u001b[0m \u001b[0;34m\u001b[0m\u001b[0m\n",
      "\u001b[0;32m/mnt/d/WSL/conda/miniconda3/envs/normal/lib/python3.7/argparse.py\u001b[0m in \u001b[0;36m_get_values\u001b[0;34m(self, action, arg_strings)\u001b[0m\n\u001b[1;32m   2376\u001b[0m             \u001b[0mvalue\u001b[0m \u001b[0;34m=\u001b[0m \u001b[0mself\u001b[0m\u001b[0;34m.\u001b[0m\u001b[0m_get_value\u001b[0m\u001b[0;34m(\u001b[0m\u001b[0maction\u001b[0m\u001b[0;34m,\u001b[0m \u001b[0marg_string\u001b[0m\u001b[0;34m)\u001b[0m\u001b[0;34m\u001b[0m\u001b[0;34m\u001b[0m\u001b[0m\n\u001b[0;32m-> 2377\u001b[0;31m             \u001b[0mself\u001b[0m\u001b[0;34m.\u001b[0m\u001b[0m_check_value\u001b[0m\u001b[0;34m(\u001b[0m\u001b[0maction\u001b[0m\u001b[0;34m,\u001b[0m \u001b[0mvalue\u001b[0m\u001b[0;34m)\u001b[0m\u001b[0;34m\u001b[0m\u001b[0;34m\u001b[0m\u001b[0m\n\u001b[0m\u001b[1;32m   2378\u001b[0m \u001b[0;34m\u001b[0m\u001b[0m\n",
      "\u001b[0;32m/mnt/d/WSL/conda/miniconda3/envs/normal/lib/python3.7/argparse.py\u001b[0m in \u001b[0;36m_check_value\u001b[0;34m(self, action, value)\u001b[0m\n\u001b[1;32m   2432\u001b[0m             \u001b[0mmsg\u001b[0m \u001b[0;34m=\u001b[0m \u001b[0m_\u001b[0m\u001b[0;34m(\u001b[0m\u001b[0;34m'invalid choice: %(value)r (choose from %(choices)s)'\u001b[0m\u001b[0;34m)\u001b[0m\u001b[0;34m\u001b[0m\u001b[0;34m\u001b[0m\u001b[0m\n\u001b[0;32m-> 2433\u001b[0;31m             \u001b[0;32mraise\u001b[0m \u001b[0mArgumentError\u001b[0m\u001b[0;34m(\u001b[0m\u001b[0maction\u001b[0m\u001b[0;34m,\u001b[0m \u001b[0mmsg\u001b[0m \u001b[0;34m%\u001b[0m \u001b[0margs\u001b[0m\u001b[0;34m)\u001b[0m\u001b[0;34m\u001b[0m\u001b[0;34m\u001b[0m\u001b[0m\n\u001b[0m\u001b[1;32m   2434\u001b[0m \u001b[0;34m\u001b[0m\u001b[0m\n",
      "\u001b[0;31mArgumentError\u001b[0m: argument move: invalid choice: 'fire' (choose from 'rock', 'paper', 'scissors')",
      "\nDuring handling of the above exception, another exception occurred:\n",
      "\u001b[0;31mSystemExit\u001b[0m                                Traceback (most recent call last)",
      "    \u001b[0;31m[... skipping hidden 1 frame]\u001b[0m\n",
      "\u001b[0;32m<ipython-input-22-7a9b25c0a9a4>\u001b[0m in \u001b[0;36m<module>\u001b[0;34m\u001b[0m\n\u001b[0;32m----> 1\u001b[0;31m \u001b[0mparser\u001b[0m\u001b[0;34m.\u001b[0m\u001b[0mparse_args\u001b[0m\u001b[0;34m(\u001b[0m\u001b[0;34m[\u001b[0m\u001b[0;34m'fire'\u001b[0m\u001b[0;34m]\u001b[0m\u001b[0;34m)\u001b[0m\u001b[0;34m\u001b[0m\u001b[0;34m\u001b[0m\u001b[0m\n\u001b[0m",
      "\u001b[0;32m/mnt/d/WSL/conda/miniconda3/envs/normal/lib/python3.7/argparse.py\u001b[0m in \u001b[0;36mparse_args\u001b[0;34m(self, args, namespace)\u001b[0m\n\u001b[1;32m   1754\u001b[0m     \u001b[0;32mdef\u001b[0m \u001b[0mparse_args\u001b[0m\u001b[0;34m(\u001b[0m\u001b[0mself\u001b[0m\u001b[0;34m,\u001b[0m \u001b[0margs\u001b[0m\u001b[0;34m=\u001b[0m\u001b[0;32mNone\u001b[0m\u001b[0;34m,\u001b[0m \u001b[0mnamespace\u001b[0m\u001b[0;34m=\u001b[0m\u001b[0;32mNone\u001b[0m\u001b[0;34m)\u001b[0m\u001b[0;34m:\u001b[0m\u001b[0;34m\u001b[0m\u001b[0;34m\u001b[0m\u001b[0m\n\u001b[0;32m-> 1755\u001b[0;31m         \u001b[0margs\u001b[0m\u001b[0;34m,\u001b[0m \u001b[0margv\u001b[0m \u001b[0;34m=\u001b[0m \u001b[0mself\u001b[0m\u001b[0;34m.\u001b[0m\u001b[0mparse_known_args\u001b[0m\u001b[0;34m(\u001b[0m\u001b[0margs\u001b[0m\u001b[0;34m,\u001b[0m \u001b[0mnamespace\u001b[0m\u001b[0;34m)\u001b[0m\u001b[0;34m\u001b[0m\u001b[0;34m\u001b[0m\u001b[0m\n\u001b[0m\u001b[1;32m   1756\u001b[0m         \u001b[0;32mif\u001b[0m \u001b[0margv\u001b[0m\u001b[0;34m:\u001b[0m\u001b[0;34m\u001b[0m\u001b[0;34m\u001b[0m\u001b[0m\n",
      "\u001b[0;32m/mnt/d/WSL/conda/miniconda3/envs/normal/lib/python3.7/argparse.py\u001b[0m in \u001b[0;36mparse_known_args\u001b[0;34m(self, args, namespace)\u001b[0m\n\u001b[1;32m   1793\u001b[0m             \u001b[0merr\u001b[0m \u001b[0;34m=\u001b[0m \u001b[0m_sys\u001b[0m\u001b[0;34m.\u001b[0m\u001b[0mexc_info\u001b[0m\u001b[0;34m(\u001b[0m\u001b[0;34m)\u001b[0m\u001b[0;34m[\u001b[0m\u001b[0;36m1\u001b[0m\u001b[0;34m]\u001b[0m\u001b[0;34m\u001b[0m\u001b[0;34m\u001b[0m\u001b[0m\n\u001b[0;32m-> 1794\u001b[0;31m             \u001b[0mself\u001b[0m\u001b[0;34m.\u001b[0m\u001b[0merror\u001b[0m\u001b[0;34m(\u001b[0m\u001b[0mstr\u001b[0m\u001b[0;34m(\u001b[0m\u001b[0merr\u001b[0m\u001b[0;34m)\u001b[0m\u001b[0;34m)\u001b[0m\u001b[0;34m\u001b[0m\u001b[0;34m\u001b[0m\u001b[0m\n\u001b[0m\u001b[1;32m   1795\u001b[0m \u001b[0;34m\u001b[0m\u001b[0m\n",
      "\u001b[0;32m/mnt/d/WSL/conda/miniconda3/envs/normal/lib/python3.7/argparse.py\u001b[0m in \u001b[0;36merror\u001b[0;34m(self, message)\u001b[0m\n\u001b[1;32m   2507\u001b[0m         \u001b[0margs\u001b[0m \u001b[0;34m=\u001b[0m \u001b[0;34m{\u001b[0m\u001b[0;34m'prog'\u001b[0m\u001b[0;34m:\u001b[0m \u001b[0mself\u001b[0m\u001b[0;34m.\u001b[0m\u001b[0mprog\u001b[0m\u001b[0;34m,\u001b[0m \u001b[0;34m'message'\u001b[0m\u001b[0;34m:\u001b[0m \u001b[0mmessage\u001b[0m\u001b[0;34m}\u001b[0m\u001b[0;34m\u001b[0m\u001b[0;34m\u001b[0m\u001b[0m\n\u001b[0;32m-> 2508\u001b[0;31m         \u001b[0mself\u001b[0m\u001b[0;34m.\u001b[0m\u001b[0mexit\u001b[0m\u001b[0;34m(\u001b[0m\u001b[0;36m2\u001b[0m\u001b[0;34m,\u001b[0m \u001b[0m_\u001b[0m\u001b[0;34m(\u001b[0m\u001b[0;34m'%(prog)s: error: %(message)s\\n'\u001b[0m\u001b[0;34m)\u001b[0m \u001b[0;34m%\u001b[0m \u001b[0margs\u001b[0m\u001b[0;34m)\u001b[0m\u001b[0;34m\u001b[0m\u001b[0;34m\u001b[0m\u001b[0m\n\u001b[0m",
      "\u001b[0;32m/mnt/d/WSL/conda/miniconda3/envs/normal/lib/python3.7/argparse.py\u001b[0m in \u001b[0;36mexit\u001b[0;34m(self, status, message)\u001b[0m\n\u001b[1;32m   2494\u001b[0m             \u001b[0mself\u001b[0m\u001b[0;34m.\u001b[0m\u001b[0m_print_message\u001b[0m\u001b[0;34m(\u001b[0m\u001b[0mmessage\u001b[0m\u001b[0;34m,\u001b[0m \u001b[0m_sys\u001b[0m\u001b[0;34m.\u001b[0m\u001b[0mstderr\u001b[0m\u001b[0;34m)\u001b[0m\u001b[0;34m\u001b[0m\u001b[0;34m\u001b[0m\u001b[0m\n\u001b[0;32m-> 2495\u001b[0;31m         \u001b[0m_sys\u001b[0m\u001b[0;34m.\u001b[0m\u001b[0mexit\u001b[0m\u001b[0;34m(\u001b[0m\u001b[0mstatus\u001b[0m\u001b[0;34m)\u001b[0m\u001b[0;34m\u001b[0m\u001b[0;34m\u001b[0m\u001b[0m\n\u001b[0m\u001b[1;32m   2496\u001b[0m \u001b[0;34m\u001b[0m\u001b[0m\n",
      "\u001b[0;31mSystemExit\u001b[0m: 2",
      "\nDuring handling of the above exception, another exception occurred:\n",
      "\u001b[0;31mTypeError\u001b[0m                                 Traceback (most recent call last)",
      "    \u001b[0;31m[... skipping hidden 1 frame]\u001b[0m\n",
      "\u001b[0;32m/mnt/d/WSL/conda/miniconda3/envs/normal/lib/python3.7/site-packages/IPython/core/interactiveshell.py\u001b[0m in \u001b[0;36mshowtraceback\u001b[0;34m(self, exc_tuple, filename, tb_offset, exception_only, running_compiled_code)\u001b[0m\n\u001b[1;32m   2053\u001b[0m                            'the full traceback.\\n']\n\u001b[1;32m   2054\u001b[0m                     stb.extend(self.InteractiveTB.get_exception_only(etype,\n\u001b[0;32m-> 2055\u001b[0;31m                                                                      value))\n\u001b[0m\u001b[1;32m   2056\u001b[0m                 \u001b[0;32melse\u001b[0m\u001b[0;34m:\u001b[0m\u001b[0;34m\u001b[0m\u001b[0;34m\u001b[0m\u001b[0m\n\u001b[1;32m   2057\u001b[0m                     \u001b[0;32mtry\u001b[0m\u001b[0;34m:\u001b[0m\u001b[0;34m\u001b[0m\u001b[0;34m\u001b[0m\u001b[0m\n",
      "\u001b[0;32m/mnt/d/WSL/conda/miniconda3/envs/normal/lib/python3.7/site-packages/IPython/core/ultratb.py\u001b[0m in \u001b[0;36mget_exception_only\u001b[0;34m(self, etype, value)\u001b[0m\n\u001b[1;32m    752\u001b[0m         \u001b[0mvalue\u001b[0m \u001b[0;34m:\u001b[0m \u001b[0mexception\u001b[0m \u001b[0mvalue\u001b[0m\u001b[0;34m\u001b[0m\u001b[0;34m\u001b[0m\u001b[0m\n\u001b[1;32m    753\u001b[0m         \"\"\"\n\u001b[0;32m--> 754\u001b[0;31m         \u001b[0;32mreturn\u001b[0m \u001b[0mListTB\u001b[0m\u001b[0;34m.\u001b[0m\u001b[0mstructured_traceback\u001b[0m\u001b[0;34m(\u001b[0m\u001b[0mself\u001b[0m\u001b[0;34m,\u001b[0m \u001b[0metype\u001b[0m\u001b[0;34m,\u001b[0m \u001b[0mvalue\u001b[0m\u001b[0;34m)\u001b[0m\u001b[0;34m\u001b[0m\u001b[0;34m\u001b[0m\u001b[0m\n\u001b[0m\u001b[1;32m    755\u001b[0m \u001b[0;34m\u001b[0m\u001b[0m\n\u001b[1;32m    756\u001b[0m     \u001b[0;32mdef\u001b[0m \u001b[0mshow_exception_only\u001b[0m\u001b[0;34m(\u001b[0m\u001b[0mself\u001b[0m\u001b[0;34m,\u001b[0m \u001b[0metype\u001b[0m\u001b[0;34m,\u001b[0m \u001b[0mevalue\u001b[0m\u001b[0;34m)\u001b[0m\u001b[0;34m:\u001b[0m\u001b[0;34m\u001b[0m\u001b[0;34m\u001b[0m\u001b[0m\n",
      "\u001b[0;32m/mnt/d/WSL/conda/miniconda3/envs/normal/lib/python3.7/site-packages/IPython/core/ultratb.py\u001b[0m in \u001b[0;36mstructured_traceback\u001b[0;34m(self, etype, evalue, etb, tb_offset, context)\u001b[0m\n\u001b[1;32m    631\u001b[0m                     chained_exceptions_tb_offset, context)\n\u001b[1;32m    632\u001b[0m                 \u001b[0;34m+\u001b[0m \u001b[0mchained_exception_message\u001b[0m\u001b[0;34m\u001b[0m\u001b[0;34m\u001b[0m\u001b[0m\n\u001b[0;32m--> 633\u001b[0;31m                 + out_list)\n\u001b[0m\u001b[1;32m    634\u001b[0m \u001b[0;34m\u001b[0m\u001b[0m\n\u001b[1;32m    635\u001b[0m         \u001b[0;32mreturn\u001b[0m \u001b[0mout_list\u001b[0m\u001b[0;34m\u001b[0m\u001b[0;34m\u001b[0m\u001b[0m\n",
      "\u001b[0;32m/mnt/d/WSL/conda/miniconda3/envs/normal/lib/python3.7/site-packages/IPython/core/ultratb.py\u001b[0m in \u001b[0;36mstructured_traceback\u001b[0;34m(self, etype, value, tb, tb_offset, number_of_lines_of_context)\u001b[0m\n\u001b[1;32m   1366\u001b[0m             \u001b[0mself\u001b[0m\u001b[0;34m.\u001b[0m\u001b[0mtb\u001b[0m \u001b[0;34m=\u001b[0m \u001b[0mtb\u001b[0m\u001b[0;34m\u001b[0m\u001b[0;34m\u001b[0m\u001b[0m\n\u001b[1;32m   1367\u001b[0m         return FormattedTB.structured_traceback(\n\u001b[0;32m-> 1368\u001b[0;31m             self, etype, value, tb, tb_offset, number_of_lines_of_context)\n\u001b[0m\u001b[1;32m   1369\u001b[0m \u001b[0;34m\u001b[0m\u001b[0m\n\u001b[1;32m   1370\u001b[0m \u001b[0;34m\u001b[0m\u001b[0m\n",
      "\u001b[0;32m/mnt/d/WSL/conda/miniconda3/envs/normal/lib/python3.7/site-packages/IPython/core/ultratb.py\u001b[0m in \u001b[0;36mstructured_traceback\u001b[0;34m(self, etype, value, tb, tb_offset, number_of_lines_of_context)\u001b[0m\n\u001b[1;32m   1266\u001b[0m             \u001b[0;31m# Verbose modes need a full traceback\u001b[0m\u001b[0;34m\u001b[0m\u001b[0;34m\u001b[0m\u001b[0;34m\u001b[0m\u001b[0m\n\u001b[1;32m   1267\u001b[0m             return VerboseTB.structured_traceback(\n\u001b[0;32m-> 1268\u001b[0;31m                 \u001b[0mself\u001b[0m\u001b[0;34m,\u001b[0m \u001b[0metype\u001b[0m\u001b[0;34m,\u001b[0m \u001b[0mvalue\u001b[0m\u001b[0;34m,\u001b[0m \u001b[0mtb\u001b[0m\u001b[0;34m,\u001b[0m \u001b[0mtb_offset\u001b[0m\u001b[0;34m,\u001b[0m \u001b[0mnumber_of_lines_of_context\u001b[0m\u001b[0;34m\u001b[0m\u001b[0;34m\u001b[0m\u001b[0m\n\u001b[0m\u001b[1;32m   1269\u001b[0m             )\n\u001b[1;32m   1270\u001b[0m         \u001b[0;32melif\u001b[0m \u001b[0mmode\u001b[0m \u001b[0;34m==\u001b[0m \u001b[0;34m'Minimal'\u001b[0m\u001b[0;34m:\u001b[0m\u001b[0;34m\u001b[0m\u001b[0;34m\u001b[0m\u001b[0m\n",
      "\u001b[0;32m/mnt/d/WSL/conda/miniconda3/envs/normal/lib/python3.7/site-packages/IPython/core/ultratb.py\u001b[0m in \u001b[0;36mstructured_traceback\u001b[0;34m(self, etype, evalue, etb, tb_offset, number_of_lines_of_context)\u001b[0m\n\u001b[1;32m   1123\u001b[0m \u001b[0;34m\u001b[0m\u001b[0m\n\u001b[1;32m   1124\u001b[0m         formatted_exception = self.format_exception_as_a_whole(etype, evalue, etb, number_of_lines_of_context,\n\u001b[0;32m-> 1125\u001b[0;31m                                                                tb_offset)\n\u001b[0m\u001b[1;32m   1126\u001b[0m \u001b[0;34m\u001b[0m\u001b[0m\n\u001b[1;32m   1127\u001b[0m         \u001b[0mcolors\u001b[0m \u001b[0;34m=\u001b[0m \u001b[0mself\u001b[0m\u001b[0;34m.\u001b[0m\u001b[0mColors\u001b[0m  \u001b[0;31m# just a shorthand + quicker name lookup\u001b[0m\u001b[0;34m\u001b[0m\u001b[0;34m\u001b[0m\u001b[0m\n",
      "\u001b[0;32m/mnt/d/WSL/conda/miniconda3/envs/normal/lib/python3.7/site-packages/IPython/core/ultratb.py\u001b[0m in \u001b[0;36mformat_exception_as_a_whole\u001b[0;34m(self, etype, evalue, etb, number_of_lines_of_context, tb_offset)\u001b[0m\n\u001b[1;32m   1080\u001b[0m \u001b[0;34m\u001b[0m\u001b[0m\n\u001b[1;32m   1081\u001b[0m \u001b[0;34m\u001b[0m\u001b[0m\n\u001b[0;32m-> 1082\u001b[0;31m         \u001b[0mlast_unique\u001b[0m\u001b[0;34m,\u001b[0m \u001b[0mrecursion_repeat\u001b[0m \u001b[0;34m=\u001b[0m \u001b[0mfind_recursion\u001b[0m\u001b[0;34m(\u001b[0m\u001b[0morig_etype\u001b[0m\u001b[0;34m,\u001b[0m \u001b[0mevalue\u001b[0m\u001b[0;34m,\u001b[0m \u001b[0mrecords\u001b[0m\u001b[0;34m)\u001b[0m\u001b[0;34m\u001b[0m\u001b[0;34m\u001b[0m\u001b[0m\n\u001b[0m\u001b[1;32m   1083\u001b[0m \u001b[0;34m\u001b[0m\u001b[0m\n\u001b[1;32m   1084\u001b[0m         \u001b[0mframes\u001b[0m \u001b[0;34m=\u001b[0m \u001b[0mself\u001b[0m\u001b[0;34m.\u001b[0m\u001b[0mformat_records\u001b[0m\u001b[0;34m(\u001b[0m\u001b[0mrecords\u001b[0m\u001b[0;34m,\u001b[0m \u001b[0mlast_unique\u001b[0m\u001b[0;34m,\u001b[0m \u001b[0mrecursion_repeat\u001b[0m\u001b[0;34m)\u001b[0m\u001b[0;34m\u001b[0m\u001b[0;34m\u001b[0m\u001b[0m\n",
      "\u001b[0;32m/mnt/d/WSL/conda/miniconda3/envs/normal/lib/python3.7/site-packages/IPython/core/ultratb.py\u001b[0m in \u001b[0;36mfind_recursion\u001b[0;34m(etype, value, records)\u001b[0m\n\u001b[1;32m    380\u001b[0m     \u001b[0;31m# first frame (from in to out) that looks different.\u001b[0m\u001b[0;34m\u001b[0m\u001b[0;34m\u001b[0m\u001b[0;34m\u001b[0m\u001b[0m\n\u001b[1;32m    381\u001b[0m     \u001b[0;32mif\u001b[0m \u001b[0;32mnot\u001b[0m \u001b[0mis_recursion_error\u001b[0m\u001b[0;34m(\u001b[0m\u001b[0metype\u001b[0m\u001b[0;34m,\u001b[0m \u001b[0mvalue\u001b[0m\u001b[0;34m,\u001b[0m \u001b[0mrecords\u001b[0m\u001b[0;34m)\u001b[0m\u001b[0;34m:\u001b[0m\u001b[0;34m\u001b[0m\u001b[0;34m\u001b[0m\u001b[0m\n\u001b[0;32m--> 382\u001b[0;31m         \u001b[0;32mreturn\u001b[0m \u001b[0mlen\u001b[0m\u001b[0;34m(\u001b[0m\u001b[0mrecords\u001b[0m\u001b[0;34m)\u001b[0m\u001b[0;34m,\u001b[0m \u001b[0;36m0\u001b[0m\u001b[0;34m\u001b[0m\u001b[0;34m\u001b[0m\u001b[0m\n\u001b[0m\u001b[1;32m    383\u001b[0m \u001b[0;34m\u001b[0m\u001b[0m\n\u001b[1;32m    384\u001b[0m     \u001b[0;31m# Select filename, lineno, func_name to track frames with\u001b[0m\u001b[0;34m\u001b[0m\u001b[0;34m\u001b[0m\u001b[0;34m\u001b[0m\u001b[0m\n",
      "\u001b[0;31mTypeError\u001b[0m: object of type 'NoneType' has no len()"
     ]
    }
   ],
   "source": [
    "parser.parse_args(['fire'])"
   ]
  },
  {
   "cell_type": "markdown",
   "id": "9520d4d2",
   "metadata": {},
   "source": [
    "#### required\n",
    "让一个可选参数变成必须参数"
   ]
  },
  {
   "cell_type": "code",
   "execution_count": 23,
   "id": "1635af2c",
   "metadata": {},
   "outputs": [
    {
     "data": {
      "text/plain": [
       "Namespace(foo='BAR')"
      ]
     },
     "execution_count": 23,
     "metadata": {},
     "output_type": "execute_result"
    }
   ],
   "source": [
    "parser = argparse.ArgumentParser()\n",
    "parser.add_argument('--foo', required=True)\n",
    "parser.parse_args(['--foo', 'BAR'])"
   ]
  },
  {
   "cell_type": "code",
   "execution_count": 24,
   "id": "47b76ab7",
   "metadata": {},
   "outputs": [
    {
     "name": "stderr",
     "output_type": "stream",
     "text": [
      "usage: ipykernel_launcher.py [-h] --foo FOO\n",
      "ipykernel_launcher.py: error: the following arguments are required: --foo\n"
     ]
    },
    {
     "ename": "SystemExit",
     "evalue": "2",
     "output_type": "error",
     "traceback": [
      "An exception has occurred, use %tb to see the full traceback.\n",
      "\u001b[0;31mSystemExit\u001b[0m\u001b[0;31m:\u001b[0m 2\n"
     ]
    }
   ],
   "source": [
    "parser.parse_args([])"
   ]
  },
  {
   "cell_type": "markdown",
   "id": "d8b635e1",
   "metadata": {},
   "source": [
    "#### help\n",
    "help值是一个包含参数简短描述的字符串"
   ]
  },
  {
   "cell_type": "code",
   "execution_count": 27,
   "id": "da384f9a",
   "metadata": {},
   "outputs": [
    {
     "name": "stdout",
     "output_type": "stream",
     "text": [
      "usage: frobble [-h] [--foo] bar [bar ...]\n",
      "\n",
      "positional arguments:\n",
      "  bar         one of the bars to be frobbled\n",
      "\n",
      "optional arguments:\n",
      "  -h, --help  show this help message and exit\n",
      "  --foo       foo the bars before frobbling\n"
     ]
    },
    {
     "ename": "SystemExit",
     "evalue": "0",
     "output_type": "error",
     "traceback": [
      "An exception has occurred, use %tb to see the full traceback.\n",
      "\u001b[0;31mSystemExit\u001b[0m\u001b[0;31m:\u001b[0m 0\n"
     ]
    }
   ],
   "source": [
    "parser = argparse.ArgumentParser(prog='frobble')\n",
    "parser.add_argument('--foo', action='store_true',help='foo the bars before frobbling')\n",
    "parser.add_argument('bar', nargs='+',help='one of the bars to be frobbled')\n",
    "parser.parse_args(['-h'])"
   ]
  }
 ],
 "metadata": {
  "kernelspec": {
   "display_name": "Python 3",
   "language": "python",
   "name": "python3"
  },
  "language_info": {
   "codemirror_mode": {
    "name": "ipython",
    "version": 3
   },
   "file_extension": ".py",
   "mimetype": "text/x-python",
   "name": "python",
   "nbconvert_exporter": "python",
   "pygments_lexer": "ipython3",
   "version": "3.7.11"
  },
  "toc": {
   "base_numbering": 1,
   "nav_menu": {},
   "number_sections": true,
   "sideBar": true,
   "skip_h1_title": false,
   "title_cell": "Table of Contents",
   "title_sidebar": "Contents",
   "toc_cell": false,
   "toc_position": {},
   "toc_section_display": true,
   "toc_window_display": false
  }
 },
 "nbformat": 4,
 "nbformat_minor": 5
}
