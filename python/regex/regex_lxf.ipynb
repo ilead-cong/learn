{
 "cells": [
  {
   "cell_type": "markdown",
   "id": "bce9a52a-d839-47e0-b2d4-2d9e2f82eaf3",
   "metadata": {},
   "source": [
    "# 正则表达式\n",
    "https://www.liaoxuefeng.com/wiki/1016959663602400/1017639890281664"
   ]
  },
  {
   "cell_type": "markdown",
   "id": "24401e9b-02aa-41bc-b577-93ed8b5737a7",
   "metadata": {},
   "source": [
    "\\d；一个数字  \n",
    "\\w；一个字母或数字  \n",
    ".；任意字符  \n",
    "  \n",
    "\n",
    "*；任意个字符（包括0个）  \n",
    "+；至少一个字符  \n",
    "?；0个或1个字符  \n",
    "{n}；n个字符  \n",
    "{n,m}；n-m个字符"
   ]
  },
  {
   "cell_type": "markdown",
   "id": "7224478e-670c-41ed-84b6-5f0bfaf33827",
   "metadata": {
    "jp-MarkdownHeadingCollapsed": true
   },
   "source": [
    "[]；表示范围"
   ]
  },
  {
   "cell_type": "markdown",
   "id": "b0c20426-47e1-45fe-ab63-5e72684a12bc",
   "metadata": {},
   "source": [
    "[0-9a-zA-Z\\\\_]；匹配一个数字、字母或者下划线"
   ]
  },
  {
   "cell_type": "markdown",
   "id": "a187e42d-c551-4a74-804d-badd6471a68f",
   "metadata": {},
   "source": [
    "[0-9a-zA-Z\\\\_]+；匹配至少一个数字、字母或者下划线组成的字符串"
   ]
  },
  {
   "cell_type": "markdown",
   "id": "09d25d2a-b551-46ee-97c4-c16598320099",
   "metadata": {},
   "source": [
    "[a-zA-Z\\\\\\_][0-9a-zA-Z\\\\\\_]*；匹配由字母或下划线开头，后接任意个由一个数字、字母或者下划线组成的字符串"
   ]
  },
  {
   "cell_type": "markdown",
   "id": "2f334c29-2583-4152-a6d8-fe6a0b5fdb67",
   "metadata": {},
   "source": [
    "[a-zA-Z\\\\\\_][0-9a-zA-Z\\\\\\_]{0, 19}；变量长度为1-20个字符"
   ]
  },
  {
   "cell_type": "markdown",
   "id": "3b3b3c4b-cd57-448c-95cf-12cef351a0c4",
   "metadata": {},
   "source": [
    "A|B；匹配A或B"
   ]
  },
  {
   "cell_type": "markdown",
   "id": "a9783da5-1814-40e7-adc2-bbc94f840f11",
   "metadata": {},
   "source": [
    "^；行的开头"
   ]
  },
  {
   "cell_type": "markdown",
   "id": "af99ed64-f604-4b58-b113-943ab8dd5782",
   "metadata": {},
   "source": [
    "$；行的结束"
   ]
  },
  {
   "cell_type": "markdown",
   "id": "1101826a-99d3-4ce2-b012-6581ffe51ed1",
   "metadata": {},
   "source": [
    "# re"
   ]
  },
  {
   "cell_type": "code",
   "execution_count": 1,
   "id": "e16b04f0-9007-4d5d-a990-17d37ac89f32",
   "metadata": {},
   "outputs": [],
   "source": [
    "import re"
   ]
  },
  {
   "cell_type": "code",
   "execution_count": 2,
   "id": "027b0b42-5d64-42b5-928e-a8cb28725743",
   "metadata": {},
   "outputs": [],
   "source": [
    "s = \"ABC\\\\-001\""
   ]
  },
  {
   "cell_type": "code",
   "execution_count": 3,
   "id": "5c013360-2956-4a11-8489-9982559eee94",
   "metadata": {},
   "outputs": [],
   "source": [
    "s = r\"ABC\\-001\""
   ]
  },
  {
   "cell_type": "markdown",
   "id": "87fcc402-2412-4fab-a1dc-dc2f5ab66c94",
   "metadata": {},
   "source": [
    "## match"
   ]
  },
  {
   "cell_type": "code",
   "execution_count": 4,
   "id": "83ed00b5-6b1d-423c-b155-93f89d555371",
   "metadata": {},
   "outputs": [
    {
     "data": {
      "text/plain": [
       "<re.Match object; span=(0, 9), match='010-12345'>"
      ]
     },
     "execution_count": 4,
     "metadata": {},
     "output_type": "execute_result"
    }
   ],
   "source": [
    "re.match(r\"^\\d{3}\\-\\d{3,8}$\", \"010-12345\")"
   ]
  },
  {
   "cell_type": "code",
   "execution_count": 5,
   "id": "74e55297-f88c-4ebe-b0b7-22ee1468a770",
   "metadata": {},
   "outputs": [],
   "source": [
    "re.match(r\"^\\d{3}\\-\\d{3,8}$\", \"010 12345\")"
   ]
  },
  {
   "cell_type": "markdown",
   "id": "40d51b35-3938-467e-bed6-8437b1496622",
   "metadata": {},
   "source": [
    "## split"
   ]
  },
  {
   "cell_type": "code",
   "execution_count": 6,
   "id": "b9df2b78-ad54-4c91-8a78-46a42bbe179c",
   "metadata": {},
   "outputs": [
    {
     "data": {
      "text/plain": [
       "['a', 'b', '', '', 'c']"
      ]
     },
     "execution_count": 6,
     "metadata": {},
     "output_type": "execute_result"
    }
   ],
   "source": [
    "\"a b   c\".split(\" \")"
   ]
  },
  {
   "cell_type": "code",
   "execution_count": 7,
   "id": "754a85d4-1c1e-4dc3-8242-cdb69e0824b1",
   "metadata": {},
   "outputs": [
    {
     "data": {
      "text/plain": [
       "['a', 'b', 'c']"
      ]
     },
     "execution_count": 7,
     "metadata": {},
     "output_type": "execute_result"
    }
   ],
   "source": [
    "re.split(r\"\\s+\", \"a b   c\")"
   ]
  },
  {
   "cell_type": "code",
   "execution_count": 8,
   "id": "150a1aa0-cf69-4be4-b4be-5089ee9a27e5",
   "metadata": {},
   "outputs": [
    {
     "data": {
      "text/plain": [
       "['a', 'b', 'c', 'd']"
      ]
     },
     "execution_count": 8,
     "metadata": {},
     "output_type": "execute_result"
    }
   ],
   "source": [
    "re.split(r\"[\\s\\,]+\", \"a,b, c d\")"
   ]
  },
  {
   "cell_type": "code",
   "execution_count": 9,
   "id": "3f0b6d87-66ae-4150-a1ab-f9647dfe42f8",
   "metadata": {},
   "outputs": [
    {
     "data": {
      "text/plain": [
       "['a', 'b', 'c', 'd']"
      ]
     },
     "execution_count": 9,
     "metadata": {},
     "output_type": "execute_result"
    }
   ],
   "source": [
    "re.split(r\"[\\s\\,\\;]+\", \"a,b;; c d\")"
   ]
  },
  {
   "cell_type": "markdown",
   "id": "706a33d0-0969-4b59-bc95-c2d9a5d9ab80",
   "metadata": {},
   "source": [
    "## group"
   ]
  },
  {
   "cell_type": "code",
   "execution_count": 11,
   "id": "13b15d85-4896-496f-aff4-3b301786008d",
   "metadata": {},
   "outputs": [
    {
     "data": {
      "text/plain": [
       "<re.Match object; span=(0, 9), match='010-12345'>"
      ]
     },
     "execution_count": 11,
     "metadata": {},
     "output_type": "execute_result"
    }
   ],
   "source": [
    "m = re.match(r\"^(\\d{3})-(\\d{3,8})$\", \"010-12345\")\n",
    "m"
   ]
  },
  {
   "cell_type": "code",
   "execution_count": 12,
   "id": "382b8791-64b0-4cd7-b303-54554825a7e4",
   "metadata": {
    "scrolled": true
   },
   "outputs": [
    {
     "data": {
      "text/plain": [
       "['__class__',\n",
       " '__class_getitem__',\n",
       " '__copy__',\n",
       " '__deepcopy__',\n",
       " '__delattr__',\n",
       " '__dir__',\n",
       " '__doc__',\n",
       " '__eq__',\n",
       " '__format__',\n",
       " '__ge__',\n",
       " '__getattribute__',\n",
       " '__getitem__',\n",
       " '__getstate__',\n",
       " '__gt__',\n",
       " '__hash__',\n",
       " '__init__',\n",
       " '__init_subclass__',\n",
       " '__le__',\n",
       " '__lt__',\n",
       " '__module__',\n",
       " '__ne__',\n",
       " '__new__',\n",
       " '__reduce__',\n",
       " '__reduce_ex__',\n",
       " '__repr__',\n",
       " '__setattr__',\n",
       " '__sizeof__',\n",
       " '__str__',\n",
       " '__subclasshook__',\n",
       " 'end',\n",
       " 'endpos',\n",
       " 'expand',\n",
       " 'group',\n",
       " 'groupdict',\n",
       " 'groups',\n",
       " 'lastgroup',\n",
       " 'lastindex',\n",
       " 'pos',\n",
       " 're',\n",
       " 'regs',\n",
       " 'span',\n",
       " 'start',\n",
       " 'string']"
      ]
     },
     "execution_count": 12,
     "metadata": {},
     "output_type": "execute_result"
    }
   ],
   "source": [
    "dir(m)"
   ]
  },
  {
   "cell_type": "code",
   "execution_count": 14,
   "id": "5012fac2-9e14-4c85-9a22-04515fba4370",
   "metadata": {},
   "outputs": [
    {
     "data": {
      "text/plain": [
       "9"
      ]
     },
     "execution_count": 14,
     "metadata": {},
     "output_type": "execute_result"
    }
   ],
   "source": [
    "m.endpos"
   ]
  },
  {
   "cell_type": "code",
   "execution_count": 16,
   "id": "bee44806-e107-4bb3-b614-7cc159e184d0",
   "metadata": {},
   "outputs": [
    {
     "data": {
      "text/plain": [
       "'010-12345'"
      ]
     },
     "execution_count": 16,
     "metadata": {},
     "output_type": "execute_result"
    }
   ],
   "source": [
    "m.group(0)"
   ]
  },
  {
   "cell_type": "code",
   "execution_count": 17,
   "id": "3d973510-2aea-4c62-82f5-9ade57e4f7c4",
   "metadata": {},
   "outputs": [
    {
     "data": {
      "text/plain": [
       "'010'"
      ]
     },
     "execution_count": 17,
     "metadata": {},
     "output_type": "execute_result"
    }
   ],
   "source": [
    "m.group(1)"
   ]
  },
  {
   "cell_type": "code",
   "execution_count": 18,
   "id": "4a16daed-72aa-4c14-8c9b-ac0445f6a600",
   "metadata": {},
   "outputs": [
    {
     "data": {
      "text/plain": [
       "'12345'"
      ]
     },
     "execution_count": 18,
     "metadata": {},
     "output_type": "execute_result"
    }
   ],
   "source": [
    "m.group(2)"
   ]
  },
  {
   "cell_type": "code",
   "execution_count": 23,
   "id": "cdd1899f-4d5e-47fd-b28e-eb1bc755324c",
   "metadata": {},
   "outputs": [
    {
     "data": {
      "text/plain": [
       "('010', '12345')"
      ]
     },
     "execution_count": 23,
     "metadata": {},
     "output_type": "execute_result"
    }
   ],
   "source": [
    "m.groups()"
   ]
  },
  {
   "cell_type": "code",
   "execution_count": 24,
   "id": "19bcba1f-05a4-4913-b581-3617753812e0",
   "metadata": {},
   "outputs": [],
   "source": [
    "t = \"19:05:30\"\n",
    "m = re.match(r\"^(0[0-9]|1[0-9]|2[0-9]|[0-9])\\:(0[0-9]|1[0-9]|2[0-9]|3[0-9]|4[0-9]|5[0-9]|[0-9])\\:(0[0-9]|1[0-9]|2[0-9]|3[0-9]|4[0-9]|5[0-9]|[0-9])$\", t)"
   ]
  },
  {
   "cell_type": "code",
   "execution_count": 25,
   "id": "41c69706-bb79-4ec9-86c6-287566f98cb1",
   "metadata": {},
   "outputs": [
    {
     "data": {
      "text/plain": [
       "('19', '05', '30')"
      ]
     },
     "execution_count": 25,
     "metadata": {},
     "output_type": "execute_result"
    }
   ],
   "source": [
    "m.groups()"
   ]
  },
  {
   "cell_type": "markdown",
   "id": "4ecfc720-3808-4e59-94c2-1e4330d300e2",
   "metadata": {},
   "source": [
    "## 贪婪匹配"
   ]
  },
  {
   "cell_type": "code",
   "execution_count": 26,
   "id": "2ad82f08-b26e-4592-8471-c8e4ead737ff",
   "metadata": {},
   "outputs": [
    {
     "data": {
      "text/plain": [
       "('102300', '')"
      ]
     },
     "execution_count": 26,
     "metadata": {},
     "output_type": "execute_result"
    }
   ],
   "source": [
    "re.match(r\"^(\\d+)(0*)$\", \"102300\").groups()"
   ]
  },
  {
   "cell_type": "code",
   "execution_count": 27,
   "id": "68194806-6248-4d2f-a279-8da995210f46",
   "metadata": {},
   "outputs": [
    {
     "data": {
      "text/plain": [
       "('1023', '00')"
      ]
     },
     "execution_count": 27,
     "metadata": {},
     "output_type": "execute_result"
    }
   ],
   "source": [
    "re.match(r\"^(\\d+?)(0*)$\", \"102300\").groups()"
   ]
  },
  {
   "cell_type": "markdown",
   "id": "9bf97479-2bcd-435f-a41e-08ece881fb0e",
   "metadata": {},
   "source": [
    "## 编译"
   ]
  },
  {
   "cell_type": "code",
   "execution_count": 28,
   "id": "871adbad-9747-40db-ad1a-ca183dc04277",
   "metadata": {},
   "outputs": [],
   "source": [
    "re_telephone = re.compile(r\"^(\\d{3})-(\\d{3,8})$\")"
   ]
  },
  {
   "cell_type": "code",
   "execution_count": 30,
   "id": "c28f7cb7-e4a9-412f-90da-cfe53ac4ebef",
   "metadata": {},
   "outputs": [
    {
     "data": {
      "text/plain": [
       "('010', '12345')"
      ]
     },
     "execution_count": 30,
     "metadata": {},
     "output_type": "execute_result"
    }
   ],
   "source": [
    "re_telephone.match(\"010-12345\").groups()"
   ]
  },
  {
   "cell_type": "code",
   "execution_count": 31,
   "id": "5a1b5bce-cab2-46c8-a307-afb2d28850d5",
   "metadata": {},
   "outputs": [
    {
     "data": {
      "text/plain": [
       "('010', '8086')"
      ]
     },
     "execution_count": 31,
     "metadata": {},
     "output_type": "execute_result"
    }
   ],
   "source": [
    "re_telephone.match(\"010-8086\").groups()"
   ]
  },
  {
   "cell_type": "markdown",
   "id": "2a6ee9b8-dfa3-439f-a8b7-b45c8c528dfe",
   "metadata": {},
   "source": [
    "## 练习"
   ]
  },
  {
   "cell_type": "code",
   "execution_count": 32,
   "id": "71ae1b00-3cc3-492c-95c7-7c7ebfac307d",
   "metadata": {},
   "outputs": [],
   "source": [
    "def is_valid_email(addr):\n",
    "    if re.match(\"\\w*\\.?\\w*@\\w*\\.com\", addr):\n",
    "        return True\n",
    "    else:\n",
    "        return False"
   ]
  },
  {
   "cell_type": "code",
   "execution_count": 33,
   "id": "f4ac6969-d42c-4d55-ab64-080c4bb274b2",
   "metadata": {},
   "outputs": [
    {
     "data": {
      "text/plain": [
       "True"
      ]
     },
     "execution_count": 33,
     "metadata": {},
     "output_type": "execute_result"
    }
   ],
   "source": [
    "is_valid_email(\"someone@gmail.com\")"
   ]
  },
  {
   "cell_type": "code",
   "execution_count": 34,
   "id": "05c2e622-0ca1-46ff-acdd-a85dd52dd1a4",
   "metadata": {},
   "outputs": [
    {
     "data": {
      "text/plain": [
       "True"
      ]
     },
     "execution_count": 34,
     "metadata": {},
     "output_type": "execute_result"
    }
   ],
   "source": [
    "is_valid_email('bill.gates@microsoft.com')"
   ]
  },
  {
   "cell_type": "code",
   "execution_count": 35,
   "id": "4cacd0a7-f94c-46b6-a0ca-64f4702b6cb8",
   "metadata": {},
   "outputs": [
    {
     "data": {
      "text/plain": [
       "False"
      ]
     },
     "execution_count": 35,
     "metadata": {},
     "output_type": "execute_result"
    }
   ],
   "source": [
    "is_valid_email('bob#example.com')"
   ]
  },
  {
   "cell_type": "code",
   "execution_count": 36,
   "id": "e95d0e0a-fcad-4c8e-bf2f-2fc7458ebbd8",
   "metadata": {},
   "outputs": [
    {
     "data": {
      "text/plain": [
       "False"
      ]
     },
     "execution_count": 36,
     "metadata": {},
     "output_type": "execute_result"
    }
   ],
   "source": [
    "is_valid_email('mr-bob@example.com')"
   ]
  },
  {
   "cell_type": "code",
   "execution_count": 46,
   "id": "cf157c42-5280-4392-af79-77bfff0e63c3",
   "metadata": {},
   "outputs": [],
   "source": [
    "def name_of_email(addr):\n",
    "    groups = re.match(r\"<(\\w*\\s\\w*)>|(\\w*)@\\w*.\\w*\", addr).groups()\n",
    "    if groups[0]:\n",
    "        return groups[0]\n",
    "    else:\n",
    "        return groups[1]"
   ]
  },
  {
   "cell_type": "code",
   "execution_count": 47,
   "id": "6e5d6cdd-5c6c-4087-9571-1c824b27235c",
   "metadata": {},
   "outputs": [
    {
     "data": {
      "text/plain": [
       "'Tom Paris'"
      ]
     },
     "execution_count": 47,
     "metadata": {},
     "output_type": "execute_result"
    }
   ],
   "source": [
    "name_of_email('<Tom Paris> tom@voyager.org')"
   ]
  },
  {
   "cell_type": "code",
   "execution_count": 48,
   "id": "934a0d30-b164-497c-90fd-8d5d7e1798ef",
   "metadata": {},
   "outputs": [
    {
     "data": {
      "text/plain": [
       "'tom'"
      ]
     },
     "execution_count": 48,
     "metadata": {},
     "output_type": "execute_result"
    }
   ],
   "source": [
    "name_of_email('tom@voyager.org')"
   ]
  }
 ],
 "metadata": {
  "kernelspec": {
   "display_name": "Python 3 (ipykernel)",
   "language": "python",
   "name": "python3"
  },
  "language_info": {
   "codemirror_mode": {
    "name": "ipython",
    "version": 3
   },
   "file_extension": ".py",
   "mimetype": "text/x-python",
   "name": "python",
   "nbconvert_exporter": "python",
   "pygments_lexer": "ipython3",
   "version": "3.11.7"
  }
 },
 "nbformat": 4,
 "nbformat_minor": 5
}
