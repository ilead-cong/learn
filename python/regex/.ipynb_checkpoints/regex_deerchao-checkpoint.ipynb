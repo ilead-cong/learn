{
 "cells": [
  {
   "cell_type": "markdown",
   "id": "f0dd6991-d516-4d38-8f4c-daeedded4883",
   "metadata": {},
   "source": [
    "# 正则表达式\n",
    "https://deerchao.cn/tutorials/regex/regex.htm"
   ]
  },
  {
   "cell_type": "code",
   "execution_count": 39,
   "id": "7525e5e1-9f08-4e46-8a72-9615b54c3918",
   "metadata": {},
   "outputs": [],
   "source": [
    "import re"
   ]
  },
  {
   "cell_type": "markdown",
   "id": "52ad0764-46a6-4375-aa65-bb8279350b38",
   "metadata": {},
   "source": [
    "## 元字符"
   ]
  },
  {
   "cell_type": "markdown",
   "id": "2e794da6-572e-4cda-8b57-20de862e4af7",
   "metadata": {},
   "source": [
    ".；匹配除换行符以外的任意字符  \n",
    "\\w；匹配字母或者数字或者下划线或汉字  \n",
    "\\s；匹配任意的空白符  \n",
    "\\d；匹配数字  \n",
    "\\b；匹配单词的开始或结束  \n",
    "^；匹配字符串的开始  \n",
    "$；匹配字符串的结束  "
   ]
  },
  {
   "cell_type": "markdown",
   "id": "7622c8e7-4037-46ee-9eca-cd09ac6d995a",
   "metadata": {},
   "source": [
    "## 字符转义"
   ]
  },
  {
   "cell_type": "markdown",
   "id": "55aac04b-7b99-4a88-8f14-f6592bfc6175",
   "metadata": {},
   "source": [
    "\\. -> \\  \n",
    "\\* -> *\n",
    "deerchao\\.cn -> 匹配deerchao.cn  \n",
    "C:\\\\windowns -> 匹配C:\\\\windows"
   ]
  },
  {
   "cell_type": "markdown",
   "id": "ad6b2247-4f79-43b3-8702-5b584afc844e",
   "metadata": {},
   "source": [
    "## 重复"
   ]
  },
  {
   "cell_type": "markdown",
   "id": "ee52bc81-6cdc-4751-9079-6c7b6524852e",
   "metadata": {},
   "source": [
    "\\*；重复零次或更多次  \n",
    "\\+；重复一次或更多次  \n",
    "?；重复零次或一次  \n",
    "{n}；重复n次  \n",
    "{n,}；重复n次或更多次  \n",
    "{n,m}；重复n到m次"
   ]
  },
  {
   "cell_type": "markdown",
   "id": "f3c60a1e-4511-4e43-b75e-9d981e72d133",
   "metadata": {},
   "source": [
    "## 字符类"
   ]
  },
  {
   "cell_type": "markdown",
   "id": "afc1fa22-b55d-40ad-8c60-0cadf516f14a",
   "metadata": {},
   "source": [
    "\\[aeiou] -> 匹配任何一个英文元音字母  \n",
    "\\[.?!] -> 匹配标点符号（.或？或！）  \n",
    "\\[a-z0-9A-z]"
   ]
  },
  {
   "cell_type": "markdown",
   "id": "0c43494c-2fee-453a-a8d1-255b54252c47",
   "metadata": {},
   "source": [
    "## 分支条件"
   ]
  },
  {
   "cell_type": "markdown",
   "id": "4d3c1c29-9e97-430b-a169-b5396643d0c9",
   "metadata": {},
   "source": [
    "0\\d{2}-\\d{8}|0\\d{3}-\\d{7} -> 匹配两种以连字号分隔的电话号码：010-12345678 | 0376-2233445   "
   ]
  },
  {
   "cell_type": "markdown",
   "id": "99b4e5e3-183c-44b8-87ff-b6917e5311a8",
   "metadata": {},
   "source": [
    "## 分组"
   ]
  },
  {
   "cell_type": "markdown",
   "id": "7703c16c-902a-4c21-a338-71f67d39ca45",
   "metadata": {},
   "source": [
    "(\\d{1,3}\\.){3}\\d{1,3} -> 简单的IP地址匹配：\\d{1,3}匹配1到3位数字，(\\d{1,3}\\.){3}匹配三位数字加上一个英文句号重复3次，最后再加上一个一到三位的数字(\\d{1,3})"
   ]
  },
  {
   "cell_type": "markdown",
   "id": "5de2c1d7-d63e-4b6a-a7f9-aa0a2e7cea58",
   "metadata": {},
   "source": [
    "## 反义"
   ]
  },
  {
   "cell_type": "markdown",
   "id": "0dd0082c-e20e-4519-8f39-eb37e099ac9f",
   "metadata": {},
   "source": [
    "\\W；匹配任意不是字母，数字，下划线，汉字的字符  \n",
    "\\S；匹配任意不是空白符的字符  \n",
    "\\D；匹配任意非数字的字符  \n",
    "\\B；匹配不是单词开头或结束的位置  \n",
    "\\[^x]；匹配除了x以外的任意字符  \n",
    "\\[^aeiou]；匹配除了aeiou这几个字母以外的任意字符  "
   ]
  },
  {
   "cell_type": "markdown",
   "id": "4d179d84-6a37-49a0-b4b7-e66edb7a6620",
   "metadata": {},
   "source": [
    "## 后向引用"
   ]
  },
  {
   "cell_type": "markdown",
   "id": "3c645023-747d-4b38-93ab-eccf89ef9aa1",
   "metadata": {},
   "source": [
    "### 捕获"
   ]
  },
  {
   "cell_type": "markdown",
   "id": "fa51563b-98f4-46a4-b03f-ba4c29ab6c00",
   "metadata": {},
   "source": [
    "(exp) -> 匹配exp，并捕获文本到自动命令的组里  \n",
    "(?<name>exp) -> 匹配exp，并捕获文本到名称为name的组里，也可以写成(?'name'exp)  \n",
    "(?:exp) -> 匹配exp，不捕获匹配的文本，也不给此分组分配组号  "
   ]
  },
  {
   "cell_type": "markdown",
   "id": "344df0fe-803b-449c-86b5-579a61cb24c1",
   "metadata": {},
   "source": [
    "### 零宽断言"
   ]
  },
  {
   "cell_type": "markdown",
   "id": "97082308-a763-4dfb-bf4b-c1fff01ffedf",
   "metadata": {},
   "source": [
    "(?=exp) -> 匹配exp前面的位置  \n",
    "(?<=exp) -> 匹配exp后面的位置  \n",
    "(?!exp) -> 匹配后面跟的不是exp的位置  \n",
    "(?<!exp) -> 匹配前面不是exp的位置"
   ]
  },
  {
   "cell_type": "code",
   "execution_count": 70,
   "id": "683c0eba-9651-452a-a827-02f2874c8be8",
   "metadata": {},
   "outputs": [],
   "source": [
    "m = re.search(r\"\\b\\w+(?=ing\\b)\", \"I'm singing while you're dancing\")"
   ]
  },
  {
   "cell_type": "code",
   "execution_count": 72,
   "id": "c03b5c08-4e21-4e46-8417-af5b25e340c0",
   "metadata": {},
   "outputs": [],
   "source": [
    "m = re.findall(r\"\\b\\w+(?=ing\\b)\", \"I'm singing while you're dancing\")"
   ]
  },
  {
   "cell_type": "code",
   "execution_count": 73,
   "id": "53a3a3fd-f4b8-43de-be3b-1b869c19379a",
   "metadata": {},
   "outputs": [
    {
     "data": {
      "text/plain": [
       "['sing', 'danc']"
      ]
     },
     "execution_count": 73,
     "metadata": {},
     "output_type": "execute_result"
    }
   ],
   "source": [
    "m"
   ]
  },
  {
   "cell_type": "markdown",
   "id": "6564b388-07b8-4eb0-8784-c5b13f004b35",
   "metadata": {},
   "source": [
    "### 注释"
   ]
  },
  {
   "cell_type": "markdown",
   "id": "1668f714-52e3-4a17-a532-a22612a642b6",
   "metadata": {},
   "source": [
    "(?#comment) -> 这种类型的分组不对正则表达式的处理产生任何影响，用于提供注释让人阅读  "
   ]
  },
  {
   "cell_type": "markdown",
   "id": "ff70d357-bac9-4202-b403-870621b97796",
   "metadata": {},
   "source": [
    "## 贪婪与懒惰"
   ]
  },
  {
   "cell_type": "markdown",
   "id": "e4275c7f-5f7b-413a-af18-caa8330956d8",
   "metadata": {},
   "source": [
    "*?；重复任意次，但尽可能少重复  \n",
    "+/；重复1次或更多次，但尽可能少重复  \n",
    "??；重复0次或1次，但尽可能少重复  \n",
    "{n,m}?；重复n到m次，但尽可能少重复  \n",
    "{n,)?；重复n次以上，但尽可能少重复"
   ]
  },
  {
   "cell_type": "markdown",
   "id": "7effdf1c-667a-4a0e-9023-75eeb0fd4037",
   "metadata": {},
   "source": [
    "## 方法"
   ]
  },
  {
   "cell_type": "markdown",
   "id": "31bdc022-f98e-44a3-b2fc-5f49b27b47b2",
   "metadata": {},
   "source": [
    "### match\n",
    "从头匹配"
   ]
  },
  {
   "cell_type": "code",
   "execution_count": 74,
   "id": "c42e9f77-1e9c-40e9-89ce-c1e1c56161c3",
   "metadata": {},
   "outputs": [],
   "source": [
    "email_pattern = re.compile(r\"^[a-zA-Z0-9_-]+(\\.[a-zA-Z0-9_-]+){0,4}@[a-zA-Z0-9_-]+(\\.[a-zA-Z0-9_-]+){0,4}$\")"
   ]
  },
  {
   "cell_type": "code",
   "execution_count": 79,
   "id": "fff1d04c-a4ca-4a60-8806-027d9432d1b0",
   "metadata": {},
   "outputs": [
    {
     "data": {
      "text/plain": [
       "'django@pyghon.org'"
      ]
     },
     "execution_count": 79,
     "metadata": {},
     "output_type": "execute_result"
    }
   ],
   "source": [
    "re.match(email_pattern, \"django@pyghon.org\").group()"
   ]
  },
  {
   "cell_type": "markdown",
   "id": "219dcc20-77ff-4a95-a6c1-5c761368f5af",
   "metadata": {},
   "source": [
    "### search\n",
    "从字符串中任意位置匹配"
   ]
  },
  {
   "cell_type": "code",
   "execution_count": 87,
   "id": "99efaaa3-13bf-4ad2-9dbe-67713077ed02",
   "metadata": {},
   "outputs": [],
   "source": [
    "year_pattern = re.compile(r\"\\d{4}\")"
   ]
  },
  {
   "cell_type": "code",
   "execution_count": 81,
   "id": "e0977d3e-c786-4658-8d8c-1d388dfdffd5",
   "metadata": {},
   "outputs": [],
   "source": [
    "string1 = \"I love 1998 and 1999\""
   ]
  },
  {
   "cell_type": "code",
   "execution_count": 88,
   "id": "60bde517-0d42-44f9-949c-474d2a6c06a1",
   "metadata": {},
   "outputs": [],
   "source": [
    "match1 = re.match(year_pattern, string1)"
   ]
  },
  {
   "cell_type": "code",
   "execution_count": 89,
   "id": "513b7e41-fe20-491c-8ed6-f22ee6d35e75",
   "metadata": {},
   "outputs": [],
   "source": [
    "match1"
   ]
  },
  {
   "cell_type": "code",
   "execution_count": 90,
   "id": "15b56bae-5f8b-48cc-a0af-a7538159294b",
   "metadata": {},
   "outputs": [],
   "source": [
    "match2 = re.search(year_pattern, string1)"
   ]
  },
  {
   "cell_type": "code",
   "execution_count": 91,
   "id": "e4558e0a-aeea-4de3-b5a1-32304ce02a0b",
   "metadata": {},
   "outputs": [
    {
     "data": {
      "text/plain": [
       "<re.Match object; span=(7, 11), match='1998'>"
      ]
     },
     "execution_count": 91,
     "metadata": {},
     "output_type": "execute_result"
    }
   ],
   "source": [
    "match2"
   ]
  },
  {
   "cell_type": "code",
   "execution_count": 94,
   "id": "5ed5b9b9-e366-4407-95bd-208b44e313df",
   "metadata": {},
   "outputs": [
    {
     "data": {
      "text/plain": [
       "'1998'"
      ]
     },
     "execution_count": 94,
     "metadata": {},
     "output_type": "execute_result"
    }
   ],
   "source": [
    "match2.group()"
   ]
  },
  {
   "cell_type": "code",
   "execution_count": 95,
   "id": "6d77c9a4-cb4b-4a26-bf1d-74064358c96f",
   "metadata": {},
   "outputs": [],
   "source": [
    "string3 = \"Elephants are bigger than rats\""
   ]
  },
  {
   "cell_type": "code",
   "execution_count": 98,
   "id": "5b355b8d-43ab-4077-b2f3-d41e6d1ee961",
   "metadata": {},
   "outputs": [
    {
     "data": {
      "text/plain": [
       "'Elephants are bigger than rats'"
      ]
     },
     "execution_count": 98,
     "metadata": {},
     "output_type": "execute_result"
    }
   ],
   "source": [
    "re.search(r\"(.*) are (.*?) .*\", string3).group()"
   ]
  },
  {
   "cell_type": "code",
   "execution_count": 100,
   "id": "9e5f3126-412e-4f12-a6b0-2ae23b909cf5",
   "metadata": {},
   "outputs": [
    {
     "data": {
      "text/plain": [
       "'Elephants'"
      ]
     },
     "execution_count": 100,
     "metadata": {},
     "output_type": "execute_result"
    }
   ],
   "source": [
    "re.search(r\"(.*) are (.*?) .*\", string3).group(1)"
   ]
  },
  {
   "cell_type": "code",
   "execution_count": null,
   "id": "a5c94159-030d-4425-8573-0373c2529b4c",
   "metadata": {},
   "outputs": [],
   "source": []
  }
 ],
 "metadata": {
  "kernelspec": {
   "display_name": "Python 3 (ipykernel)",
   "language": "python",
   "name": "python3"
  },
  "language_info": {
   "codemirror_mode": {
    "name": "ipython",
    "version": 3
   },
   "file_extension": ".py",
   "mimetype": "text/x-python",
   "name": "python",
   "nbconvert_exporter": "python",
   "pygments_lexer": "ipython3",
   "version": "3.11.7"
  }
 },
 "nbformat": 4,
 "nbformat_minor": 5
}
