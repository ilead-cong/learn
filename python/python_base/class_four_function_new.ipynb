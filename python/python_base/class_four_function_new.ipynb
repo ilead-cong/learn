{
 "cells": [
  {
   "cell_type": "markdown",
   "id": "bfbb355d",
   "metadata": {},
   "source": [
    "# 函数"
   ]
  },
  {
   "cell_type": "markdown",
   "id": "f70c9b01",
   "metadata": {},
   "source": [
    "## 匿名函数"
   ]
  },
  {
   "cell_type": "markdown",
   "id": "6db6918e",
   "metadata": {},
   "source": [
    "可以用lambda关键字定义。通过lambda构造的函数可以没有名称，最大特点是一气呵成。\n",
    "即在自定义匿名函数，所有代码可以在一行内完成  \n",
    "lambda parameters:function_expression  \n",
    "lambda \n",
    "parameters 函数形参，多个参数之间用逗号隔开\n",
    "function_expression 具体函数体\n"
   ]
  },
  {
   "cell_type": "code",
   "execution_count": 3,
   "id": "d7959225",
   "metadata": {},
   "outputs": [
    {
     "name": "stdout",
     "output_type": "stream",
     "text": [
      "{'A': 4, 'B': 5, 'C': 3, 'D': 1}\n"
     ]
    }
   ],
   "source": [
    "# 统计列表中每个元素的频次\n",
    "list6 = ['A','A','B','A','A','B','C','B','C','B','B','D','C']\n",
    "# 构建空字典，用于频次统计数据的存储\n",
    "dict3 = {}\n",
    "\n",
    "for i in list6:\n",
    "    dict3[i] = list6.count(i)\n",
    "print(dict3)"
   ]
  },
  {
   "cell_type": "code",
   "execution_count": 5,
   "id": "92d573d9",
   "metadata": {},
   "outputs": [
    {
     "data": {
      "text/plain": [
       "dict_items([('A', 4), ('B', 5), ('C', 3), ('D', 1)])"
      ]
     },
     "execution_count": 5,
     "metadata": {},
     "output_type": "execute_result"
    }
   ],
   "source": [
    "dict3.items()"
   ]
  },
  {
   "cell_type": "code",
   "execution_count": 6,
   "id": "dabd7584",
   "metadata": {},
   "outputs": [],
   "source": [
    "list7 = dict3.items()"
   ]
  },
  {
   "cell_type": "code",
   "execution_count": 7,
   "id": "2b799032",
   "metadata": {},
   "outputs": [],
   "source": [
    "list7 = list(list7)"
   ]
  },
  {
   "cell_type": "code",
   "execution_count": 8,
   "id": "c4192f99",
   "metadata": {},
   "outputs": [],
   "source": [
    "list7.sort()"
   ]
  },
  {
   "cell_type": "code",
   "execution_count": 9,
   "id": "5e3b661f",
   "metadata": {},
   "outputs": [
    {
     "data": {
      "text/plain": [
       "[('A', 4), ('B', 5), ('C', 3), ('D', 1)]"
      ]
     },
     "execution_count": 9,
     "metadata": {},
     "output_type": "execute_result"
    }
   ],
   "source": [
    "list7"
   ]
  },
  {
   "cell_type": "code",
   "execution_count": 12,
   "id": "5628d4b5",
   "metadata": {},
   "outputs": [],
   "source": [
    "list7.sort(key = lambda x : x[1], reverse=True)"
   ]
  },
  {
   "cell_type": "code",
   "execution_count": 13,
   "id": "d43fc689",
   "metadata": {},
   "outputs": [
    {
     "data": {
      "text/plain": [
       "[('B', 5), ('A', 4), ('C', 3), ('D', 1)]"
      ]
     },
     "execution_count": 13,
     "metadata": {},
     "output_type": "execute_result"
    }
   ],
   "source": [
    "list7"
   ]
  },
  {
   "cell_type": "code",
   "execution_count": null,
   "id": "1d355ac1",
   "metadata": {},
   "outputs": [],
   "source": []
  },
  {
   "cell_type": "markdown",
   "id": "40b451d3",
   "metadata": {},
   "source": [
    "## 自定义函数\n",
    "定制化需求  \n",
    "为了降低代码的重复编码  "
   ]
  },
  {
   "cell_type": "code",
   "execution_count": 15,
   "id": "dbffbfe5",
   "metadata": {},
   "outputs": [],
   "source": [
    "import random"
   ]
  },
  {
   "cell_type": "code",
   "execution_count": 16,
   "id": "68b507c5",
   "metadata": {},
   "outputs": [
    {
     "name": "stdout",
     "output_type": "stream",
     "text": [
      "请输入一个整数：20\n",
      "偏大！\n",
      "请输入一个整数：15\n",
      "偏小\n",
      "请输入一个整数：17\n",
      "偏小\n",
      "请输入一个整数：18\n",
      "偏小\n",
      "请输入一个整数：19\n",
      "正确\n"
     ]
    }
   ],
   "source": [
    "number = random.randint(10, 30)\n",
    "\n",
    "while True:\n",
    "    guess = int(input('请输入一个整数：'))\n",
    "    if guess > number:\n",
    "        print(\"偏大！\")\n",
    "    elif guess < number:\n",
    "        print(\"偏小\")\n",
    "    else:\n",
    "        print('正确')\n",
    "        break\n",
    "\n",
    "        "
   ]
  },
  {
   "cell_type": "code",
   "execution_count": 17,
   "id": "a03017f3",
   "metadata": {},
   "outputs": [],
   "source": [
    "import random\n",
    "def Guess_number(min, max):\n",
    "    number = random.randint(min, max)\n",
    "\n",
    "    while True:\n",
    "        guess = int(input('请输入一个整数：'))\n",
    "        if guess > number:\n",
    "            print(\"偏大！\")\n",
    "        elif guess < number:\n",
    "            print(\"偏小\")\n",
    "        else:\n",
    "            print('正确')\n",
    "            break"
   ]
  },
  {
   "cell_type": "code",
   "execution_count": 19,
   "id": "41232429",
   "metadata": {},
   "outputs": [
    {
     "name": "stdout",
     "output_type": "stream",
     "text": [
      "请输入一个整数：15\n",
      "偏大！\n",
      "请输入一个整数：12\n",
      "偏大！\n",
      "请输入一个整数：11\n",
      "偏大！\n",
      "请输入一个整数：10\n",
      "正确\n"
     ]
    }
   ],
   "source": [
    "Guess_number(10,20)"
   ]
  },
  {
   "cell_type": "code",
   "execution_count": 21,
   "id": "53c34b17",
   "metadata": {},
   "outputs": [],
   "source": [
    "import random\n",
    "def Guess_number(min, max):\n",
    "    number = random.randint(min, max)\n",
    "\n",
    "    while True:\n",
    "        guess = int(input(f'请在{min}和{max}之间输入一个整数：'))\n",
    "        if guess > number:\n",
    "            max = guess\n",
    "            print(\"偏大！\")\n",
    "        elif guess < number:\n",
    "            print(\"偏小\")\n",
    "            min = guess\n",
    "        else:\n",
    "            print('正确')\n",
    "            break"
   ]
  },
  {
   "cell_type": "code",
   "execution_count": 22,
   "id": "2534f318",
   "metadata": {},
   "outputs": [
    {
     "name": "stdout",
     "output_type": "stream",
     "text": [
      "请在5和10之间输入一个整数：8\n",
      "偏大！\n",
      "请在5和8之间输入一个整数：6\n",
      "偏大！\n",
      "请在5和6之间输入一个整数：5\n",
      "正确\n"
     ]
    }
   ],
   "source": [
    "Guess_number(5, 10)"
   ]
  },
  {
   "cell_type": "markdown",
   "id": "7e918cdd",
   "metadata": {},
   "source": [
    "## 例子"
   ]
  },
  {
   "cell_type": "code",
   "execution_count": 23,
   "id": "c20f306d",
   "metadata": {},
   "outputs": [],
   "source": [
    "def circle(R):\n",
    "    zc = 2*3.14*R\n",
    "    mj = 3.14*R**2\n",
    "    tj = 4/3*3.14*R**3\n",
    "    return zc, mj, tj"
   ]
  },
  {
   "cell_type": "code",
   "execution_count": 24,
   "id": "4cd24cbc",
   "metadata": {},
   "outputs": [
    {
     "data": {
      "text/plain": [
       "(62.800000000000004, 314.0, 4186.666666666667)"
      ]
     },
     "execution_count": 24,
     "metadata": {},
     "output_type": "execute_result"
    }
   ],
   "source": [
    "circle(10)"
   ]
  },
  {
   "cell_type": "code",
   "execution_count": 26,
   "id": "77287a70",
   "metadata": {},
   "outputs": [
    {
     "data": {
      "text/html": [
       "<div>\n",
       "<style scoped>\n",
       "    .dataframe tbody tr th:only-of-type {\n",
       "        vertical-align: middle;\n",
       "    }\n",
       "\n",
       "    .dataframe tbody tr th {\n",
       "        vertical-align: top;\n",
       "    }\n",
       "\n",
       "    .dataframe thead th {\n",
       "        text-align: right;\n",
       "    }\n",
       "</style>\n",
       "<table border=\"1\" class=\"dataframe\">\n",
       "  <thead>\n",
       "    <tr style=\"text-align: right;\">\n",
       "      <th></th>\n",
       "      <th>id</th>\n",
       "      <th>name</th>\n",
       "      <th>income</th>\n",
       "    </tr>\n",
       "  </thead>\n",
       "  <tbody>\n",
       "    <tr>\n",
       "      <th>0</th>\n",
       "      <td>1</td>\n",
       "      <td>a</td>\n",
       "      <td>15000</td>\n",
       "    </tr>\n",
       "    <tr>\n",
       "      <th>1</th>\n",
       "      <td>2</td>\n",
       "      <td>b</td>\n",
       "      <td>20000</td>\n",
       "    </tr>\n",
       "    <tr>\n",
       "      <th>0</th>\n",
       "      <td>3</td>\n",
       "      <td>c</td>\n",
       "      <td>17000</td>\n",
       "    </tr>\n",
       "    <tr>\n",
       "      <th>1</th>\n",
       "      <td>4</td>\n",
       "      <td>d</td>\n",
       "      <td>25000</td>\n",
       "    </tr>\n",
       "    <tr>\n",
       "      <th>0</th>\n",
       "      <td>5</td>\n",
       "      <td>e</td>\n",
       "      <td>18000</td>\n",
       "    </tr>\n",
       "    <tr>\n",
       "      <th>1</th>\n",
       "      <td>6</td>\n",
       "      <td>f</td>\n",
       "      <td>30000</td>\n",
       "    </tr>\n",
       "  </tbody>\n",
       "</table>\n",
       "</div>"
      ],
      "text/plain": [
       "   id name  income\n",
       "0   1    a   15000\n",
       "1   2    b   20000\n",
       "0   3    c   17000\n",
       "1   4    d   25000\n",
       "0   5    e   18000\n",
       "1   6    f   30000"
      ]
     },
     "execution_count": 26,
     "metadata": {},
     "output_type": "execute_result"
    }
   ],
   "source": [
    "import pandas as pd\n",
    "res = []\n",
    "for i in range(1, 4):\n",
    "    data = pd.read_csv(f\"data{i}.txt\")\n",
    "    res.append(data)\n",
    "pd.concat(res)"
   ]
  },
  {
   "cell_type": "code",
   "execution_count": 28,
   "id": "c95905bb",
   "metadata": {},
   "outputs": [
    {
     "name": "stdout",
     "output_type": "stream",
     "text": [
      "PPT\t\t\t\tfunction_new.ipynb\r\n",
      "class-one-introduce.ipynb\tmain.py\r\n",
      "class-two-data_structure.ipynb\tpython_regular-expression.ipynb\r\n",
      "data_test\r\n"
     ]
    }
   ],
   "source": [
    "!ls"
   ]
  },
  {
   "cell_type": "code",
   "execution_count": 29,
   "id": "2d54621e",
   "metadata": {},
   "outputs": [
    {
     "data": {
      "text/plain": [
       "['data1.txt', 'data2.txt', 'data3.txt']"
      ]
     },
     "execution_count": 29,
     "metadata": {},
     "output_type": "execute_result"
    }
   ],
   "source": [
    "import os\n",
    "os.listdir(r\"./data_test\")"
   ]
  },
  {
   "cell_type": "code",
   "execution_count": 31,
   "id": "685b8235",
   "metadata": {},
   "outputs": [
    {
     "data": {
      "text/html": [
       "<div>\n",
       "<style scoped>\n",
       "    .dataframe tbody tr th:only-of-type {\n",
       "        vertical-align: middle;\n",
       "    }\n",
       "\n",
       "    .dataframe tbody tr th {\n",
       "        vertical-align: top;\n",
       "    }\n",
       "\n",
       "    .dataframe thead th {\n",
       "        text-align: right;\n",
       "    }\n",
       "</style>\n",
       "<table border=\"1\" class=\"dataframe\">\n",
       "  <thead>\n",
       "    <tr style=\"text-align: right;\">\n",
       "      <th></th>\n",
       "      <th>id</th>\n",
       "      <th>name</th>\n",
       "      <th>income</th>\n",
       "    </tr>\n",
       "  </thead>\n",
       "  <tbody>\n",
       "    <tr>\n",
       "      <th>0</th>\n",
       "      <td>1</td>\n",
       "      <td>a</td>\n",
       "      <td>15000</td>\n",
       "    </tr>\n",
       "    <tr>\n",
       "      <th>1</th>\n",
       "      <td>2</td>\n",
       "      <td>b</td>\n",
       "      <td>20000</td>\n",
       "    </tr>\n",
       "    <tr>\n",
       "      <th>0</th>\n",
       "      <td>3</td>\n",
       "      <td>c</td>\n",
       "      <td>17000</td>\n",
       "    </tr>\n",
       "    <tr>\n",
       "      <th>1</th>\n",
       "      <td>4</td>\n",
       "      <td>d</td>\n",
       "      <td>25000</td>\n",
       "    </tr>\n",
       "    <tr>\n",
       "      <th>0</th>\n",
       "      <td>5</td>\n",
       "      <td>e</td>\n",
       "      <td>18000</td>\n",
       "    </tr>\n",
       "    <tr>\n",
       "      <th>1</th>\n",
       "      <td>6</td>\n",
       "      <td>f</td>\n",
       "      <td>30000</td>\n",
       "    </tr>\n",
       "  </tbody>\n",
       "</table>\n",
       "</div>"
      ],
      "text/plain": [
       "   id name  income\n",
       "0   1    a   15000\n",
       "1   2    b   20000\n",
       "0   3    c   17000\n",
       "1   4    d   25000\n",
       "0   5    e   18000\n",
       "1   6    f   30000"
      ]
     },
     "execution_count": 31,
     "metadata": {},
     "output_type": "execute_result"
    }
   ],
   "source": [
    "path = r\"./data_test\"\n",
    "filenames = os.listdir(path)\n",
    "\n",
    "res = []\n",
    "for file in filenames:\n",
    "    data = pd.read_csv(path + \"/\" + file)\n",
    "    res.append(data)\n",
    "\n",
    "pd.concat(res)"
   ]
  },
  {
   "cell_type": "code",
   "execution_count": null,
   "id": "9b826ad3",
   "metadata": {},
   "outputs": [],
   "source": []
  }
 ],
 "metadata": {
  "kernelspec": {
   "display_name": "Python 3",
   "language": "python",
   "name": "python3"
  },
  "language_info": {
   "codemirror_mode": {
    "name": "ipython",
    "version": 3
   },
   "file_extension": ".py",
   "mimetype": "text/x-python",
   "name": "python",
   "nbconvert_exporter": "python",
   "pygments_lexer": "ipython3",
   "version": "3.7.10"
  },
  "toc": {
   "base_numbering": 1,
   "nav_menu": {},
   "number_sections": true,
   "sideBar": true,
   "skip_h1_title": false,
   "title_cell": "Table of Contents",
   "title_sidebar": "Contents",
   "toc_cell": false,
   "toc_position": {},
   "toc_section_display": true,
   "toc_window_display": false
  }
 },
 "nbformat": 4,
 "nbformat_minor": 5
}
