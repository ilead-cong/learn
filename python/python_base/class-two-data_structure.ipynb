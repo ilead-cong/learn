{
 "cells": [
  {
   "cell_type": "code",
   "execution_count": 1,
   "id": "wound-jerusalem",
   "metadata": {},
   "outputs": [],
   "source": [
    "from IPython.core.interactiveshell import InteractiveShell\n",
    "InteractiveShell.ast_node_interactivity = \"all\""
   ]
  },
  {
   "cell_type": "markdown",
   "id": "broken-mechanism",
   "metadata": {},
   "source": [
    "数据结构：\n",
    "字符串：单引号、双引号、三引号"
   ]
  },
  {
   "cell_type": "code",
   "execution_count": 2,
   "id": "falling-fleece",
   "metadata": {},
   "outputs": [
    {
     "data": {
      "text/plain": [
       "'he says \"good morning\"'"
      ]
     },
     "execution_count": 2,
     "metadata": {},
     "output_type": "execute_result"
    }
   ],
   "source": [
    "'he says \"good morning\"'#字符串中含有双引号时使用单引号，字符串中有单引号时使用双引号，字符中既有单引号又有双引号时或者需要多行显示时使用三引号\n"
   ]
  },
  {
   "cell_type": "code",
   "execution_count": 3,
   "id": "animated-poverty",
   "metadata": {},
   "outputs": [
    {
     "data": {
      "text/plain": [
       "\"I 'm fine too!\""
      ]
     },
     "execution_count": 3,
     "metadata": {},
     "output_type": "execute_result"
    }
   ],
   "source": [
    "\"I 'm fine too!\""
   ]
  },
  {
   "cell_type": "code",
   "execution_count": 4,
   "id": "exact-herald",
   "metadata": {},
   "outputs": [
    {
     "data": {
      "text/plain": [
       "'he says \"good morning\"\\',\"I \\'m fine too!'"
      ]
     },
     "execution_count": 4,
     "metadata": {},
     "output_type": "execute_result"
    }
   ],
   "source": [
    "'''he says \"good morning\"',\"I 'm fine too!'''"
   ]
  },
  {
   "cell_type": "code",
   "execution_count": 5,
   "id": "valid-tomorrow",
   "metadata": {},
   "outputs": [
    {
     "name": "stdout",
     "output_type": "stream",
     "text": [
      "he says \"good morning\"',\"I 'm fine too!\n"
     ]
    }
   ],
   "source": [
    "print('''he says \"good morning\"',\"I 'm fine too!''')"
   ]
  },
  {
   "cell_type": "code",
   "execution_count": 6,
   "id": "insured-threat",
   "metadata": {},
   "outputs": [
    {
     "data": {
      "text/plain": [
       "'he says \"good morning\"\\'\\n,\"I \\'m fine too!'"
      ]
     },
     "execution_count": 6,
     "metadata": {},
     "output_type": "execute_result"
    }
   ],
   "source": [
    "string4 = '''he says \"good morning\"'\n",
    ",\"I 'm fine too!'''\n",
    "string4"
   ]
  },
  {
   "cell_type": "code",
   "execution_count": 7,
   "id": "continental-conflict",
   "metadata": {},
   "outputs": [
    {
     "name": "stdout",
     "output_type": "stream",
     "text": [
      "he says \"good morning\"'\n",
      ",\"I 'm fine too!\n"
     ]
    }
   ],
   "source": [
    "print(string4)"
   ]
  },
  {
   "cell_type": "markdown",
   "id": "stuck-caution",
   "metadata": {},
   "source": [
    "序列：字符串属于序列"
   ]
  },
  {
   "cell_type": "markdown",
   "id": "enhanced-cancellation",
   "metadata": {},
   "source": [
    "1.正向单索引（索引值与实际元素的位置相差1）"
   ]
  },
  {
   "cell_type": "code",
   "execution_count": 8,
   "id": "leading-voice",
   "metadata": {},
   "outputs": [
    {
     "name": "stdout",
     "output_type": "stream",
     "text": [
      "5\n"
     ]
    }
   ],
   "source": [
    "price = '5元/瓶'\n",
    "print(int(price[0]))"
   ]
  },
  {
   "cell_type": "code",
   "execution_count": 11,
   "id": "further-bahrain",
   "metadata": {},
   "outputs": [
    {
     "name": "stdout",
     "output_type": "stream",
     "text": [
      "元\n"
     ]
    }
   ],
   "source": [
    "print(price[1])"
   ]
  },
  {
   "cell_type": "code",
   "execution_count": 14,
   "id": "based-advisory",
   "metadata": {},
   "outputs": [
    {
     "name": "stdout",
     "output_type": "stream",
     "text": [
      "瓶\n"
     ]
    }
   ],
   "source": [
    "print(price[len(price) - 1])"
   ]
  },
  {
   "cell_type": "markdown",
   "id": "enormous-terror",
   "metadata": {},
   "source": [
    "int 转整型 字符型的整数 浮点型\n",
    "float 转浮点型\n",
    "str 转字符型\n",
    "bool 转布尔值类型 非0非空即为真 None为False\n",
    "strptime 转日期时间 datatime"
   ]
  },
  {
   "cell_type": "code",
   "execution_count": 15,
   "id": "responsible-attraction",
   "metadata": {},
   "outputs": [
    {
     "data": {
      "text/plain": [
       "3"
      ]
     },
     "execution_count": 15,
     "metadata": {},
     "output_type": "execute_result"
    }
   ],
   "source": [
    "int(float('3.88'))#先转浮点型，在转整型"
   ]
  },
  {
   "cell_type": "code",
   "execution_count": 18,
   "id": "compressed-protocol",
   "metadata": {},
   "outputs": [
    {
     "data": {
      "text/plain": [
       "True"
      ]
     },
     "execution_count": 18,
     "metadata": {},
     "output_type": "execute_result"
    },
    {
     "data": {
      "text/plain": [
       "True"
      ]
     },
     "execution_count": 18,
     "metadata": {},
     "output_type": "execute_result"
    }
   ],
   "source": [
    "bool('0')\n",
    "bool(' ')"
   ]
  },
  {
   "cell_type": "code",
   "execution_count": 22,
   "id": "sunset-assignment",
   "metadata": {},
   "outputs": [
    {
     "data": {
      "text/plain": [
       "datetime.datetime(1999, 7, 1, 0, 0)"
      ]
     },
     "execution_count": 22,
     "metadata": {},
     "output_type": "execute_result"
    }
   ],
   "source": [
    "import datetime\n",
    "datetime.datetime.strptime('1999-7-1','%Y-%m-%d')"
   ]
  },
  {
   "cell_type": "code",
   "execution_count": 24,
   "id": "shaped-sweet",
   "metadata": {},
   "outputs": [
    {
     "name": "stdout",
     "output_type": "stream",
     "text": [
      "1999-07-01\n"
     ]
    }
   ],
   "source": [
    "print(datetime.datetime.strptime('1999-7-1','%Y-%m-%d').date())"
   ]
  },
  {
   "cell_type": "markdown",
   "id": "spread-digest",
   "metadata": {},
   "source": [
    "2.负向单索引（从-1开始）"
   ]
  },
  {
   "cell_type": "code",
   "execution_count": 25,
   "id": "divided-grain",
   "metadata": {},
   "outputs": [
    {
     "name": "stdout",
     "output_type": "stream",
     "text": [
      "瓶\n"
     ]
    }
   ],
   "source": [
    "price = '5元/瓶'\n",
    "print(price[-1])"
   ]
  },
  {
   "cell_type": "code",
   "execution_count": 26,
   "id": "planned-profession",
   "metadata": {},
   "outputs": [
    {
     "name": "stdout",
     "output_type": "stream",
     "text": [
      "男\n"
     ]
    }
   ],
   "source": [
    "ID = '123456198908187890'\n",
    "if int(ID[-2]) % 2 == 0:#%，两个商的余数；//，两个数商的整数\n",
    "    print('女')\n",
    "else:\n",
    "    print('男')"
   ]
  },
  {
   "cell_type": "markdown",
   "id": "indie-metadata",
   "metadata": {},
   "source": [
    "+= 累加\n",
    "-= 累减"
   ]
  },
  {
   "cell_type": "code",
   "execution_count": 28,
   "id": "judicial-phoenix",
   "metadata": {},
   "outputs": [
    {
     "data": {
      "text/plain": [
       "8"
      ]
     },
     "execution_count": 28,
     "metadata": {},
     "output_type": "execute_result"
    }
   ],
   "source": [
    "x = 5\n",
    "x += 3\n",
    "x"
   ]
  },
  {
   "cell_type": "markdown",
   "id": "capital-microphone",
   "metadata": {},
   "source": [
    "3.有限切片[start:end:step]"
   ]
  },
  {
   "cell_type": "markdown",
   "id": "retired-assumption",
   "metadata": {},
   "source": [
    "end指定截取位置的末尾，但是在python中，切片取不到end位置的元素，只能取到结束位置前一位"
   ]
  },
  {
   "cell_type": "code",
   "execution_count": 4,
   "id": "serial-private",
   "metadata": {},
   "outputs": [
    {
     "name": "stdout",
     "output_type": "stream",
     "text": [
      "500.0\n",
      "500g\n"
     ]
    }
   ],
   "source": [
    "price2 = '24.5y/500g'\n",
    "print(float(price2[6:len(price2)-1]))\n",
    "price2 = '24.5y/500g'\n",
    "print(price2[6:len(price2)])"
   ]
  },
  {
   "cell_type": "markdown",
   "id": "surface-shore",
   "metadata": {},
   "source": [
    "切片优化：当原字符串比较长的时候，根据元素在字符串的位置，可以考虑从不同的方向进行切片"
   ]
  },
  {
   "cell_type": "markdown",
   "id": "fixed-thesaurus",
   "metadata": {},
   "source": [
    "4.有限切片：切片过程中不限定起始元素的位置或者终止元素的位置（包含最后一个元素值）"
   ]
  },
  {
   "cell_type": "markdown",
   "id": "primary-accent",
   "metadata": {},
   "source": [
    "5.字符串查询\n",
    "str.index(sub[start[end]])#未查询到，返回ERRO\n",
    "str.index(sub[start[end]])#未查询到，返回-1\n"
   ]
  },
  {
   "cell_type": "code",
   "execution_count": 6,
   "id": "thrown-laptop",
   "metadata": {},
   "outputs": [
    {
     "ename": "ValueError",
     "evalue": "substring not found",
     "output_type": "error",
     "traceback": [
      "\u001b[0;31m---------------------------------------------------------------------------\u001b[0m",
      "\u001b[0;31mValueError\u001b[0m                                Traceback (most recent call last)",
      "\u001b[0;32m<ipython-input-6-8d8e2b1c11a6>\u001b[0m in \u001b[0;36m<module>\u001b[0;34m\u001b[0m\n\u001b[1;32m      1\u001b[0m \u001b[0mprice3\u001b[0m\u001b[0;34m=\u001b[0m \u001b[0;34m\"56.7y/g\"\u001b[0m\u001b[0;34m\u001b[0m\u001b[0;34m\u001b[0m\u001b[0m\n\u001b[0;32m----> 2\u001b[0;31m \u001b[0mprint\u001b[0m\u001b[0;34m(\u001b[0m\u001b[0mprice3\u001b[0m\u001b[0;34m.\u001b[0m\u001b[0mindex\u001b[0m\u001b[0;34m(\u001b[0m\u001b[0;34m'9'\u001b[0m\u001b[0;34m)\u001b[0m\u001b[0;34m)\u001b[0m\u001b[0;34m\u001b[0m\u001b[0;34m\u001b[0m\u001b[0m\n\u001b[0m",
      "\u001b[0;31mValueError\u001b[0m: substring not found"
     ]
    }
   ],
   "source": [
    "price3= \"56.7y/g\"\n",
    "print(price3.index('9'))"
   ]
  },
  {
   "cell_type": "code",
   "execution_count": 7,
   "id": "environmental-kingston",
   "metadata": {},
   "outputs": [
    {
     "name": "stdout",
     "output_type": "stream",
     "text": [
      "-1\n"
     ]
    }
   ],
   "source": [
    "price3= \"56.7y/g\"\n",
    "print(price3.find('9'))"
   ]
  },
  {
   "cell_type": "markdown",
   "id": "substantial-sweet",
   "metadata": {},
   "source": [
    "6.字符串首尾特定字符的删除\n",
    "str.lstrip('chars')#删除左侧\n",
    "str.rstrip('chars')#删除右侧\n",
    "str.strip('chars')#删除两侧\n",
    "chars:指定待删除的首位字符（不指定，默认删除空白，包括换行符）"
   ]
  },
  {
   "cell_type": "code",
   "execution_count": 8,
   "id": "honest-barrier",
   "metadata": {},
   "outputs": [
    {
     "data": {
      "text/plain": [
       "'123'"
      ]
     },
     "execution_count": 8,
     "metadata": {},
     "output_type": "execute_result"
    }
   ],
   "source": [
    "'123 '.rstrip()"
   ]
  },
  {
   "cell_type": "code",
   "execution_count": 9,
   "id": "broad-uncertainty",
   "metadata": {},
   "outputs": [
    {
     "data": {
      "text/plain": [
       "' 123'"
      ]
     },
     "execution_count": 9,
     "metadata": {},
     "output_type": "execute_result"
    }
   ],
   "source": [
    "' 123 '.rstrip()"
   ]
  },
  {
   "cell_type": "code",
   "execution_count": 10,
   "id": "sealed-pattern",
   "metadata": {},
   "outputs": [
    {
     "data": {
      "text/plain": [
       "'123'"
      ]
     },
     "execution_count": 10,
     "metadata": {},
     "output_type": "execute_result"
    }
   ],
   "source": [
    "'123 '.strip()"
   ]
  },
  {
   "cell_type": "markdown",
   "id": "specialized-davis",
   "metadata": {},
   "source": [
    "7.字符串替换\n",
    "按值替换\n",
    "str.replace(old,new)\n",
    "old\n",
    "new"
   ]
  },
  {
   "cell_type": "code",
   "execution_count": 11,
   "id": "official-madrid",
   "metadata": {},
   "outputs": [
    {
     "data": {
      "text/plain": [
       "'123****8901'"
      ]
     },
     "execution_count": 11,
     "metadata": {},
     "output_type": "execute_result"
    }
   ],
   "source": [
    "'12345678901'.replace('12345678901'[3:7],'****')"
   ]
  },
  {
   "cell_type": "markdown",
   "id": "delayed-tonight",
   "metadata": {},
   "source": [
    "8.字符串格式化\n",
    "str.format(values)\n"
   ]
  },
  {
   "cell_type": "code",
   "execution_count": 15,
   "id": "wicked-chambers",
   "metadata": {},
   "outputs": [
    {
     "data": {
      "text/plain": [
       "' 0.68'"
      ]
     },
     "execution_count": 15,
     "metadata": {},
     "output_type": "execute_result"
    }
   ],
   "source": [
    "' {:.2f}'.format(0.675843)#保留两位小数"
   ]
  },
  {
   "cell_type": "markdown",
   "id": "unexpected-protest",
   "metadata": {},
   "source": [
    "9.字符串分割\n",
    "str.split(sep)\n",
    "sep:指定待分割的分割符#以列表格式返回"
   ]
  },
  {
   "cell_type": "code",
   "execution_count": null,
   "id": "applicable-whole",
   "metadata": {},
   "outputs": [],
   "source": [
    "str."
   ]
  },
  {
   "cell_type": "code",
   "execution_count": null,
   "id": "psychological-mexico",
   "metadata": {},
   "outputs": [],
   "source": []
  }
 ],
 "metadata": {
  "kernelspec": {
   "display_name": "Python 3",
   "language": "python",
   "name": "python3"
  },
  "language_info": {
   "codemirror_mode": {
    "name": "ipython",
    "version": 3
   },
   "file_extension": ".py",
   "mimetype": "text/x-python",
   "name": "python",
   "nbconvert_exporter": "python",
   "pygments_lexer": "ipython3",
   "version": "3.7.10"
  }
 },
 "nbformat": 4,
 "nbformat_minor": 5
}
