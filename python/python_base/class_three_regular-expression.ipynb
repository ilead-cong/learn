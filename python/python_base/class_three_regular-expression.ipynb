{
 "cells": [
  {
   "cell_type": "markdown",
   "id": "c1c988ed",
   "metadata": {},
   "source": [
    "# 正则符号"
   ]
  },
  {
   "cell_type": "markdown",
   "id": "9b0ce3d4",
   "metadata": {},
   "source": [
    "## 原字符"
   ]
  },
  {
   "cell_type": "code",
   "execution_count": 1,
   "id": "50a9c27f",
   "metadata": {},
   "outputs": [],
   "source": [
    "import re"
   ]
  },
  {
   "cell_type": "code",
   "execution_count": 2,
   "id": "75e18eac",
   "metadata": {},
   "outputs": [
    {
     "data": {
      "text/plain": [
       "['Python', 'Python']"
      ]
     },
     "execution_count": 2,
     "metadata": {},
     "output_type": "execute_result"
    }
   ],
   "source": [
    "s1 = '通过几天Python的学习，感觉Python很简单，非常容易上手！'\n",
    "re.findall('Python', s1)"
   ]
  },
  {
   "cell_type": "markdown",
   "id": "4dc7a38b",
   "metadata": {},
   "source": [
    "## 英文状态的句号点\n",
    "指代任意字符（数字，字母，标点，汉字），除了换行符\\n"
   ]
  },
  {
   "cell_type": "code",
   "execution_count": 3,
   "id": "2239b17d",
   "metadata": {},
   "outputs": [
    {
     "data": {
      "text/plain": [
       "['1.5L', '1.5T', '1.0T', '1.3T']"
      ]
     },
     "execution_count": 3,
     "metadata": {},
     "output_type": "execute_result"
    }
   ],
   "source": [
    "s2 = '此次新朗逸主要搭载了1.5L和1.5T两种动力总成的发动机。别克英朗则搭载了1.0T和1.3T的动力总成。'\n",
    "re.findall('1...', s2)"
   ]
  },
  {
   "cell_type": "code",
   "execution_count": 4,
   "id": "95e2fad3",
   "metadata": {},
   "outputs": [
    {
     "data": {
      "text/plain": [
       "['1.5L', '1.5T', '1.0T', '1.3T']"
      ]
     },
     "execution_count": 4,
     "metadata": {},
     "output_type": "execute_result"
    }
   ],
   "source": [
    "re.findall('1\\...', s2)"
   ]
  },
  {
   "cell_type": "markdown",
   "id": "922c8eed",
   "metadata": {},
   "source": [
    "## 反斜杠  \n",
    "\\n  \n",
    "\\t  \n",
    "\\d：指代0-9的任意一个数字  \n",
    "\\s：指代任意一种空白（如空格、Tab、换行等）  \n",
    "\\w:指代字母、数字和下划线中的任意一种  \n",
    "\\.：代表句号点本身  "
   ]
  },
  {
   "cell_type": "code",
   "execution_count": 7,
   "id": "be4913a9",
   "metadata": {},
   "outputs": [
    {
     "data": {
      "text/plain": [
       "'   距离 2019北京马拉松开跑只有两周时间了，\\n 今年的北京马拉松预报名人数超过16万人，\\t 媒体公布的中签率只有16%左右，再创历年来的新低。\\n'"
      ]
     },
     "execution_count": 7,
     "metadata": {},
     "output_type": "execute_result"
    }
   ],
   "source": [
    "s3 = '   距离 2019北京马拉松开跑只有两周时间了，\\n 今年的北京马拉松预报名人数超过16万人，\\t 媒体公布的中签率只有16%左右，再创历年来的新低。\\n'\n",
    "s3\n"
   ]
  },
  {
   "cell_type": "code",
   "execution_count": 8,
   "id": "16d8bbbb",
   "metadata": {},
   "outputs": [
    {
     "data": {
      "text/plain": [
       "'距离2019北京马拉松开跑只有两周时间了，今年的北京马拉松预报名人数超过16万人，媒体公布的中签率只有16%左右，再创历年来的新低。'"
      ]
     },
     "execution_count": 8,
     "metadata": {},
     "output_type": "execute_result"
    }
   ],
   "source": [
    "re.sub('\\s','', s3)"
   ]
  },
  {
   "cell_type": "markdown",
   "id": "795dddce",
   "metadata": {},
   "source": [
    "## 中括号 []\n",
    "指代字符集，当需要特定字符匹配时，可以选择中括号"
   ]
  },
  {
   "cell_type": "code",
   "execution_count": 9,
   "id": "0c743ffd",
   "metadata": {},
   "outputs": [],
   "source": [
    "# 取出手机号信息\n",
    "s4 = '用户联系方式：13612345566，用户编号为11011254321'"
   ]
  },
  {
   "cell_type": "code",
   "execution_count": 11,
   "id": "43f7c2ba",
   "metadata": {},
   "outputs": [
    {
     "data": {
      "text/plain": [
       "['13612345566']"
      ]
     },
     "execution_count": 11,
     "metadata": {},
     "output_type": "execute_result"
    }
   ],
   "source": [
    "re.findall('1[356789]\\d\\d\\d\\d\\d\\d\\d\\d\\d', s4)#中括号内元素之间不需要分隔符"
   ]
  },
  {
   "cell_type": "code",
   "execution_count": 12,
   "id": "8a38c9da",
   "metadata": {},
   "outputs": [
    {
     "data": {
      "text/plain": [
       "['1.5L', '1.5T', '1.5T']"
      ]
     },
     "execution_count": 12,
     "metadata": {},
     "output_type": "execute_result"
    }
   ],
   "source": [
    "# 提取出动力总成\n",
    "s5 = '通过对比新朗逸1.5L和1.5T两种动力在1.5年行驶期后的数据。发现1.5T的口碑相对较好！'\n",
    "re.findall('1.5[a-zA-Z]', s5)"
   ]
  },
  {
   "cell_type": "code",
   "execution_count": 13,
   "id": "103e8ef5",
   "metadata": {},
   "outputs": [
    {
     "data": {
      "text/plain": [
       "['1.5L', '1.5T', '1.5T']"
      ]
     },
     "execution_count": 13,
     "metadata": {},
     "output_type": "execute_result"
    }
   ],
   "source": [
    "re.findall('1.5[TL]', s5)"
   ]
  },
  {
   "cell_type": "markdown",
   "id": "e4db11ca",
   "metadata": {},
   "source": [
    "## 圆括号 ()\n",
    "指代特定内容的截取"
   ]
  },
  {
   "cell_type": "code",
   "execution_count": 14,
   "id": "db854d5b",
   "metadata": {},
   "outputs": [],
   "source": [
    "# 提取出用户的年龄\n",
    "s6 = 'id:1, name:Tom, age:3, gender:1; id:2, name:Lily, age:5, gender:0'"
   ]
  },
  {
   "cell_type": "code",
   "execution_count": 16,
   "id": "f45fab3b",
   "metadata": {},
   "outputs": [
    {
     "data": {
      "text/plain": [
       "['age:3', 'age:5']"
      ]
     },
     "execution_count": 16,
     "metadata": {},
     "output_type": "execute_result"
    }
   ],
   "source": [
    "re.findall('age:\\d', s6)"
   ]
  },
  {
   "cell_type": "code",
   "execution_count": 17,
   "id": "9cb0a111",
   "metadata": {},
   "outputs": [
    {
     "data": {
      "text/plain": [
       "['3', '5']"
      ]
     },
     "execution_count": 17,
     "metadata": {},
     "output_type": "execute_result"
    }
   ],
   "source": [
    "re.findall('age:(\\d)', s6)"
   ]
  },
  {
   "cell_type": "markdown",
   "id": "946f04de",
   "metadata": {},
   "source": [
    "## 次数匹配"
   ]
  },
  {
   "cell_type": "markdown",
   "id": "caf8197d",
   "metadata": {},
   "source": [
    "### 句号？\n",
    "表示匹配前一个字符0次或者1次"
   ]
  },
  {
   "cell_type": "code",
   "execution_count": 27,
   "id": "70eb561e",
   "metadata": {},
   "outputs": [],
   "source": [
    "# 超链接的匹配\n",
    "URL1 = 'https://www.baidu.com/12345566'\n",
    "URL2 = 'http://www.gov.cn/'\n",
    "s_u = URL1+URL2"
   ]
  },
  {
   "cell_type": "code",
   "execution_count": 39,
   "id": "8d07baff",
   "metadata": {},
   "outputs": [
    {
     "data": {
      "text/plain": [
       "['https://www.']"
      ]
     },
     "execution_count": 39,
     "metadata": {},
     "output_type": "execute_result"
    }
   ],
   "source": [
    "pattern = 'https?://www\\..*?'\n",
    "re.findall(pattern, URL1)"
   ]
  },
  {
   "cell_type": "markdown",
   "id": "dc8acdcd",
   "metadata": {},
   "source": [
    "### 加号 +\n",
    "匹配前一个字符1次及以上"
   ]
  },
  {
   "cell_type": "code",
   "execution_count": 40,
   "id": "9a35cd03",
   "metadata": {},
   "outputs": [],
   "source": [
    "# 邮箱地址的匹配\n",
    "email1 = 'Lsxxx2011@163.com'\n",
    "email2 = '654088115@qq.com'"
   ]
  },
  {
   "cell_type": "code",
   "execution_count": 41,
   "id": "63c7f153",
   "metadata": {},
   "outputs": [],
   "source": [
    "pattern = '[0-9a-zA-Z_\\.\\-]+@[0-9a-zA-Z_\\.\\-]+\\.com'"
   ]
  },
  {
   "cell_type": "code",
   "execution_count": 43,
   "id": "a64f1c5f",
   "metadata": {},
   "outputs": [
    {
     "data": {
      "text/plain": [
       "['Lsxxx2011@163.com']"
      ]
     },
     "execution_count": 43,
     "metadata": {},
     "output_type": "execute_result"
    }
   ],
   "source": [
    "re.findall(pattern, email1)"
   ]
  },
  {
   "cell_type": "code",
   "execution_count": 45,
   "id": "cd13d5bf",
   "metadata": {},
   "outputs": [
    {
     "data": {
      "text/plain": [
       "['654088115@qq.com']"
      ]
     },
     "execution_count": 45,
     "metadata": {},
     "output_type": "execute_result"
    }
   ],
   "source": [
    "re.findall(pattern, email2)"
   ]
  },
  {
   "cell_type": "markdown",
   "id": "41f62a7a",
   "metadata": {},
   "source": [
    "### 星号 *\n",
    "匹配前一个字符0次及以上"
   ]
  },
  {
   "cell_type": "code",
   "execution_count": 46,
   "id": "25e1b9fb",
   "metadata": {},
   "outputs": [],
   "source": [
    "# 提取出产品名称中含奶粉字样的产品\n",
    "prod = ['婴儿袜','亨氏奶粉','奶粉勺','多功能奶瓶','幼儿奶粉量筒','磨牙棒']"
   ]
  },
  {
   "cell_type": "code",
   "execution_count": 48,
   "id": "7f698ecc",
   "metadata": {},
   "outputs": [],
   "source": [
    "res = []\n",
    "for i in prod:\n",
    "    res.extend(re.findall('.*奶粉.*', i))"
   ]
  },
  {
   "cell_type": "code",
   "execution_count": 49,
   "id": "0c6e4696",
   "metadata": {},
   "outputs": [
    {
     "data": {
      "text/plain": [
       "['亨氏奶粉', '奶粉勺', '幼儿奶粉量筒']"
      ]
     },
     "execution_count": 49,
     "metadata": {},
     "output_type": "execute_result"
    }
   ],
   "source": [
    "res"
   ]
  },
  {
   "cell_type": "markdown",
   "id": "0f931eff",
   "metadata": {},
   "source": [
    "### 大括号 {}\n",
    "匹配前一个字符特定的次数或范围  \n",
    "{m}：匹配前一个字符m次  \n",
    "{m,}：匹配前一个字符至少m次  \n",
    "{m,n}：匹配前一个字符m-n次  \n",
    "{, n}：匹配前一个字符至多n次"
   ]
  },
  {
   "cell_type": "code",
   "execution_count": 50,
   "id": "45443986",
   "metadata": {},
   "outputs": [],
   "source": [
    "# 手机号码的匹配\n",
    "pattern = '1[356789]\\d{9}'\n",
    "# 至少6个长度的密码\n",
    "pattern = '\\w{6,}'\n",
    "# 区号信息\n",
    "pattern = '0\\d{2,3}'"
   ]
  },
  {
   "cell_type": "markdown",
   "id": "d869c6b7",
   "metadata": {},
   "source": [
    "## 例子"
   ]
  },
  {
   "cell_type": "code",
   "execution_count": 53,
   "id": "1903068b",
   "metadata": {},
   "outputs": [],
   "source": [
    "# 取出字符中所有的天气状态\n",
    "string1 = \"{ymd:'2018-01-01',tianqi:'晴',aqiInfo:'轻度污染'},{ymd:'2018-01-02',tianqi:'阴~小雨',aqiInfo:'优'},{ymd:'2018-01-03',tianqi:'小雨~中雨',aqiInfo:'优'},{ymd:'2018-01-04',tianqi:'中雨~小雨',aqiInfo:'优'}\""
   ]
  },
  {
   "cell_type": "code",
   "execution_count": 55,
   "id": "cd578b81",
   "metadata": {},
   "outputs": [
    {
     "name": "stdout",
     "output_type": "stream",
     "text": [
      "['晴', '阴~小雨', '小雨~中雨', '中雨~小雨']\n"
     ]
    }
   ],
   "source": [
    "# .*？ 非贪婪式匹配，？只匹配一块区域\n",
    "print(re.findall(\"tianqi:'(.*?)'\", string1))"
   ]
  },
  {
   "cell_type": "code",
   "execution_count": 56,
   "id": "b3183ea4",
   "metadata": {},
   "outputs": [],
   "source": [
    "# 取出所有含O字母的单词\n",
    "string2  = 'Together, we discovered that a free market only thrives when there are rules to ensure competition and fair play, Our celebration of initiative and enterprise'"
   ]
  },
  {
   "cell_type": "code",
   "execution_count": 60,
   "id": "8d4eac6e",
   "metadata": {},
   "outputs": [
    {
     "name": "stdout",
     "output_type": "stream",
     "text": [
      "['Together', 'discovered', 'only', 'to', 'competition', 'Our', 'celebration', 'of']\n"
     ]
    }
   ],
   "source": [
    "print(re.findall('\\w*o\\w*', string2, flags = re.I)) #flags = re.I 表示不区分大小写"
   ]
  },
  {
   "cell_type": "code",
   "execution_count": 61,
   "id": "23ebcf4f",
   "metadata": {},
   "outputs": [],
   "source": [
    "# 将标点符号、数字和字母删除\n",
    "string3 = '据悉，这次发运的4台蒸汽冷凝罐属于国际热核聚变实验堆（ITER）项目的核二级压力设备，先后完成了压力试验、真空试验、氦气检漏试验、千斤顶试验、吊耳载荷试验、叠装试验等验收试验。'"
   ]
  },
  {
   "cell_type": "code",
   "execution_count": 62,
   "id": "8e11ec4c",
   "metadata": {},
   "outputs": [
    {
     "name": "stdout",
     "output_type": "stream",
     "text": [
      "据悉这次发运的台蒸汽冷凝罐属于国际热核聚变实验堆项目的核二级压力设备先后完成了压力试验真空试验氦气检漏试验千斤顶试验吊耳载荷试验叠装试验等验收试验\n"
     ]
    }
   ],
   "source": [
    "print(re.sub('[，。、a-zA-Z0-9（）]', '', string3))"
   ]
  },
  {
   "cell_type": "code",
   "execution_count": 63,
   "id": "df8fe385",
   "metadata": {},
   "outputs": [],
   "source": [
    "# 将每一部分的内容分割开\n",
    "string4 = '2室2厅 | 101.62平 | 低区/7层 | 朝南 \\n 上海未来 - 浦东 - 金杨 - 2005年建'"
   ]
  },
  {
   "cell_type": "code",
   "execution_count": 64,
   "id": "596166dd",
   "metadata": {},
   "outputs": [
    {
     "name": "stdout",
     "output_type": "stream",
     "text": [
      "['2室2厅 ', ' 101.62平 ', ' 低区/7层 ', ' 朝南 ', ' 上海未来 ', ' 浦东 ', ' 金杨 ', ' 2005年建']\n"
     ]
    }
   ],
   "source": [
    "s_s = re.split('[-\\|\\n]', string4)\n",
    "print(s_s)"
   ]
  },
  {
   "cell_type": "code",
   "execution_count": 67,
   "id": "635eeefa",
   "metadata": {},
   "outputs": [],
   "source": [
    "s_strip = [i.strip() for i in s_s]"
   ]
  },
  {
   "cell_type": "code",
   "execution_count": 68,
   "id": "851944dc",
   "metadata": {},
   "outputs": [
    {
     "name": "stdout",
     "output_type": "stream",
     "text": [
      "['2室2厅', '101.62平', '低区/7层', '朝南', '上海未来', '浦东', '金杨', '2005年建']\n"
     ]
    }
   ],
   "source": [
    "print(s_strip)"
   ]
  }
 ],
 "metadata": {
  "kernelspec": {
   "display_name": "Python 3",
   "language": "python",
   "name": "python3"
  },
  "language_info": {
   "codemirror_mode": {
    "name": "ipython",
    "version": 3
   },
   "file_extension": ".py",
   "mimetype": "text/x-python",
   "name": "python",
   "nbconvert_exporter": "python",
   "pygments_lexer": "ipython3",
   "version": "3.7.10"
  },
  "toc": {
   "base_numbering": 1,
   "nav_menu": {},
   "number_sections": true,
   "sideBar": true,
   "skip_h1_title": false,
   "title_cell": "Table of Contents",
   "title_sidebar": "Contents",
   "toc_cell": false,
   "toc_position": {},
   "toc_section_display": true,
   "toc_window_display": false
  }
 },
 "nbformat": 4,
 "nbformat_minor": 5
}
