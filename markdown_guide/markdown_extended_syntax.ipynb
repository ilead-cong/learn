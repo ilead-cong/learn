{
 "cells": [
  {
   "cell_type": "markdown",
   "id": "6e55b909",
   "metadata": {},
   "source": [
    "# extended_syntax"
   ]
  },
  {
   "cell_type": "markdown",
   "id": "e087c8f8",
   "metadata": {},
   "source": [
    "20220530\n",
    "\n",
    "https://www.markdownguide.org/extended-syntax/"
   ]
  },
  {
   "cell_type": "markdown",
   "id": "5c0e39e1",
   "metadata": {},
   "source": [
    "# tables"
   ]
  },
  {
   "cell_type": "code",
   "execution_count": null,
   "id": "bd3fa792",
   "metadata": {},
   "outputs": [],
   "source": [
    "# To add a table, use three or more hyphens (---) to create each column’s header, and use pipes (|) to separate each column. For compatibility, you should also add a pipe on either end of the row.\n",
    "'''\n",
    "| Syntax      | Description |\n",
    "| ----------- | ----------- |\n",
    "| Header      | Title       |\n",
    "| Paragraph   | Text        |\n",
    "'''"
   ]
  },
  {
   "cell_type": "markdown",
   "id": "98075ebf",
   "metadata": {},
   "source": [
    "| Syntax      | Description |\n",
    "| ----------- | ----------- |\n",
    "| Header      | Title       |\n",
    "| Paragraph   | Text        |"
   ]
  },
  {
   "cell_type": "markdown",
   "id": "3246373c",
   "metadata": {},
   "source": [
    "| Syntax | Description |\n",
    "| --- | ----------- |\n",
    "| Header | Title |\n",
    "| Paragraph | Text |"
   ]
  },
  {
   "cell_type": "markdown",
   "id": "8ecbaa95",
   "metadata": {},
   "source": [
    "## alignment"
   ]
  },
  {
   "cell_type": "code",
   "execution_count": null,
   "id": "b227ca05",
   "metadata": {},
   "outputs": [],
   "source": [
    "# You can align text in the columns to the left, right, or center by adding a colon (:) to the left, right, or on both side of the hyphens within the header row.\n",
    "'''\n",
    "| Syntax      | Description | Test Text     |\n",
    "| :---        |    :----:   |          ---: |\n",
    "| Header      | Title       | Here's this   |\n",
    "| Paragraph   | Text        | And more      |\n",
    "'''"
   ]
  },
  {
   "cell_type": "markdown",
   "id": "09163d3b",
   "metadata": {},
   "source": [
    "| Syntax      | Description | Test Text     |\n",
    "| :---        |    :----:   |          ---: |\n",
    "| Header      | Title       | Here's this   |\n",
    "| Paragraph   | Text        | And more      |"
   ]
  },
  {
   "cell_type": "markdown",
   "id": "50d9012d",
   "metadata": {},
   "source": [
    "# fenced code blocks"
   ]
  },
  {
   "cell_type": "code",
   "execution_count": null,
   "id": "2ffa528c",
   "metadata": {},
   "outputs": [],
   "source": [
    "# Depending on your Markdown processor or editor, you’ll use three backticks (```) or three tildes (~~~) on the lines before and after the code block. The best part? You don’t have to indent any lines!\n",
    "'''\n",
    "```\n",
    "{\n",
    "  \"firstName\": \"John\",\n",
    "  \"lastName\": \"Smith\",\n",
    "  \"age\": 25\n",
    "}\n",
    "```\n",
    "'''"
   ]
  },
  {
   "cell_type": "markdown",
   "id": "bcde40bc",
   "metadata": {},
   "source": [
    "```\n",
    "{\n",
    "  \"firstName\": \"John\",\n",
    "  \"lastName\": \"Smith\",\n",
    "  \"age\": 25\n",
    "}\n",
    "```"
   ]
  },
  {
   "cell_type": "markdown",
   "id": "899f4a1c",
   "metadata": {},
   "source": [
    "## Syntax Highlighting"
   ]
  },
  {
   "cell_type": "code",
   "execution_count": null,
   "id": "9b217ffa",
   "metadata": {},
   "outputs": [],
   "source": [
    "# This feature allows you to add color highlighting for whatever language your code was written in. To add syntax highlighting, specify a language next to the backticks before the fenced code block.\n",
    "'''\n",
    "```json\n",
    "{\n",
    "  \"firstName\": \"John\",\n",
    "  \"lastName\": \"Smith\",\n",
    "  \"age\": 25\n",
    "}\n",
    "```\n",
    "'''"
   ]
  },
  {
   "cell_type": "markdown",
   "id": "37068965",
   "metadata": {},
   "source": [
    "```json\n",
    "{\n",
    "  \"firstName\": \"John\",\n",
    "  \"lastName\": \"Smith\",\n",
    "  \"age\": 25\n",
    "}\n",
    "```"
   ]
  },
  {
   "cell_type": "code",
   "execution_count": null,
   "id": "2cbd87f6",
   "metadata": {},
   "outputs": [],
   "source": [
    "'''\n",
    "```python\n",
    "import numpy as np\n",
    "list_test = []\n",
    "```\n",
    "'''"
   ]
  },
  {
   "cell_type": "markdown",
   "id": "2d8b610c",
   "metadata": {},
   "source": [
    "```python\n",
    "import numpy as np\n",
    "list_test = []\n",
    "```"
   ]
  },
  {
   "cell_type": "markdown",
   "id": "ffbf1624",
   "metadata": {},
   "source": [
    "# strikethrough"
   ]
  },
  {
   "cell_type": "code",
   "execution_count": null,
   "id": "0013ceb9",
   "metadata": {},
   "outputs": [],
   "source": [
    "# You can strikethrough words by putting a horizontal line through the center of them. The result looks like this. This feature allows you to indicate that certain words are a mistake not meant for inclusion in the document. To strikethrough words, use two tilde symbols (~~) before and after the words.\n",
    "'''\n",
    "~~The world is flat.~~ We now know that the world is round.\n",
    "'''"
   ]
  },
  {
   "cell_type": "markdown",
   "id": "c45fb3f7",
   "metadata": {},
   "source": [
    "~~The world is flat.~~ We now know that the world is round."
   ]
  },
  {
   "cell_type": "markdown",
   "id": "3a80e87f",
   "metadata": {},
   "source": [
    "# task lists"
   ]
  },
  {
   "cell_type": "code",
   "execution_count": null,
   "id": "d92b4a37",
   "metadata": {},
   "outputs": [],
   "source": [
    "# Task lists (also referred to as checklists and todo lists) allow you to create a list of items with checkboxes. In Markdown applications that support task lists, checkboxes will be displayed next to the content. To create a task list, add dashes (-) and brackets with a space ([ ]) in front of task list items. To select a checkbox, add an x in between the brackets ([x]).\n",
    "'''\n",
    "- [x] Write the press release\n",
    "- [ ] Update the website\n",
    "- [ ] Contact the media\n",
    "'''"
   ]
  },
  {
   "cell_type": "markdown",
   "id": "0baf5116",
   "metadata": {},
   "source": [
    "- [x] Write the press release\n",
    "- [ ] Update the website\n",
    "- [ ] Contact the media"
   ]
  },
  {
   "cell_type": "markdown",
   "id": "f48f627f",
   "metadata": {},
   "source": [
    "# emoji\n",
    "\n",
    "https://gist.github.com/rxaviers/7360908"
   ]
  },
  {
   "cell_type": "code",
   "execution_count": 2,
   "id": "287494f7",
   "metadata": {},
   "outputs": [
    {
     "data": {
      "text/plain": [
       "'\\nGone camping! :tent: Be back soon.\\n\\nThat is so funny! :joy:\\n'"
      ]
     },
     "execution_count": 2,
     "metadata": {},
     "output_type": "execute_result"
    }
   ],
   "source": [
    "# Some Markdown applications allow you to insert emoji by typing emoji shortcodes. These begin and end with a colon and include the name of an emoji.\n",
    "'''\n",
    "Gone camping! :tent: Be back soon.\n",
    "\n",
    "That is so funny! :joy:\n",
    "'''"
   ]
  },
  {
   "cell_type": "markdown",
   "id": "7ea6f7e0",
   "metadata": {},
   "source": [
    "Gone camping! :tent: Be back soon.\n",
    "\n",
    "That is so funny! :joy:"
   ]
  },
  {
   "cell_type": "markdown",
   "id": "6075531e",
   "metadata": {},
   "source": [
    "# highlight"
   ]
  },
  {
   "cell_type": "code",
   "execution_count": null,
   "id": "17ca0ac3",
   "metadata": {},
   "outputs": [],
   "source": [
    "# This isn’t common, but some Markdown processors allow you to highlight text. The result looks like this. To highlight words, use two equal signs (==) before and after the words.\n",
    "'''\n",
    "I need to highlight these ==very important words==.\n",
    "'''"
   ]
  },
  {
   "cell_type": "markdown",
   "id": "14cd3e87",
   "metadata": {},
   "source": [
    "I need to highlight these ==very important words==."
   ]
  },
  {
   "cell_type": "code",
   "execution_count": null,
   "id": "df5a039f",
   "metadata": {},
   "outputs": [],
   "source": [
    "'''\n",
    "I need to highlight these <mark>very important words</mark>.\n",
    "'''"
   ]
  },
  {
   "cell_type": "markdown",
   "id": "7f876f52",
   "metadata": {},
   "source": [
    "I need to highlight these <mark>very important words</mark>."
   ]
  },
  {
   "cell_type": "markdown",
   "id": "b68e75c9",
   "metadata": {},
   "source": [
    "# subscript"
   ]
  },
  {
   "cell_type": "code",
   "execution_count": null,
   "id": "b2b04142",
   "metadata": {},
   "outputs": [],
   "source": [
    "# This isn’t common, but some Markdown processors allow you to use subscript to position one or more characters slightly below the normal line of type. To create a subscript, use one tilde symbol (~) before and after the characters.\n",
    "'''\n",
    "H~2~O\n",
    "'''"
   ]
  },
  {
   "cell_type": "markdown",
   "id": "1af13ad0",
   "metadata": {},
   "source": [
    "H~2~O"
   ]
  },
  {
   "cell_type": "code",
   "execution_count": null,
   "id": "3ff22e86",
   "metadata": {},
   "outputs": [],
   "source": [
    "'''\n",
    "H<sub>2</sub>O\n",
    "'''"
   ]
  },
  {
   "cell_type": "markdown",
   "id": "b412c436",
   "metadata": {},
   "source": [
    "H<sub>2</sub>O"
   ]
  },
  {
   "cell_type": "markdown",
   "id": "84517e45",
   "metadata": {},
   "source": [
    "# superscript"
   ]
  },
  {
   "cell_type": "code",
   "execution_count": null,
   "id": "f122ab6a",
   "metadata": {},
   "outputs": [],
   "source": [
    "# This isn’t common, but some Markdown processors allow you to use superscript to position one or more characters slightly above the normal line of type. To create a superscript, use one caret symbol (^) before and after the characters.\n",
    "'''\n",
    "X^2^\n",
    "'''"
   ]
  },
  {
   "cell_type": "markdown",
   "id": "e4375e02",
   "metadata": {},
   "source": [
    "X^2^"
   ]
  },
  {
   "cell_type": "code",
   "execution_count": null,
   "id": "ca7b42d9",
   "metadata": {},
   "outputs": [],
   "source": [
    "'''\n",
    "X<sup>2</sup>\n",
    "'''"
   ]
  },
  {
   "cell_type": "markdown",
   "id": "a6d86604",
   "metadata": {},
   "source": [
    "X<sup>2</sup>"
   ]
  },
  {
   "cell_type": "markdown",
   "id": "4195d1b1",
   "metadata": {},
   "source": [
    "# Automatic URL Linking"
   ]
  },
  {
   "cell_type": "code",
   "execution_count": null,
   "id": "6e4a7dd4",
   "metadata": {},
   "outputs": [],
   "source": [
    "'''\n",
    "http://www.example.com\n",
    "'''"
   ]
  },
  {
   "cell_type": "markdown",
   "id": "75e68198",
   "metadata": {},
   "source": [
    "http://www.example.com"
   ]
  },
  {
   "cell_type": "markdown",
   "id": "50204f25",
   "metadata": {},
   "source": [
    "## Disabling Automatic URL Linking"
   ]
  },
  {
   "cell_type": "code",
   "execution_count": null,
   "id": "d037904d",
   "metadata": {},
   "outputs": [],
   "source": [
    "'''\n",
    "`http://www.example.com`\n",
    "'''"
   ]
  },
  {
   "cell_type": "markdown",
   "id": "f4af6441",
   "metadata": {},
   "source": [
    "`http://www.example.com`"
   ]
  }
 ],
 "metadata": {
  "kernelspec": {
   "display_name": "Python 3 (ipykernel)",
   "language": "python",
   "name": "python3"
  },
  "language_info": {
   "codemirror_mode": {
    "name": "ipython",
    "version": 3
   },
   "file_extension": ".py",
   "mimetype": "text/x-python",
   "name": "python",
   "nbconvert_exporter": "python",
   "pygments_lexer": "ipython3",
   "version": "3.7.12"
  },
  "toc": {
   "base_numbering": 1,
   "nav_menu": {},
   "number_sections": true,
   "sideBar": true,
   "skip_h1_title": false,
   "title_cell": "Table of Contents",
   "title_sidebar": "Contents",
   "toc_cell": false,
   "toc_position": {},
   "toc_section_display": true,
   "toc_window_display": false
  }
 },
 "nbformat": 4,
 "nbformat_minor": 5
}
