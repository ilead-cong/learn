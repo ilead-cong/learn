{
 "cells": [
  {
   "cell_type": "markdown",
   "id": "3514faa0",
   "metadata": {},
   "source": [
    "# markdown\n",
    "\n",
    "20220527  \n",
    "https://www.markdownguide.org/basic-syntax/"
   ]
  },
  {
   "cell_type": "markdown",
   "id": "bc0ff11c",
   "metadata": {},
   "source": [
    "# headings"
   ]
  },
  {
   "cell_type": "markdown",
   "id": "50f9a1a8",
   "metadata": {},
   "source": [
    "# heading\n",
    "level 1"
   ]
  },
  {
   "cell_type": "markdown",
   "id": "19b0c13f",
   "metadata": {},
   "source": [
    "## heading\n",
    "level2"
   ]
  },
  {
   "cell_type": "markdown",
   "id": "b912de9a",
   "metadata": {},
   "source": [
    "### heading\n",
    "level3"
   ]
  },
  {
   "cell_type": "markdown",
   "id": "9354a80b",
   "metadata": {},
   "source": [
    "## alternate syntax"
   ]
  },
  {
   "cell_type": "markdown",
   "id": "8f9bb330",
   "metadata": {},
   "source": [
    "heading level 1\n",
    "============"
   ]
  },
  {
   "cell_type": "markdown",
   "id": "0afb7081",
   "metadata": {},
   "source": [
    "heading level 2\n",
    "--------------------------"
   ]
  },
  {
   "cell_type": "markdown",
   "id": "beaea946",
   "metadata": {},
   "source": [
    "#you should put blank lines before and after a heading for compatibility"
   ]
  },
  {
   "cell_type": "markdown",
   "id": "cf377dd3",
   "metadata": {},
   "source": [
    "try to put a blank line before ...\n",
    "\n",
    "# heading\n",
    "\n",
    "...and after a heading"
   ]
  },
  {
   "cell_type": "markdown",
   "id": "b48e00d5",
   "metadata": {},
   "source": [
    "## paragraphs"
   ]
  },
  {
   "cell_type": "markdown",
   "id": "97ad4ccb",
   "metadata": {},
   "source": [
    "#to create paragraphs, use a blank line to separate one or more lines of text\n",
    "\n",
    "#unless the paragraph is in a list, do not indent paragraphs with spaces or tabs"
   ]
  },
  {
   "cell_type": "markdown",
   "id": "4c37c78b",
   "metadata": {},
   "source": [
    "i really like using markdown\n",
    "\n",
    "i think i will use it format all of my documents from now on"
   ]
  },
  {
   "cell_type": "markdown",
   "id": "c5bb58b0",
   "metadata": {},
   "source": [
    "## line breaks"
   ]
  },
  {
   "cell_type": "markdown",
   "id": "2819cd1c",
   "metadata": {},
   "source": [
    "#to create a line break or new line, end a line with two or more spaces, and then type return"
   ]
  },
  {
   "cell_type": "markdown",
   "id": "c16ed032",
   "metadata": {},
   "source": [
    "this is the first line.  \n",
    "and this in the second line."
   ]
  },
  {
   "cell_type": "markdown",
   "id": "9015f980",
   "metadata": {},
   "source": [
    "# emphasis"
   ]
  },
  {
   "cell_type": "markdown",
   "id": "42ce74e8",
   "metadata": {},
   "source": [
    "## bold"
   ]
  },
  {
   "cell_type": "markdown",
   "id": "69312944",
   "metadata": {},
   "source": [
    "i just love **bold text**. \n",
    "\n",
    "i just love __bold text__.  \n",
    "\n",
    "love**is**bold   "
   ]
  },
  {
   "cell_type": "markdown",
   "id": "74a201f6",
   "metadata": {},
   "source": [
    "i just love **bold text**. \n",
    "\n",
    "i just love __bold text__.  \n",
    "\n",
    "love**is**bold  "
   ]
  },
  {
   "cell_type": "markdown",
   "id": "534d2b0d",
   "metadata": {},
   "source": [
    "## italic"
   ]
  },
  {
   "cell_type": "markdown",
   "id": "7aed4901",
   "metadata": {},
   "source": [
    "italicized text is the *cat's meow*.\n",
    "\n",
    "italicized text is the _cat's meow_.\n",
    "\n",
    "a*cat*meow"
   ]
  },
  {
   "cell_type": "markdown",
   "id": "2ea881d6",
   "metadata": {},
   "source": [
    "italicized text is the *cat's meow*.\n",
    "\n",
    "italicized text is the _cat's meow_.\n",
    "\n",
    "a*cat*meow"
   ]
  },
  {
   "cell_type": "markdown",
   "id": "d74630c2",
   "metadata": {},
   "source": [
    "## blod and italic"
   ]
  },
  {
   "cell_type": "markdown",
   "id": "dbf5c62e",
   "metadata": {},
   "source": [
    "this text is ***really important***.\n",
    "\n",
    "this text is ___really important___.\n",
    "\n",
    "this text is __*really important*__.\n",
    "\n",
    "this text is **_really important_**.\n",
    "\n",
    "this is really***very***important text."
   ]
  },
  {
   "cell_type": "markdown",
   "id": "cda8e3c1",
   "metadata": {},
   "source": [
    "this text is ***really important***.\n",
    "\n",
    "this text is ___really important___.\n",
    "\n",
    "this text is __*really important*__.\n",
    "\n",
    "this text is **_really important_**.\n",
    "\n",
    "this is really***very***important text."
   ]
  },
  {
   "cell_type": "markdown",
   "id": "97fcd3d7",
   "metadata": {},
   "source": [
    "## blockquotes\n",
    "#to create a blockquote, add a > in front of a paragraph"
   ]
  },
  {
   "cell_type": "markdown",
   "id": "268470bc",
   "metadata": {},
   "source": [
    "> Dorothy followed her through many of the beautiful rooms in her castle."
   ]
  },
  {
   "cell_type": "markdown",
   "id": "dcd24fe6",
   "metadata": {},
   "source": [
    "> Dorothy followed her through many of the beautiful rooms in her castle."
   ]
  },
  {
   "cell_type": "code",
   "execution_count": null,
   "id": "16366a7a",
   "metadata": {},
   "outputs": [],
   "source": []
  }
 ],
 "metadata": {
  "kernelspec": {
   "display_name": "Python 3 (ipykernel)",
   "language": "python",
   "name": "python3"
  },
  "language_info": {
   "codemirror_mode": {
    "name": "ipython",
    "version": 3
   },
   "file_extension": ".py",
   "mimetype": "text/x-python",
   "name": "python",
   "nbconvert_exporter": "python",
   "pygments_lexer": "ipython3",
   "version": "3.7.12"
  },
  "toc": {
   "base_numbering": 1,
   "nav_menu": {},
   "number_sections": true,
   "sideBar": true,
   "skip_h1_title": false,
   "title_cell": "Table of Contents",
   "title_sidebar": "Contents",
   "toc_cell": false,
   "toc_position": {},
   "toc_section_display": true,
   "toc_window_display": false
  }
 },
 "nbformat": 4,
 "nbformat_minor": 5
}
