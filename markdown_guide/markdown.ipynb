{
 "cells": [
  {
   "cell_type": "markdown",
   "id": "3514faa0",
   "metadata": {},
   "source": [
    "# markdown\n",
    "\n",
    "20220527  \n",
    "https://www.markdownguide.org/basic-syntax/"
   ]
  },
  {
   "cell_type": "markdown",
   "id": "bc0ff11c",
   "metadata": {},
   "source": [
    "# headings"
   ]
  },
  {
   "cell_type": "code",
   "execution_count": null,
   "id": "3053b3d5",
   "metadata": {},
   "outputs": [],
   "source": [
    "'''\n",
    "# heading\n",
    "level 1\n",
    "'''"
   ]
  },
  {
   "cell_type": "code",
   "execution_count": null,
   "id": "f43b5aff",
   "metadata": {},
   "outputs": [],
   "source": [
    "'''\n",
    "## heading\n",
    "level2\n",
    "'''"
   ]
  },
  {
   "cell_type": "code",
   "execution_count": null,
   "id": "6728788e",
   "metadata": {},
   "outputs": [],
   "source": [
    "'''\n",
    "### heading\n",
    "level3\n",
    "'''"
   ]
  },
  {
   "cell_type": "markdown",
   "id": "9354a80b",
   "metadata": {},
   "source": [
    "## alternate syntax"
   ]
  },
  {
   "cell_type": "code",
   "execution_count": null,
   "id": "e8cf9a36",
   "metadata": {},
   "outputs": [],
   "source": [
    "'''\n",
    "heading level 1\n",
    "============\n",
    "'''"
   ]
  },
  {
   "cell_type": "code",
   "execution_count": null,
   "id": "c7162e6d",
   "metadata": {},
   "outputs": [],
   "source": [
    "'''\n",
    "heading level 2\n",
    "--------------------------\n",
    "'''"
   ]
  },
  {
   "cell_type": "markdown",
   "id": "beaea946",
   "metadata": {},
   "source": [
    "#you should put blank lines before and after a heading for compatibility"
   ]
  },
  {
   "cell_type": "code",
   "execution_count": null,
   "id": "5a1e72eb",
   "metadata": {},
   "outputs": [],
   "source": [
    "'''\n",
    "try to put a blank line before ...\n",
    "\n",
    "# heading\n",
    "\n",
    "...and after a heading\n",
    "'''"
   ]
  },
  {
   "cell_type": "markdown",
   "id": "b48e00d5",
   "metadata": {},
   "source": [
    "## paragraphs"
   ]
  },
  {
   "cell_type": "markdown",
   "id": "97ad4ccb",
   "metadata": {},
   "source": [
    "#to create paragraphs, use a blank line to separate one or more lines of text\n",
    "\n",
    "#unless the paragraph is in a list, do not indent paragraphs with spaces or tabs"
   ]
  },
  {
   "cell_type": "markdown",
   "id": "4c37c78b",
   "metadata": {},
   "source": [
    "i really like using markdown\n",
    "\n",
    "i think i will use it format all of my documents from now on"
   ]
  },
  {
   "cell_type": "markdown",
   "id": "c5bb58b0",
   "metadata": {},
   "source": [
    "## line breaks"
   ]
  },
  {
   "cell_type": "markdown",
   "id": "2819cd1c",
   "metadata": {},
   "source": [
    "#to create a line break or new line, end a line with two or more spaces, and then type return"
   ]
  },
  {
   "cell_type": "markdown",
   "id": "c16ed032",
   "metadata": {},
   "source": [
    "this is the first line.  \n",
    "and this in the second line."
   ]
  },
  {
   "cell_type": "markdown",
   "id": "9015f980",
   "metadata": {},
   "source": [
    "# emphasis"
   ]
  },
  {
   "cell_type": "markdown",
   "id": "42ce74e8",
   "metadata": {},
   "source": [
    "## bold"
   ]
  },
  {
   "cell_type": "code",
   "execution_count": null,
   "id": "e5792f42",
   "metadata": {},
   "outputs": [],
   "source": [
    "'''\n",
    "i just love **bold text**. \n",
    "\n",
    "i just love __bold text__.  \n",
    "\n",
    "love**is**bold   \n",
    "'''"
   ]
  },
  {
   "cell_type": "markdown",
   "id": "74a201f6",
   "metadata": {},
   "source": [
    "i just love **bold text**. \n",
    "\n",
    "i just love __bold text__.  \n",
    "\n",
    "love**is**bold  "
   ]
  },
  {
   "cell_type": "markdown",
   "id": "534d2b0d",
   "metadata": {},
   "source": [
    "## italic"
   ]
  },
  {
   "cell_type": "code",
   "execution_count": null,
   "id": "5761da4f",
   "metadata": {},
   "outputs": [],
   "source": [
    "'''\n",
    "italicized text is the *cat's meow*.\n",
    "\n",
    "italicized text is the _cat's meow_.\n",
    "\n",
    "a*cat*meow\n",
    "'''"
   ]
  },
  {
   "cell_type": "markdown",
   "id": "2ea881d6",
   "metadata": {},
   "source": [
    "italicized text is the *cat's meow*.\n",
    "\n",
    "italicized text is the _cat's meow_.\n",
    "\n",
    "a*cat*meow"
   ]
  },
  {
   "cell_type": "markdown",
   "id": "d74630c2",
   "metadata": {},
   "source": [
    "## blod and italic"
   ]
  },
  {
   "cell_type": "code",
   "execution_count": null,
   "id": "4c9b495c",
   "metadata": {},
   "outputs": [],
   "source": [
    "'''\n",
    "this text is ***really important***.\n",
    "\n",
    "this text is ___really important___.\n",
    "\n",
    "this text is __*really important*__.\n",
    "\n",
    "this text is **_really important_**.\n",
    "\n",
    "this is really***very***important text.\n",
    "'''"
   ]
  },
  {
   "cell_type": "markdown",
   "id": "cda8e3c1",
   "metadata": {},
   "source": [
    "this text is ***really important***.\n",
    "\n",
    "this text is ___really important___.\n",
    "\n",
    "this text is __*really important*__.\n",
    "\n",
    "this text is **_really important_**.\n",
    "\n",
    "this is really***very***important text."
   ]
  },
  {
   "cell_type": "markdown",
   "id": "97fcd3d7",
   "metadata": {},
   "source": [
    "## blockquotes\n",
    "#to create a blockquote, add a > in front of a paragraph"
   ]
  },
  {
   "cell_type": "code",
   "execution_count": null,
   "id": "53cf1183",
   "metadata": {},
   "outputs": [],
   "source": [
    "'''\n",
    "> Dorothy followed her through many of the beautiful rooms in her castle.\n",
    "'''"
   ]
  },
  {
   "cell_type": "markdown",
   "id": "dcd24fe6",
   "metadata": {},
   "source": [
    "> Dorothy followed her through many of the beautiful rooms in her castle."
   ]
  },
  {
   "cell_type": "markdown",
   "id": "0bbf8cc2",
   "metadata": {},
   "source": [
    "## Blockquotes with Multiple Paragraphs"
   ]
  },
  {
   "cell_type": "code",
   "execution_count": null,
   "id": "317e05db",
   "metadata": {},
   "outputs": [],
   "source": [
    "# Blockquotes can contain multiple paragraphs. Add a > on the blank lines between the paragraphs.\n",
    "'''\n",
    "> Dorothy followed her through many of the beautiful rooms in her castle.\n",
    ">\n",
    "> The Witch bade her clean the pots and kettles and sweep the floor and keep the fire fed with wood.\n",
    "'''"
   ]
  },
  {
   "cell_type": "markdown",
   "id": "1e4a9baf",
   "metadata": {},
   "source": [
    "> Dorothy followed her through many of the beautiful rooms in her castle.\n",
    ">\n",
    "> The Witch bade her clean the pots and kettles and sweep the floor and keep the fire fed with wood."
   ]
  },
  {
   "cell_type": "markdown",
   "id": "fe1ead62",
   "metadata": {},
   "source": [
    "## Nested Blockquotes"
   ]
  },
  {
   "cell_type": "code",
   "execution_count": null,
   "id": "91da2957",
   "metadata": {},
   "outputs": [],
   "source": [
    "#Blockquotes can be nested. Add a >> in front of the paragraph you want to nest.\n",
    "'''\n",
    "> Dorothy followed her through many of the beautiful rooms in her castle.\n",
    ">\n",
    ">> The Witch bade her clean the pots and kettles and sweep the floor and keep the fire fed with wood.\n",
    "'''"
   ]
  },
  {
   "cell_type": "markdown",
   "id": "eb28531b",
   "metadata": {},
   "source": [
    "> Dorothy followed her through many of the beautiful rooms in her castle.\n",
    ">\n",
    ">> The Witch bade her clean the pots and kettles and sweep the floor and keep the fire fed with wood.\n"
   ]
  },
  {
   "cell_type": "markdown",
   "id": "2bc0d6e3",
   "metadata": {},
   "source": [
    "## Blockquotes with Other Elements"
   ]
  },
  {
   "cell_type": "code",
   "execution_count": null,
   "id": "4ebdf9ed",
   "metadata": {},
   "outputs": [],
   "source": [
    "'''\n",
    "> #### The quarterly results look great!\n",
    ">\n",
    "> - Revenue was off the chart.\n",
    "> - Profits were higher than ever.\n",
    ">\n",
    ">  *Everything* is going according to **plan**.\n",
    "'''"
   ]
  },
  {
   "cell_type": "markdown",
   "id": "cf422c75",
   "metadata": {},
   "source": [
    "> #### The quarterly results look great!\n",
    ">\n",
    "> - Revenue was off the chart.\n",
    "> - Profits were higher than ever.\n",
    ">\n",
    ">  *Everything* is going according to **plan**."
   ]
  },
  {
   "cell_type": "markdown",
   "id": "8374272c",
   "metadata": {},
   "source": [
    "# lists"
   ]
  },
  {
   "cell_type": "markdown",
   "id": "4140ab5e",
   "metadata": {},
   "source": [
    "## ordered lists"
   ]
  },
  {
   "cell_type": "code",
   "execution_count": null,
   "id": "3ad7b5b2",
   "metadata": {},
   "outputs": [],
   "source": [
    "# To create an ordered list, add line items with numbers followed by periods. The numbers don’t have to be in numerical order, but the list should start with the number one.\n",
    "'''\n",
    "1. First item\n",
    "2. Second item\n",
    "3. Third item\n",
    "4. Fourth item\n",
    "'''"
   ]
  },
  {
   "cell_type": "markdown",
   "id": "5baee59c",
   "metadata": {},
   "source": [
    "1. First item\n",
    "2. Second item\n",
    "3. Third item\n",
    "4. Fourth item"
   ]
  },
  {
   "cell_type": "code",
   "execution_count": 4,
   "id": "f76b6372",
   "metadata": {},
   "outputs": [
    {
     "data": {
      "text/plain": [
       "'\\n1. First item\\n8. Second item\\n3. Third item\\n5. Fourth item\\n'"
      ]
     },
     "execution_count": 4,
     "metadata": {},
     "output_type": "execute_result"
    }
   ],
   "source": [
    "'''\n",
    "1. First item\n",
    "8. Second item\n",
    "3. Third item\n",
    "5. Fourth item\n",
    "'''"
   ]
  },
  {
   "cell_type": "markdown",
   "id": "15bb5b5f",
   "metadata": {},
   "source": [
    "1. First item\n",
    "8. Second item\n",
    "3. Third item\n",
    "5. Fourth item"
   ]
  },
  {
   "cell_type": "code",
   "execution_count": null,
   "id": "dc2aebe3",
   "metadata": {},
   "outputs": [],
   "source": [
    "'''\n",
    "1. First item\n",
    "2. Second item\n",
    "3. Third item\n",
    "    1. Indented item\n",
    "    2. Indented item\n",
    "4. Fourth item\n",
    "\n",
    "'''"
   ]
  },
  {
   "cell_type": "markdown",
   "id": "f987f351",
   "metadata": {},
   "source": [
    "1. First item\n",
    "2. Second item\n",
    "3. Third item\n",
    "    1. Indented item\n",
    "    2. Indented item\n",
    "4. Fourth item"
   ]
  },
  {
   "cell_type": "markdown",
   "id": "c281283b",
   "metadata": {},
   "source": [
    "## unordered lists"
   ]
  },
  {
   "cell_type": "code",
   "execution_count": null,
   "id": "ecbd36cc",
   "metadata": {},
   "outputs": [],
   "source": [
    "#To create an unordered list, add dashes (-), asterisks (*), or plus signs (+) in front of line items. Indent one or more items to create a nested list.\n",
    "'''\n",
    "- First item\n",
    "- Second item\n",
    "- Third item\n",
    "- Fourth item\n",
    "'''"
   ]
  },
  {
   "cell_type": "markdown",
   "id": "9e28f8cd",
   "metadata": {},
   "source": [
    "- First item\n",
    "- Second item\n",
    "- Third item\n",
    "- Fourth item"
   ]
  },
  {
   "cell_type": "code",
   "execution_count": 6,
   "id": "93befb75",
   "metadata": {},
   "outputs": [
    {
     "data": {
      "text/plain": [
       "'\\n- First item\\n- Second item\\n- Third item\\n    - Indented item\\n    - Indented item\\n- Fourth item\\n'"
      ]
     },
     "execution_count": 6,
     "metadata": {},
     "output_type": "execute_result"
    }
   ],
   "source": [
    "'''\n",
    "- First item\n",
    "- Second item\n",
    "- Third item\n",
    "    - Indented item\n",
    "    - Indented item\n",
    "- Fourth item\n",
    "'''"
   ]
  },
  {
   "cell_type": "markdown",
   "id": "8b6064fb",
   "metadata": {},
   "source": [
    "- First item\n",
    "- Second item\n",
    "- Third item\n",
    "    - Indented item\n",
    "    - Indented item\n",
    "- Fourth item"
   ]
  },
  {
   "cell_type": "markdown",
   "id": "ba4b9eea",
   "metadata": {},
   "source": [
    "## Starting Unordered List Items With Numbers"
   ]
  },
  {
   "cell_type": "code",
   "execution_count": 7,
   "id": "ea1ccae5",
   "metadata": {},
   "outputs": [
    {
     "data": {
      "text/plain": [
       "'\\n- 1968\\\\. A great year!\\n- I think 1969 was second best.\\n'"
      ]
     },
     "execution_count": 7,
     "metadata": {},
     "output_type": "execute_result"
    }
   ],
   "source": [
    "# If you need to start an unordered list item with a number followed by a period, you can use a backslash (\\) to escape the period.\n",
    "'''\n",
    "- 1968\\. A great year!\n",
    "- I think 1969 was second best.\n",
    "'''"
   ]
  },
  {
   "cell_type": "markdown",
   "id": "b73fb017",
   "metadata": {},
   "source": [
    "- 1968\\. A great year!\n",
    "- I think 1969 was second best."
   ]
  },
  {
   "cell_type": "markdown",
   "id": "9610a33a",
   "metadata": {},
   "source": [
    "## Adding Elements in Lists\n",
    "\n",
    "To add another element in a list while preserving the continuity of the list, indent the element four spaces or one tab, as shown in the following examples."
   ]
  },
  {
   "cell_type": "markdown",
   "id": "6db45365",
   "metadata": {},
   "source": [
    "### Paragraphs"
   ]
  },
  {
   "cell_type": "code",
   "execution_count": null,
   "id": "724faa0c",
   "metadata": {},
   "outputs": [],
   "source": [
    "'''\n",
    "* This is the first list item.\n",
    "* Here's the second list item.\n",
    "\n",
    "    I need to add another paragraph below the second list item.\n",
    "\n",
    "* And here's the third list item.\n",
    "'''"
   ]
  },
  {
   "cell_type": "markdown",
   "id": "a22a600e",
   "metadata": {},
   "source": [
    "* This is the first list item.\n",
    "* Here's the second list item.\n",
    "\n",
    "    I need to add another paragraph below the second list item.\n",
    "\n",
    "* And here's the third list item."
   ]
  },
  {
   "cell_type": "markdown",
   "id": "86b654ec",
   "metadata": {},
   "source": [
    "### Blockquotes"
   ]
  },
  {
   "cell_type": "code",
   "execution_count": null,
   "id": "95aa56a7",
   "metadata": {},
   "outputs": [],
   "source": [
    "'''\n",
    "* This is the first list item.\n",
    "* Here's the second list item.\n",
    "\n",
    "    > A blockquote would look great below the second list item.\n",
    "\n",
    "* And here's the third list item.\n",
    "'''"
   ]
  },
  {
   "cell_type": "markdown",
   "id": "b0cab7ec",
   "metadata": {},
   "source": [
    "* This is the first list item.\n",
    "* Here's the second list item.\n",
    "\n",
    "    > A blockquote would look great below the second list item.\n",
    "\n",
    "* And here's the third list item."
   ]
  },
  {
   "cell_type": "markdown",
   "id": "5ae31a84",
   "metadata": {},
   "source": [
    "### Code Blocks"
   ]
  },
  {
   "cell_type": "code",
   "execution_count": null,
   "id": "1de17554",
   "metadata": {},
   "outputs": [],
   "source": [
    "# Code blocks are normally indented four spaces or one tab. When they’re in a list, indent them eight spaces or two tabs.\n",
    "'''\n",
    "1. Open the file.\n",
    "2. Find the following code block on line 21:\n",
    "\n",
    "        <html>\n",
    "          <head>\n",
    "            <title>Test</title>\n",
    "          </head>\n",
    "\n",
    "3. Update the title to match the name of your website.\n",
    "'''"
   ]
  },
  {
   "cell_type": "markdown",
   "id": "6551c62c",
   "metadata": {},
   "source": [
    "1. Open the file.\n",
    "2. Find the following code block on line 21:\n",
    "\n",
    "        <html>\n",
    "          <head>\n",
    "            <title>Test</title>\n",
    "          </head>\n",
    "\n",
    "3. Update the title to match the name of your website."
   ]
  },
  {
   "cell_type": "markdown",
   "id": "8bfd54c3",
   "metadata": {},
   "source": [
    "### Images"
   ]
  },
  {
   "cell_type": "code",
   "execution_count": null,
   "id": "0b089661",
   "metadata": {},
   "outputs": [],
   "source": [
    "'''\n",
    "1. Open the file containing the Linux mascot.\n",
    "2. Marvel at its beauty.\n",
    "\n",
    "    ![Tux, the Linux mascot](/assets/images/tux.png)\n",
    "\n",
    "3. Close the file.\n",
    "'''"
   ]
  },
  {
   "cell_type": "markdown",
   "id": "ff6de8a2",
   "metadata": {},
   "source": [
    "1. Open the file containing the Linux mascot.\n",
    "2. Marvel at its beauty.\n",
    "\n",
    "    ![Tux, the Linux mascot](/assets/images/tux.png)\n",
    "\n",
    "3. Close the file."
   ]
  },
  {
   "cell_type": "markdown",
   "id": "431e3228",
   "metadata": {},
   "source": [
    "### Lists"
   ]
  },
  {
   "cell_type": "code",
   "execution_count": null,
   "id": "85bc58ed",
   "metadata": {},
   "outputs": [],
   "source": [
    "'''\n",
    "1. First item\n",
    "2. Second item\n",
    "3. Third item\n",
    "    - Indented item\n",
    "    - Indented item\n",
    "4. Fourth item\n",
    "'''"
   ]
  },
  {
   "cell_type": "markdown",
   "id": "eabe38e5",
   "metadata": {},
   "source": [
    "1. First item\n",
    "2. Second item\n",
    "3. Third item\n",
    "    - Indented item\n",
    "    - Indented item\n",
    "4. Fourth item"
   ]
  },
  {
   "cell_type": "markdown",
   "id": "b612b8a3",
   "metadata": {},
   "source": [
    "# code"
   ]
  },
  {
   "cell_type": "code",
   "execution_count": null,
   "id": "351d5bd4",
   "metadata": {},
   "outputs": [],
   "source": [
    "# To denote a word or phrase as code, enclose it in backticks (`).\n",
    "'''\n",
    "At the command prompt, type `nano`.\n",
    "'''"
   ]
  },
  {
   "cell_type": "markdown",
   "id": "a42952c6",
   "metadata": {},
   "source": [
    "At the command prompt, type `python`."
   ]
  },
  {
   "cell_type": "markdown",
   "id": "c562a81b",
   "metadata": {},
   "source": [
    "## Escaping Backticks"
   ]
  },
  {
   "cell_type": "code",
   "execution_count": null,
   "id": "4709bac1",
   "metadata": {},
   "outputs": [],
   "source": [
    "# If the word or phrase you want to denote as code includes one or more backticks, you can escape it by enclosing the word or phrase in double backticks (``).\n",
    "'''\n",
    "``Use `code` in your Markdown file.``\n",
    "'''"
   ]
  },
  {
   "cell_type": "markdown",
   "id": "749d17e6",
   "metadata": {},
   "source": [
    "``Use `code` in your Markdown file.``"
   ]
  },
  {
   "cell_type": "markdown",
   "id": "21d79fec",
   "metadata": {},
   "source": [
    "## Code Blocks"
   ]
  },
  {
   "cell_type": "code",
   "execution_count": null,
   "id": "a6b0404b",
   "metadata": {},
   "outputs": [],
   "source": [
    "#To create code blocks, indent every line of the block by at least four spaces or one tab\n",
    "'''\n",
    "    <html>\n",
    "      <head>\n",
    "      </head>\n",
    "    </html>\n",
    "'''"
   ]
  },
  {
   "cell_type": "markdown",
   "id": "c88de11b",
   "metadata": {},
   "source": [
    "    <html>\n",
    "      <head>\n",
    "      </head>\n",
    "    </html>"
   ]
  },
  {
   "cell_type": "markdown",
   "id": "0be34188",
   "metadata": {},
   "source": [
    "## Horizontal Rules"
   ]
  },
  {
   "cell_type": "code",
   "execution_count": null,
   "id": "fa83b124",
   "metadata": {},
   "outputs": [],
   "source": [
    "# To create a horizontal rule, use three or more asterisks (***), dashes (---), or underscores (___) on a line by themselves.\n",
    "'''\n",
    "***\n",
    "\n",
    "---\n",
    "\n",
    "_________________\n",
    "'''"
   ]
  },
  {
   "cell_type": "markdown",
   "id": "e3e89530",
   "metadata": {},
   "source": [
    "***\n",
    "\n",
    "---\n",
    "\n",
    "_________________"
   ]
  },
  {
   "cell_type": "markdown",
   "id": "f27ce270",
   "metadata": {},
   "source": [
    "# Links"
   ]
  },
  {
   "cell_type": "code",
   "execution_count": null,
   "id": "cb8e0047",
   "metadata": {},
   "outputs": [],
   "source": [
    "# To create a link, enclose the link text in brackets (e.g., [Duck Duck Go]) and then follow it immediately with the URL in parentheses (e.g., (https://duckduckgo.com)).\n",
    "'''\n",
    "My favorite search engine is [Duck Duck Go](https://duckduckgo.com).\n",
    "'''"
   ]
  },
  {
   "cell_type": "markdown",
   "id": "58b93b29",
   "metadata": {},
   "source": [
    "My favorite search engine is [Duck Duck Go](https://duckduckgo.com)."
   ]
  },
  {
   "cell_type": "markdown",
   "id": "733fd778",
   "metadata": {},
   "source": [
    "## Adding Titles"
   ]
  },
  {
   "cell_type": "code",
   "execution_count": null,
   "id": "ef2a3f36",
   "metadata": {},
   "outputs": [],
   "source": [
    "# You can optionally add a title for a link. This will appear as a tooltip when the user hovers over the link. To add a title, enclose it in quotation marks after the URL\n",
    "'''\n",
    "My favorite search engine is [Duck Duck Go](https://duckduckgo.com \"The best search engine for privacy\").\n",
    "'''"
   ]
  },
  {
   "cell_type": "markdown",
   "id": "07623d7a",
   "metadata": {},
   "source": [
    "My favorite search engine is [Duck Duck Go](https://duckduckgo.com \"The best search engine for privacy\")."
   ]
  },
  {
   "cell_type": "markdown",
   "id": "b49cf610",
   "metadata": {},
   "source": [
    "## URLs and Email Addresses"
   ]
  },
  {
   "cell_type": "code",
   "execution_count": null,
   "id": "a084bb33",
   "metadata": {},
   "outputs": [],
   "source": [
    "# To quickly turn a URL or email address into a link, enclose it in angle brackets.\n",
    "'''\n",
    "<https://www.markdownguide.org>\n",
    "<fake@example.com>\n",
    "'''"
   ]
  },
  {
   "cell_type": "markdown",
   "id": "8be6ac52",
   "metadata": {},
   "source": [
    "<https://www.markdownguide.org>    \n",
    "<fake@example.com>"
   ]
  }
 ],
 "metadata": {
  "kernelspec": {
   "display_name": "Python 3 (ipykernel)",
   "language": "python",
   "name": "python3"
  },
  "language_info": {
   "codemirror_mode": {
    "name": "ipython",
    "version": 3
   },
   "file_extension": ".py",
   "mimetype": "text/x-python",
   "name": "python",
   "nbconvert_exporter": "python",
   "pygments_lexer": "ipython3",
   "version": "3.7.12"
  },
  "toc": {
   "base_numbering": 1,
   "nav_menu": {},
   "number_sections": true,
   "sideBar": true,
   "skip_h1_title": false,
   "title_cell": "Table of Contents",
   "title_sidebar": "Contents",
   "toc_cell": false,
   "toc_position": {},
   "toc_section_display": true,
   "toc_window_display": false
  }
 },
 "nbformat": 4,
 "nbformat_minor": 5
}
