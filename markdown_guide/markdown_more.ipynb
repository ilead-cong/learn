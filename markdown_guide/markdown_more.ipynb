{
 "cells": [
  {
   "cell_type": "markdown",
   "id": "dc7d5ec6",
   "metadata": {},
   "source": [
    "# markdown_more\n",
    "\n",
    "20220531"
   ]
  },
  {
   "cell_type": "markdown",
   "id": "5a13d754",
   "metadata": {},
   "source": [
    "## underline"
   ]
  },
  {
   "cell_type": "code",
   "execution_count": null,
   "id": "b173934c",
   "metadata": {},
   "outputs": [],
   "source": [
    "'''\n",
    "some of these words <ins>will be underlined</ins>\n",
    "'''"
   ]
  },
  {
   "cell_type": "markdown",
   "id": "f3dfce01",
   "metadata": {},
   "source": [
    "some of these words <ins>will be underlined</ins>"
   ]
  },
  {
   "cell_type": "markdown",
   "id": "55da38bf",
   "metadata": {},
   "source": [
    "## center"
   ]
  },
  {
   "cell_type": "code",
   "execution_count": null,
   "id": "4d0ee588",
   "metadata": {},
   "outputs": [],
   "source": [
    "'''\n",
    "<center>This text is centered.</center>\n",
    "'''"
   ]
  },
  {
   "cell_type": "markdown",
   "id": "5a3062f5",
   "metadata": {},
   "source": [
    "<center>this text is centered.</center>"
   ]
  },
  {
   "cell_type": "code",
   "execution_count": null,
   "id": "9c61a59d",
   "metadata": {},
   "outputs": [],
   "source": [
    "'''\n",
    "<p style=\"text-align:center\">Center this text</p>\n",
    "'''"
   ]
  },
  {
   "cell_type": "markdown",
   "id": "d3452768",
   "metadata": {},
   "source": [
    "<p style=\"text-align:center\">Center this text</p>"
   ]
  },
  {
   "cell_type": "markdown",
   "id": "4179f8a8",
   "metadata": {},
   "source": [
    "## color"
   ]
  },
  {
   "cell_type": "code",
   "execution_count": null,
   "id": "835decdf",
   "metadata": {},
   "outputs": [],
   "source": [
    "# The color attribute allows you to specify the font color using a color’s name or the hexadecimal #RRGGBB code.\n",
    "'''\n",
    "<font color=\"red\">This text is red!</font>\n",
    "'''"
   ]
  },
  {
   "cell_type": "markdown",
   "id": "90a15735",
   "metadata": {},
   "source": [
    "<font color=\"red\">This text is red!</font>"
   ]
  },
  {
   "cell_type": "code",
   "execution_count": 2,
   "id": "9b84c270",
   "metadata": {},
   "outputs": [
    {
     "data": {
      "text/plain": [
       "'\\n<p style=\"color:blue\">Make text blue.</p>\\n'"
      ]
     },
     "execution_count": 2,
     "metadata": {},
     "output_type": "execute_result"
    }
   ],
   "source": [
    "'''\n",
    "<p style=\"color:blue\">Make text blue.</p>\n",
    "'''"
   ]
  },
  {
   "cell_type": "markdown",
   "id": "27364ff4",
   "metadata": {},
   "source": [
    "<p style=\"color:blue\">Make text blue.</p>"
   ]
  },
  {
   "cell_type": "markdown",
   "id": "1b2d7417",
   "metadata": {},
   "source": [
    "## comments"
   ]
  },
  {
   "cell_type": "code",
   "execution_count": null,
   "id": "bc31480a",
   "metadata": {},
   "outputs": [],
   "source": [
    "#To add a comment, place text inside brackets followed by a colon, a space, and a pound sign (e.g., [comment]: #). You should put blank lines before and after a comment.\n",
    "'''\n",
    "Here's a paragraph that will be visible.\n",
    "\n",
    "[This is a comment that will be hidden.]: # \n",
    "\n",
    "And here's another paragraph that's visible.\n",
    "'''"
   ]
  },
  {
   "cell_type": "markdown",
   "id": "eb2fd14c",
   "metadata": {},
   "source": [
    "Here's a paragraph that will be visible.\n",
    "\n",
    "[this is a comment that will be hidden.]:#\n",
    "\n",
    "And here's another paragraph that's visible."
   ]
  },
  {
   "cell_type": "markdown",
   "id": "8b69ac23",
   "metadata": {},
   "source": [
    "## Admonitions"
   ]
  },
  {
   "cell_type": "code",
   "execution_count": null,
   "id": "78f08057",
   "metadata": {},
   "outputs": [],
   "source": [
    "'''\n",
    "> :warning: **Warning:** Do not push the big red button.\n",
    "\n",
    "> :memo: **Note:** Sunrises are beautiful.\n",
    "\n",
    "> :bulb: **Tip:** Remember to appreciate the little things in life.\n",
    "'''"
   ]
  },
  {
   "cell_type": "markdown",
   "id": "7aa3fbc1",
   "metadata": {},
   "source": [
    "> :warning: **Warning** Do not push the big red button.\n",
    "\n",
    "> :memo: **Note:** Sunrise are beautiful\n",
    "\n",
    "> :bulb: **Tip:** Remember to appreciate the little things in life."
   ]
  },
  {
   "cell_type": "markdown",
   "id": "51bbb2db",
   "metadata": {},
   "source": [
    "## image size"
   ]
  },
  {
   "cell_type": "code",
   "execution_count": null,
   "id": "17db4a96",
   "metadata": {},
   "outputs": [],
   "source": [
    "'''\n",
    "<img src=\"image.png\" width=\"200\" height=\"100\">\n",
    "'''"
   ]
  },
  {
   "cell_type": "markdown",
   "id": "814c96e8",
   "metadata": {},
   "source": [
    "<img src=\"image.png\" width=\"200\" height=\"100\">"
   ]
  },
  {
   "cell_type": "markdown",
   "id": "24cc8d3e",
   "metadata": {},
   "source": [
    "## Image Captions"
   ]
  },
  {
   "cell_type": "code",
   "execution_count": null,
   "id": "a788b533",
   "metadata": {},
   "outputs": [],
   "source": [
    "'''\n",
    "<figure>\n",
    "    <img src=\"/assets/images/albuquerque.jpg\"\n",
    "         alt=\"Albuquerque, New Mexico\">\n",
    "    <figcaption>A single track trail outside of Albuquerque, New Mexico.</figcaption>\n",
    "</figure>\n",
    "'''"
   ]
  },
  {
   "cell_type": "markdown",
   "id": "e08660f2",
   "metadata": {},
   "source": [
    "<figure>\n",
    "    <img src=\"/assets/images/albuquerque.jpg\"\n",
    "        alt=\"Albuquerque, New Mexico\">\n",
    "    <figcaption>A single track trail outside of Albuquerque, New Mexico.</figcaption>\n",
    "</figure>"
   ]
  },
  {
   "cell_type": "markdown",
   "id": "d2b5e01d",
   "metadata": {},
   "source": [
    "## link targets"
   ]
  },
  {
   "cell_type": "code",
   "execution_count": null,
   "id": "250689c6",
   "metadata": {},
   "outputs": [],
   "source": [
    "'''\n",
    "<a href=\"https://www.markdownguide.org\" target=\"_blank\">Learn Markdown!</a>\n",
    "'''"
   ]
  },
  {
   "cell_type": "markdown",
   "id": "284d200b",
   "metadata": {},
   "source": [
    "<a href=\"https://www.markdownguide.org\" target=\"_blank\">Learn Markdown!</a>"
   ]
  },
  {
   "cell_type": "markdown",
   "id": "208ef5e2",
   "metadata": {},
   "source": [
    "## table formatting"
   ]
  },
  {
   "cell_type": "markdown",
   "id": "ebafd155",
   "metadata": {},
   "source": [
    "### Line Breaks Within Table Cells"
   ]
  },
  {
   "cell_type": "code",
   "execution_count": null,
   "id": "3fc4b340",
   "metadata": {},
   "outputs": [],
   "source": [
    "# You can separate paragraphs within a table cell by using one or more <br> HTML tags.\n",
    "'''\n",
    "| Syntax      | Description |\n",
    "| ----------- | ----------- |\n",
    "| Header      | Title |\n",
    "| Paragraph   | First paragraph. <br><br> Second paragraph. |\n",
    "'''"
   ]
  },
  {
   "cell_type": "markdown",
   "id": "8d93d687",
   "metadata": {},
   "source": [
    "| Syntax    | Description |\n",
    "|------------| ------------ |\n",
    "| Header   | title|\n",
    "| paragraph | First paragraph. <br><br>second paragraph. |"
   ]
  },
  {
   "cell_type": "markdown",
   "id": "bb991a96",
   "metadata": {},
   "source": [
    "### lists within table cells"
   ]
  },
  {
   "cell_type": "code",
   "execution_count": 5,
   "id": "e348079f",
   "metadata": {},
   "outputs": [
    {
     "data": {
      "text/plain": [
       "'\\n| Syntax   | Description |\\n| -------- | ----------- |\\n| header   | title |\\n| list     | here is a list!<ul><li>item one.</li><li>item two.</li></ul> |\\n'"
      ]
     },
     "execution_count": 5,
     "metadata": {},
     "output_type": "execute_result"
    }
   ],
   "source": [
    "# You can add a list within a table cell by using HTML tags.\n",
    "'''\n",
    "| Syntax   | Description |\n",
    "| -------- | ----------- |\n",
    "| header   | title |\n",
    "| list     | here is a list!<ul><li>item one.</li><li>item two.</li></ul> |\n",
    "'''"
   ]
  },
  {
   "cell_type": "markdown",
   "id": "60c7d87b",
   "metadata": {},
   "source": [
    "| Syntax   | Description |\n",
    "| -------- | ----------- |\n",
    "| header   | title |\n",
    "| list     | here is a list!<ul><li>item one.</li><li>item two.</li></ul> |"
   ]
  },
  {
   "cell_type": "markdown",
   "id": "17c8fc33",
   "metadata": {},
   "source": [
    "## table of contents"
   ]
  },
  {
   "cell_type": "code",
   "execution_count": null,
   "id": "aaddbbc5",
   "metadata": {},
   "outputs": [],
   "source": [
    "'''\n",
    "#### Table of Contents\n",
    "\n",
    "- [Underline](#underline)\n",
    "- [Indent](#indent)\n",
    "- [Center](#center)\n",
    "- [Color](#color)\n",
    "'''"
   ]
  },
  {
   "cell_type": "markdown",
   "id": "359e9669",
   "metadata": {},
   "source": [
    "#### Table of Contents\n",
    "\n",
    "- [Underline](#underline)\n",
    "- [Indent](#indent)\n",
    "- [Center](#center)\n",
    "- [Color](#color)"
   ]
  }
 ],
 "metadata": {
  "kernelspec": {
   "display_name": "Python 3 (ipykernel)",
   "language": "python",
   "name": "python3"
  },
  "language_info": {
   "codemirror_mode": {
    "name": "ipython",
    "version": 3
   },
   "file_extension": ".py",
   "mimetype": "text/x-python",
   "name": "python",
   "nbconvert_exporter": "python",
   "pygments_lexer": "ipython3",
   "version": "3.7.12"
  },
  "toc": {
   "base_numbering": 1,
   "nav_menu": {},
   "number_sections": true,
   "sideBar": true,
   "skip_h1_title": false,
   "title_cell": "Table of Contents",
   "title_sidebar": "Contents",
   "toc_cell": false,
   "toc_position": {},
   "toc_section_display": true,
   "toc_window_display": false
  }
 },
 "nbformat": 4,
 "nbformat_minor": 5
}
